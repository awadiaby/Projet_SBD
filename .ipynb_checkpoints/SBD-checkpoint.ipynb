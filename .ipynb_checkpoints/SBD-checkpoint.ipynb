{
 "cells": [
  {
   "cell_type": "markdown",
   "metadata": {},
   "source": [
    "## Authors : Amadou DIA & Awa DIABY                                      \n",
    "## Created : April 2021          \n",
    "<h2><p style=\"text-align: center;\">M1 - MIAGE - SBD Project – Differential privacy</p></h2>"
   ]
  },
  {
   "cell_type": "code",
   "execution_count": 1,
   "metadata": {},
   "outputs": [],
   "source": [
    "import pandas as pd\n",
    "import numpy as np\n",
    "import matplotlib.pyplot as plt\n",
    "import cmath\n",
    "from collections.abc import Sequence\n",
    "from scipy.stats import wasserstein_distance"
   ]
  },
  {
   "cell_type": "markdown",
   "metadata": {},
   "source": [
    "### Chargement des données d'étude"
   ]
  },
  {
   "cell_type": "code",
   "execution_count": 2,
   "metadata": {
    "scrolled": false
   },
   "outputs": [
    {
     "data": {
      "text/html": [
       "<div>\n",
       "<style scoped>\n",
       "    .dataframe tbody tr th:only-of-type {\n",
       "        vertical-align: middle;\n",
       "    }\n",
       "\n",
       "    .dataframe tbody tr th {\n",
       "        vertical-align: top;\n",
       "    }\n",
       "\n",
       "    .dataframe thead th {\n",
       "        text-align: right;\n",
       "    }\n",
       "</style>\n",
       "<table border=\"1\" class=\"dataframe\">\n",
       "  <thead>\n",
       "    <tr style=\"text-align: right;\">\n",
       "      <th></th>\n",
       "      <th>Age</th>\n",
       "      <th>Workclass</th>\n",
       "      <th>Fnlwgt</th>\n",
       "      <th>Education</th>\n",
       "      <th>Education-num</th>\n",
       "      <th>Marital-status</th>\n",
       "      <th>Occupation</th>\n",
       "      <th>Relationship</th>\n",
       "      <th>Race</th>\n",
       "      <th>Sex</th>\n",
       "      <th>Capital-gain</th>\n",
       "      <th>Capital-loss</th>\n",
       "      <th>Hours-per-week</th>\n",
       "      <th>Native-country</th>\n",
       "      <th>Income</th>\n",
       "    </tr>\n",
       "  </thead>\n",
       "  <tbody>\n",
       "    <tr>\n",
       "      <th>0</th>\n",
       "      <td>39</td>\n",
       "      <td>State-gov</td>\n",
       "      <td>77516</td>\n",
       "      <td>Bachelors</td>\n",
       "      <td>13</td>\n",
       "      <td>Never-married</td>\n",
       "      <td>Adm-clerical</td>\n",
       "      <td>Not-in-family</td>\n",
       "      <td>White</td>\n",
       "      <td>Male</td>\n",
       "      <td>2174</td>\n",
       "      <td>0</td>\n",
       "      <td>40</td>\n",
       "      <td>United-States</td>\n",
       "      <td>&lt;=50K</td>\n",
       "    </tr>\n",
       "    <tr>\n",
       "      <th>1</th>\n",
       "      <td>50</td>\n",
       "      <td>Self-emp-not-inc</td>\n",
       "      <td>83311</td>\n",
       "      <td>Bachelors</td>\n",
       "      <td>13</td>\n",
       "      <td>Married-civ-spouse</td>\n",
       "      <td>Exec-managerial</td>\n",
       "      <td>Husband</td>\n",
       "      <td>White</td>\n",
       "      <td>Male</td>\n",
       "      <td>0</td>\n",
       "      <td>0</td>\n",
       "      <td>13</td>\n",
       "      <td>United-States</td>\n",
       "      <td>&lt;=50K</td>\n",
       "    </tr>\n",
       "    <tr>\n",
       "      <th>2</th>\n",
       "      <td>38</td>\n",
       "      <td>Private</td>\n",
       "      <td>215646</td>\n",
       "      <td>HS-grad</td>\n",
       "      <td>9</td>\n",
       "      <td>Divorced</td>\n",
       "      <td>Handlers-cleaners</td>\n",
       "      <td>Not-in-family</td>\n",
       "      <td>White</td>\n",
       "      <td>Male</td>\n",
       "      <td>0</td>\n",
       "      <td>0</td>\n",
       "      <td>40</td>\n",
       "      <td>United-States</td>\n",
       "      <td>&lt;=50K</td>\n",
       "    </tr>\n",
       "    <tr>\n",
       "      <th>3</th>\n",
       "      <td>53</td>\n",
       "      <td>Private</td>\n",
       "      <td>234721</td>\n",
       "      <td>11th</td>\n",
       "      <td>7</td>\n",
       "      <td>Married-civ-spouse</td>\n",
       "      <td>Handlers-cleaners</td>\n",
       "      <td>Husband</td>\n",
       "      <td>Black</td>\n",
       "      <td>Male</td>\n",
       "      <td>0</td>\n",
       "      <td>0</td>\n",
       "      <td>40</td>\n",
       "      <td>United-States</td>\n",
       "      <td>&lt;=50K</td>\n",
       "    </tr>\n",
       "    <tr>\n",
       "      <th>4</th>\n",
       "      <td>28</td>\n",
       "      <td>Private</td>\n",
       "      <td>338409</td>\n",
       "      <td>Bachelors</td>\n",
       "      <td>13</td>\n",
       "      <td>Married-civ-spouse</td>\n",
       "      <td>Prof-specialty</td>\n",
       "      <td>Wife</td>\n",
       "      <td>Black</td>\n",
       "      <td>Female</td>\n",
       "      <td>0</td>\n",
       "      <td>0</td>\n",
       "      <td>40</td>\n",
       "      <td>Cuba</td>\n",
       "      <td>&lt;=50K</td>\n",
       "    </tr>\n",
       "  </tbody>\n",
       "</table>\n",
       "</div>"
      ],
      "text/plain": [
       "   Age          Workclass   Fnlwgt   Education   Education-num  \\\n",
       "0   39          State-gov    77516   Bachelors              13   \n",
       "1   50   Self-emp-not-inc    83311   Bachelors              13   \n",
       "2   38            Private   215646     HS-grad               9   \n",
       "3   53            Private   234721        11th               7   \n",
       "4   28            Private   338409   Bachelors              13   \n",
       "\n",
       "        Marital-status          Occupation    Relationship    Race      Sex  \\\n",
       "0        Never-married        Adm-clerical   Not-in-family   White     Male   \n",
       "1   Married-civ-spouse     Exec-managerial         Husband   White     Male   \n",
       "2             Divorced   Handlers-cleaners   Not-in-family   White     Male   \n",
       "3   Married-civ-spouse   Handlers-cleaners         Husband   Black     Male   \n",
       "4   Married-civ-spouse      Prof-specialty            Wife   Black   Female   \n",
       "\n",
       "    Capital-gain   Capital-loss  Hours-per-week  Native-country  Income  \n",
       "0           2174              0              40   United-States   <=50K  \n",
       "1              0              0              13   United-States   <=50K  \n",
       "2              0              0              40   United-States   <=50K  \n",
       "3              0              0              40   United-States   <=50K  \n",
       "4              0              0              40            Cuba   <=50K  "
      ]
     },
     "execution_count": 2,
     "metadata": {},
     "output_type": "execute_result"
    }
   ],
   "source": [
    "# Load the data:\n",
    "data= pd.read_csv('adult.data')\n",
    "data.head()"
   ]
  },
  {
   "cell_type": "markdown",
   "metadata": {},
   "source": [
    "### H1 Histogram of Education level"
   ]
  },
  {
   "cell_type": "code",
   "execution_count": 3,
   "metadata": {
    "scrolled": true
   },
   "outputs": [
    {
     "data": {
      "text/html": [
       "<div>\n",
       "<style scoped>\n",
       "    .dataframe tbody tr th:only-of-type {\n",
       "        vertical-align: middle;\n",
       "    }\n",
       "\n",
       "    .dataframe tbody tr th {\n",
       "        vertical-align: top;\n",
       "    }\n",
       "\n",
       "    .dataframe thead th {\n",
       "        text-align: right;\n",
       "    }\n",
       "</style>\n",
       "<table border=\"1\" class=\"dataframe\">\n",
       "  <thead>\n",
       "    <tr style=\"text-align: right;\">\n",
       "      <th></th>\n",
       "      <th>Education</th>\n",
       "      <th>Education-num</th>\n",
       "    </tr>\n",
       "  </thead>\n",
       "  <tbody>\n",
       "    <tr>\n",
       "      <th>0</th>\n",
       "      <td>Bachelors</td>\n",
       "      <td>13</td>\n",
       "    </tr>\n",
       "    <tr>\n",
       "      <th>1</th>\n",
       "      <td>Bachelors</td>\n",
       "      <td>13</td>\n",
       "    </tr>\n",
       "    <tr>\n",
       "      <th>2</th>\n",
       "      <td>HS-grad</td>\n",
       "      <td>9</td>\n",
       "    </tr>\n",
       "    <tr>\n",
       "      <th>3</th>\n",
       "      <td>11th</td>\n",
       "      <td>7</td>\n",
       "    </tr>\n",
       "    <tr>\n",
       "      <th>4</th>\n",
       "      <td>Bachelors</td>\n",
       "      <td>13</td>\n",
       "    </tr>\n",
       "    <tr>\n",
       "      <th>...</th>\n",
       "      <td>...</td>\n",
       "      <td>...</td>\n",
       "    </tr>\n",
       "    <tr>\n",
       "      <th>32556</th>\n",
       "      <td>Assoc-acdm</td>\n",
       "      <td>12</td>\n",
       "    </tr>\n",
       "    <tr>\n",
       "      <th>32557</th>\n",
       "      <td>HS-grad</td>\n",
       "      <td>9</td>\n",
       "    </tr>\n",
       "    <tr>\n",
       "      <th>32558</th>\n",
       "      <td>HS-grad</td>\n",
       "      <td>9</td>\n",
       "    </tr>\n",
       "    <tr>\n",
       "      <th>32559</th>\n",
       "      <td>HS-grad</td>\n",
       "      <td>9</td>\n",
       "    </tr>\n",
       "    <tr>\n",
       "      <th>32560</th>\n",
       "      <td>HS-grad</td>\n",
       "      <td>9</td>\n",
       "    </tr>\n",
       "  </tbody>\n",
       "</table>\n",
       "<p>32561 rows × 2 columns</p>\n",
       "</div>"
      ],
      "text/plain": [
       "         Education   Education-num\n",
       "0        Bachelors              13\n",
       "1        Bachelors              13\n",
       "2          HS-grad               9\n",
       "3             11th               7\n",
       "4        Bachelors              13\n",
       "...            ...             ...\n",
       "32556   Assoc-acdm              12\n",
       "32557      HS-grad               9\n",
       "32558      HS-grad               9\n",
       "32559      HS-grad               9\n",
       "32560      HS-grad               9\n",
       "\n",
       "[32561 rows x 2 columns]"
      ]
     },
     "execution_count": 3,
     "metadata": {},
     "output_type": "execute_result"
    }
   ],
   "source": [
    "# Load the Education donner\n",
    "df_education = data[['Education',' Education-num']]\n",
    "df_education"
   ]
  },
  {
   "cell_type": "markdown",
   "metadata": {},
   "source": [
    "<p>Dans l'entrée ci-dessous, on récupère la colonne Education-num qui correspond à Education level</p>"
   ]
  },
  {
   "cell_type": "code",
   "execution_count": 4,
   "metadata": {},
   "outputs": [
    {
     "data": {
      "text/plain": [
       "0        13\n",
       "1        13\n",
       "2         9\n",
       "3         7\n",
       "4        13\n",
       "         ..\n",
       "32556    12\n",
       "32557     9\n",
       "32558     9\n",
       "32559     9\n",
       "32560     9\n",
       "Name:  Education-num, Length: 32561, dtype: int64"
      ]
     },
     "execution_count": 4,
     "metadata": {},
     "output_type": "execute_result"
    }
   ],
   "source": [
    "df_education_num = df_education[' Education-num']\n",
    "df_education_num"
   ]
  },
  {
   "cell_type": "code",
   "execution_count": 5,
   "metadata": {},
   "outputs": [
    {
     "data": {
      "image/png": "[encoded data removed]",
      "text/plain": [
       "<Figure size 864x576 with 1 Axes>"
      ]
     },
     "metadata": {
      "needs_background": "light"
     },
     "output_type": "display_data"
    }
   ],
   "source": [
    "plt.figure(figsize=(12,8))\n",
    "(education_num_histogram, bins, patches) = plt.hist(df_education_num, bins=40)\n",
    "plt.gca().set(title='Histogramme du niveau d\\'éducation', xlabel='Education');"
   ]
  },
  {
   "cell_type": "markdown",
   "metadata": {},
   "source": [
    "### H2 Histogram of working hours per week for people with income over 50K"
   ]
  },
  {
   "cell_type": "markdown",
   "metadata": {},
   "source": [
    "<p>On récupère ci-dessous, les colonnes 'Hours-per-week','Income' qui vont nous permettre de récupérer les horaires de travail par semaine des individus ayant un revenu qui >= 50K</p>"
   ]
  },
  {
   "cell_type": "code",
   "execution_count": 6,
   "metadata": {},
   "outputs": [
    {
     "data": {
      "text/html": [
       "<div>\n",
       "<style scoped>\n",
       "    .dataframe tbody tr th:only-of-type {\n",
       "        vertical-align: middle;\n",
       "    }\n",
       "\n",
       "    .dataframe tbody tr th {\n",
       "        vertical-align: top;\n",
       "    }\n",
       "\n",
       "    .dataframe thead th {\n",
       "        text-align: right;\n",
       "    }\n",
       "</style>\n",
       "<table border=\"1\" class=\"dataframe\">\n",
       "  <thead>\n",
       "    <tr style=\"text-align: right;\">\n",
       "      <th></th>\n",
       "      <th>Hours-per-week</th>\n",
       "      <th>Income</th>\n",
       "    </tr>\n",
       "  </thead>\n",
       "  <tbody>\n",
       "    <tr>\n",
       "      <th>0</th>\n",
       "      <td>40</td>\n",
       "      <td>&lt;=50K</td>\n",
       "    </tr>\n",
       "    <tr>\n",
       "      <th>1</th>\n",
       "      <td>13</td>\n",
       "      <td>&lt;=50K</td>\n",
       "    </tr>\n",
       "    <tr>\n",
       "      <th>2</th>\n",
       "      <td>40</td>\n",
       "      <td>&lt;=50K</td>\n",
       "    </tr>\n",
       "    <tr>\n",
       "      <th>3</th>\n",
       "      <td>40</td>\n",
       "      <td>&lt;=50K</td>\n",
       "    </tr>\n",
       "    <tr>\n",
       "      <th>4</th>\n",
       "      <td>40</td>\n",
       "      <td>&lt;=50K</td>\n",
       "    </tr>\n",
       "    <tr>\n",
       "      <th>...</th>\n",
       "      <td>...</td>\n",
       "      <td>...</td>\n",
       "    </tr>\n",
       "    <tr>\n",
       "      <th>32556</th>\n",
       "      <td>38</td>\n",
       "      <td>&lt;=50K</td>\n",
       "    </tr>\n",
       "    <tr>\n",
       "      <th>32557</th>\n",
       "      <td>40</td>\n",
       "      <td>&gt;50K</td>\n",
       "    </tr>\n",
       "    <tr>\n",
       "      <th>32558</th>\n",
       "      <td>40</td>\n",
       "      <td>&lt;=50K</td>\n",
       "    </tr>\n",
       "    <tr>\n",
       "      <th>32559</th>\n",
       "      <td>20</td>\n",
       "      <td>&lt;=50K</td>\n",
       "    </tr>\n",
       "    <tr>\n",
       "      <th>32560</th>\n",
       "      <td>40</td>\n",
       "      <td>&gt;50K</td>\n",
       "    </tr>\n",
       "  </tbody>\n",
       "</table>\n",
       "<p>32561 rows × 2 columns</p>\n",
       "</div>"
      ],
      "text/plain": [
       "       Hours-per-week  Income\n",
       "0                  40   <=50K\n",
       "1                  13   <=50K\n",
       "2                  40   <=50K\n",
       "3                  40   <=50K\n",
       "4                  40   <=50K\n",
       "...               ...     ...\n",
       "32556              38   <=50K\n",
       "32557              40    >50K\n",
       "32558              40   <=50K\n",
       "32559              20   <=50K\n",
       "32560              40    >50K\n",
       "\n",
       "[32561 rows x 2 columns]"
      ]
     },
     "execution_count": 6,
     "metadata": {},
     "output_type": "execute_result"
    }
   ],
   "source": [
    "df_hours_per_week = data[['Hours-per-week','Income']] \n",
    "df_hours_per_week"
   ]
  },
  {
   "cell_type": "markdown",
   "metadata": {},
   "source": [
    "#### Dans l'entrée suivante, on récupère les horaires par semaine pour les personnes ayant un revenu est supérieur ou égal à 50K, en utilisant le dataframe créé juste en haut"
   ]
  },
  {
   "cell_type": "code",
   "execution_count": 7,
   "metadata": {},
   "outputs": [
    {
     "data": {
      "text/html": [
       "<div>\n",
       "<style scoped>\n",
       "    .dataframe tbody tr th:only-of-type {\n",
       "        vertical-align: middle;\n",
       "    }\n",
       "\n",
       "    .dataframe tbody tr th {\n",
       "        vertical-align: top;\n",
       "    }\n",
       "\n",
       "    .dataframe thead th {\n",
       "        text-align: right;\n",
       "    }\n",
       "</style>\n",
       "<table border=\"1\" class=\"dataframe\">\n",
       "  <thead>\n",
       "    <tr style=\"text-align: right;\">\n",
       "      <th></th>\n",
       "      <th>Hours-per-week</th>\n",
       "      <th>Income</th>\n",
       "    </tr>\n",
       "  </thead>\n",
       "  <tbody>\n",
       "    <tr>\n",
       "      <th>7</th>\n",
       "      <td>45</td>\n",
       "      <td>&gt;50K</td>\n",
       "    </tr>\n",
       "    <tr>\n",
       "      <th>8</th>\n",
       "      <td>50</td>\n",
       "      <td>&gt;50K</td>\n",
       "    </tr>\n",
       "    <tr>\n",
       "      <th>9</th>\n",
       "      <td>40</td>\n",
       "      <td>&gt;50K</td>\n",
       "    </tr>\n",
       "    <tr>\n",
       "      <th>10</th>\n",
       "      <td>80</td>\n",
       "      <td>&gt;50K</td>\n",
       "    </tr>\n",
       "    <tr>\n",
       "      <th>11</th>\n",
       "      <td>40</td>\n",
       "      <td>&gt;50K</td>\n",
       "    </tr>\n",
       "    <tr>\n",
       "      <th>...</th>\n",
       "      <td>...</td>\n",
       "      <td>...</td>\n",
       "    </tr>\n",
       "    <tr>\n",
       "      <th>32539</th>\n",
       "      <td>10</td>\n",
       "      <td>&gt;50K</td>\n",
       "    </tr>\n",
       "    <tr>\n",
       "      <th>32545</th>\n",
       "      <td>20</td>\n",
       "      <td>&gt;50K</td>\n",
       "    </tr>\n",
       "    <tr>\n",
       "      <th>32554</th>\n",
       "      <td>40</td>\n",
       "      <td>&gt;50K</td>\n",
       "    </tr>\n",
       "    <tr>\n",
       "      <th>32557</th>\n",
       "      <td>40</td>\n",
       "      <td>&gt;50K</td>\n",
       "    </tr>\n",
       "    <tr>\n",
       "      <th>32560</th>\n",
       "      <td>40</td>\n",
       "      <td>&gt;50K</td>\n",
       "    </tr>\n",
       "  </tbody>\n",
       "</table>\n",
       "<p>7841 rows × 2 columns</p>\n",
       "</div>"
      ],
      "text/plain": [
       "       Hours-per-week Income\n",
       "7                  45   >50K\n",
       "8                  50   >50K\n",
       "9                  40   >50K\n",
       "10                 80   >50K\n",
       "11                 40   >50K\n",
       "...               ...    ...\n",
       "32539              10   >50K\n",
       "32545              20   >50K\n",
       "32554              40   >50K\n",
       "32557              40   >50K\n",
       "32560              40   >50K\n",
       "\n",
       "[7841 rows x 2 columns]"
      ]
     },
     "execution_count": 7,
     "metadata": {},
     "output_type": "execute_result"
    }
   ],
   "source": [
    "df_income_over_50k = pd.DataFrame(df_hours_per_week)\n",
    "df_income_over_50k = df_income_over_50k[df_income_over_50k['Income'] == ' >50K']\n",
    "df_income_over_50k"
   ]
  },
  {
   "cell_type": "code",
   "execution_count": 8,
   "metadata": {},
   "outputs": [
    {
     "data": {
      "text/plain": [
       "7        45\n",
       "8        50\n",
       "9        40\n",
       "10       80\n",
       "11       40\n",
       "         ..\n",
       "32539    10\n",
       "32545    20\n",
       "32554    40\n",
       "32557    40\n",
       "32560    40\n",
       "Name: Hours-per-week, Length: 7841, dtype: int64"
      ]
     },
     "execution_count": 8,
     "metadata": {},
     "output_type": "execute_result"
    }
   ],
   "source": [
    "df_income_over_50k = df_income_over_50k['Hours-per-week']\n",
    "df_income_over_50k"
   ]
  },
  {
   "cell_type": "code",
   "execution_count": 9,
   "metadata": {
    "scrolled": false
   },
   "outputs": [
    {
     "data": {
      "image/png": "[encoded data removed]",
      "text/plain": [
       "<Figure size 864x576 with 1 Axes>"
      ]
     },
     "metadata": {
      "needs_background": "light"
     },
     "output_type": "display_data"
    }
   ],
   "source": [
    "plt.figure(figsize=(12,8))\n",
    "(df_income_over_50k_histogram, bins, patches) = plt.hist(df_income_over_50k, bins=40)\n",
    "plt.gca().set(title='Histogramme horaires / semaine pour les personnes avec revenu >= 50K', xlabel='Working Hours-per-week');"
   ]
  },
  {
   "cell_type": "markdown",
   "metadata": {},
   "source": [
    "# 1. Mecanisme de Laplace pour les histogrammes"
   ]
  },
  {
   "cell_type": "markdown",
   "metadata": {},
   "source": [
    "### Q1 \n",
    "<p>La sensibilité de la fonction qui calcule le bin d'un histogramme est +/-1 car chaque barre d'histogramme représente une requête count.<p>\n",
    "<p>La sensibilité de l'histogramme complète depend de la disposition des barres de l'histogramme. Si celles-ci ne s'intersectent pas, elle est égale au max des bins des différentes barres sinon la sensibilité est égale à la somme des bins de chaque barre </p>"
   ]
  },
  {
   "cell_type": "markdown",
   "metadata": {},
   "source": [
    "### Q2 : Use mechanism Laplace to compute query H1 with {0.01, 0.1, 1}"
   ]
  },
  {
   "cell_type": "markdown",
   "metadata": {},
   "source": [
    "#### Récupération des bins de l'histogramme de niveau d'éducation"
   ]
  },
  {
   "cell_type": "code",
   "execution_count": 10,
   "metadata": {},
   "outputs": [
    {
     "data": {
      "text/plain": [
       "array([   51.,     0.,   168.,     0.,     0.,   333.,     0.,     0.,\n",
       "         646.,     0.,   514.,     0.,     0.,   933.,     0.,     0.,\n",
       "        1175.,     0.,   433.,     0.,     0., 10501.,     0.,     0.,\n",
       "        7291.,     0.,  1382.,     0.,     0.,  1067.,     0.,     0.,\n",
       "        5355.,     0.,  1723.,     0.,     0.,   576.,     0.,   413.])"
      ]
     },
     "execution_count": 10,
     "metadata": {},
     "output_type": "execute_result"
    }
   ],
   "source": [
    "education_num_histogram #bins de l'histogramme"
   ]
  },
  {
   "cell_type": "code",
   "execution_count": 11,
   "metadata": {},
   "outputs": [
    {
     "data": {
      "text/plain": [
       "array([  356.60594103,   305.60594103,   473.60594103,   305.60594103,\n",
       "         305.60594103,   638.60594103,   305.60594103,   305.60594103,\n",
       "         951.60594103,   305.60594103,   819.60594103,   305.60594103,\n",
       "         305.60594103,  1238.60594103,   305.60594103,   305.60594103,\n",
       "        1480.60594103,   305.60594103,   738.60594103,   305.60594103,\n",
       "         305.60594103, 10806.60594103,   305.60594103,   305.60594103,\n",
       "        7596.60594103,   305.60594103,  1687.60594103,   305.60594103,\n",
       "         305.60594103,  1372.60594103,   305.60594103,   305.60594103,\n",
       "        5660.60594103,   305.60594103,  2028.60594103,   305.60594103,\n",
       "         305.60594103,   881.60594103,   305.60594103,   718.60594103])"
      ]
     },
     "execution_count": 11,
     "metadata": {},
     "output_type": "execute_result"
    }
   ],
   "source": [
    "## Ajout du bruit à l'histogramme de H1 avec epsilon = 0.01\n",
    "sensitivity = 1\n",
    "epsilon = 0.01\n",
    "df_education_num_001 = education_num_histogram + np.random.laplace(loc=0, scale=sensitivity/epsilon)\n",
    "df_education_num_001"
   ]
  },
  {
   "cell_type": "code",
   "execution_count": 12,
   "metadata": {},
   "outputs": [
    {
     "data": {
      "text/html": [
       "<div>\n",
       "<style scoped>\n",
       "    .dataframe tbody tr th:only-of-type {\n",
       "        vertical-align: middle;\n",
       "    }\n",
       "\n",
       "    .dataframe tbody tr th {\n",
       "        vertical-align: top;\n",
       "    }\n",
       "\n",
       "    .dataframe thead th {\n",
       "        text-align: right;\n",
       "    }\n",
       "</style>\n",
       "<table border=\"1\" class=\"dataframe\">\n",
       "  <thead>\n",
       "    <tr style=\"text-align: right;\">\n",
       "      <th></th>\n",
       "      <th>histogram_bins</th>\n",
       "    </tr>\n",
       "  </thead>\n",
       "  <tbody>\n",
       "    <tr>\n",
       "      <th>0</th>\n",
       "      <td>356.605941</td>\n",
       "    </tr>\n",
       "    <tr>\n",
       "      <th>1</th>\n",
       "      <td>305.605941</td>\n",
       "    </tr>\n",
       "    <tr>\n",
       "      <th>2</th>\n",
       "      <td>473.605941</td>\n",
       "    </tr>\n",
       "    <tr>\n",
       "      <th>3</th>\n",
       "      <td>305.605941</td>\n",
       "    </tr>\n",
       "    <tr>\n",
       "      <th>4</th>\n",
       "      <td>305.605941</td>\n",
       "    </tr>\n",
       "    <tr>\n",
       "      <th>5</th>\n",
       "      <td>638.605941</td>\n",
       "    </tr>\n",
       "    <tr>\n",
       "      <th>6</th>\n",
       "      <td>305.605941</td>\n",
       "    </tr>\n",
       "    <tr>\n",
       "      <th>7</th>\n",
       "      <td>305.605941</td>\n",
       "    </tr>\n",
       "    <tr>\n",
       "      <th>8</th>\n",
       "      <td>951.605941</td>\n",
       "    </tr>\n",
       "    <tr>\n",
       "      <th>9</th>\n",
       "      <td>305.605941</td>\n",
       "    </tr>\n",
       "  </tbody>\n",
       "</table>\n",
       "</div>"
      ],
      "text/plain": [
       "   histogram_bins\n",
       "0      356.605941\n",
       "1      305.605941\n",
       "2      473.605941\n",
       "3      305.605941\n",
       "4      305.605941\n",
       "5      638.605941\n",
       "6      305.605941\n",
       "7      305.605941\n",
       "8      951.605941\n",
       "9      305.605941"
      ]
     },
     "execution_count": 12,
     "metadata": {},
     "output_type": "execute_result"
    }
   ],
   "source": [
    "pertub_education_histogram = pd.DataFrame(df_education_num_001)\n",
    "pertub_education_histogram.rename(index=str, columns={0:'histogram_bins'}).head(10)"
   ]
  },
  {
   "cell_type": "code",
   "execution_count": 13,
   "metadata": {},
   "outputs": [
    {
     "data": {
      "image/png": "[encoded data removed]",
      "text/plain": [
       "<Figure size 864x576 with 1 Axes>"
      ]
     },
     "metadata": {
      "needs_background": "light"
     },
     "output_type": "display_data"
    }
   ],
   "source": [
    "# Affichage de l'histogramme de H1 perturbé avec epsilon 0.01\n",
    "plt.figure(figsize=(12,8))\n",
    "plt.hist(pd.DataFrame(df_education_num_001), bins=40)\n",
    "plt.gca().set(title='Histogramme perturbé du niveau d\\'éducation; e=0.01', xlabel='Education Level');"
   ]
  },
  {
   "cell_type": "code",
   "execution_count": 14,
   "metadata": {},
   "outputs": [
    {
     "data": {
      "text/plain": [
       "array([   65.28658014,    14.28658014,   182.28658014,    14.28658014,\n",
       "          14.28658014,   347.28658014,    14.28658014,    14.28658014,\n",
       "         660.28658014,    14.28658014,   528.28658014,    14.28658014,\n",
       "          14.28658014,   947.28658014,    14.28658014,    14.28658014,\n",
       "        1189.28658014,    14.28658014,   447.28658014,    14.28658014,\n",
       "          14.28658014, 10515.28658014,    14.28658014,    14.28658014,\n",
       "        7305.28658014,    14.28658014,  1396.28658014,    14.28658014,\n",
       "          14.28658014,  1081.28658014,    14.28658014,    14.28658014,\n",
       "        5369.28658014,    14.28658014,  1737.28658014,    14.28658014,\n",
       "          14.28658014,   590.28658014,    14.28658014,   427.28658014])"
      ]
     },
     "execution_count": 14,
     "metadata": {},
     "output_type": "execute_result"
    }
   ],
   "source": [
    "## Ajout du bruit à l'histogramme de H1 avec epsilon = 0.1\n",
    "sensitivity = 1\n",
    "epsilon = 0.1\n",
    "\n",
    "df_education_num_01 = education_num_histogram + np.random.laplace(loc=0, scale=sensitivity/epsilon)\n",
    "df_education_num_01"
   ]
  },
  {
   "cell_type": "code",
   "execution_count": 15,
   "metadata": {},
   "outputs": [
    {
     "data": {
      "text/html": [
       "<div>\n",
       "<style scoped>\n",
       "    .dataframe tbody tr th:only-of-type {\n",
       "        vertical-align: middle;\n",
       "    }\n",
       "\n",
       "    .dataframe tbody tr th {\n",
       "        vertical-align: top;\n",
       "    }\n",
       "\n",
       "    .dataframe thead th {\n",
       "        text-align: right;\n",
       "    }\n",
       "</style>\n",
       "<table border=\"1\" class=\"dataframe\">\n",
       "  <thead>\n",
       "    <tr style=\"text-align: right;\">\n",
       "      <th></th>\n",
       "      <th>histogram_bins</th>\n",
       "    </tr>\n",
       "  </thead>\n",
       "  <tbody>\n",
       "    <tr>\n",
       "      <th>0</th>\n",
       "      <td>65.28658</td>\n",
       "    </tr>\n",
       "    <tr>\n",
       "      <th>1</th>\n",
       "      <td>14.28658</td>\n",
       "    </tr>\n",
       "    <tr>\n",
       "      <th>2</th>\n",
       "      <td>182.28658</td>\n",
       "    </tr>\n",
       "    <tr>\n",
       "      <th>3</th>\n",
       "      <td>14.28658</td>\n",
       "    </tr>\n",
       "    <tr>\n",
       "      <th>4</th>\n",
       "      <td>14.28658</td>\n",
       "    </tr>\n",
       "    <tr>\n",
       "      <th>5</th>\n",
       "      <td>347.28658</td>\n",
       "    </tr>\n",
       "    <tr>\n",
       "      <th>6</th>\n",
       "      <td>14.28658</td>\n",
       "    </tr>\n",
       "    <tr>\n",
       "      <th>7</th>\n",
       "      <td>14.28658</td>\n",
       "    </tr>\n",
       "    <tr>\n",
       "      <th>8</th>\n",
       "      <td>660.28658</td>\n",
       "    </tr>\n",
       "    <tr>\n",
       "      <th>9</th>\n",
       "      <td>14.28658</td>\n",
       "    </tr>\n",
       "  </tbody>\n",
       "</table>\n",
       "</div>"
      ],
      "text/plain": [
       "   histogram_bins\n",
       "0        65.28658\n",
       "1        14.28658\n",
       "2       182.28658\n",
       "3        14.28658\n",
       "4        14.28658\n",
       "5       347.28658\n",
       "6        14.28658\n",
       "7        14.28658\n",
       "8       660.28658\n",
       "9        14.28658"
      ]
     },
     "execution_count": 15,
     "metadata": {},
     "output_type": "execute_result"
    }
   ],
   "source": [
    "pertub_education_histogram_01 = pd.DataFrame(df_education_num_01)\n",
    "pertub_education_histogram_01.rename(index=str, columns={0:'histogram_bins'}).head(10)"
   ]
  },
  {
   "cell_type": "code",
   "execution_count": 16,
   "metadata": {},
   "outputs": [
    {
     "data": {
      "image/png": "[encoded data removed]",
      "text/plain": [
       "<Figure size 864x576 with 1 Axes>"
      ]
     },
     "metadata": {
      "needs_background": "light"
     },
     "output_type": "display_data"
    }
   ],
   "source": [
    "# Affichage de l'histogramme de H1 perturbé avec epsilon 0.1\n",
    "plt.figure(figsize=(12,8))\n",
    "plt.hist(pertub_education_histogram_01, bins=40)\n",
    "plt.gca().set(title='Histogramme perturbé du niveau d\\'éducation; e=0.1', xlabel='Education Level');"
   ]
  },
  {
   "cell_type": "code",
   "execution_count": 17,
   "metadata": {},
   "outputs": [
    {
     "data": {
      "text/plain": [
       "array([ 4.97404879e+01, -1.25951210e+00,  1.66740488e+02, -1.25951210e+00,\n",
       "       -1.25951210e+00,  3.31740488e+02, -1.25951210e+00, -1.25951210e+00,\n",
       "        6.44740488e+02, -1.25951210e+00,  5.12740488e+02, -1.25951210e+00,\n",
       "       -1.25951210e+00,  9.31740488e+02, -1.25951210e+00, -1.25951210e+00,\n",
       "        1.17374049e+03, -1.25951210e+00,  4.31740488e+02, -1.25951210e+00,\n",
       "       -1.25951210e+00,  1.04997405e+04, -1.25951210e+00, -1.25951210e+00,\n",
       "        7.28974049e+03, -1.25951210e+00,  1.38074049e+03, -1.25951210e+00,\n",
       "       -1.25951210e+00,  1.06574049e+03, -1.25951210e+00, -1.25951210e+00,\n",
       "        5.35374049e+03, -1.25951210e+00,  1.72174049e+03, -1.25951210e+00,\n",
       "       -1.25951210e+00,  5.74740488e+02, -1.25951210e+00,  4.11740488e+02])"
      ]
     },
     "execution_count": 17,
     "metadata": {},
     "output_type": "execute_result"
    }
   ],
   "source": [
    "## Ajout du bruit à l'histogramme de H1 avec epsilon = 1\n",
    "sensitivity =1\n",
    "epsilon = 1\n",
    "\n",
    "df_education_num_1 = education_num_histogram + np.random.laplace(loc=0, scale=sensitivity/epsilon)\n",
    "df_education_num_1"
   ]
  },
  {
   "cell_type": "code",
   "execution_count": 18,
   "metadata": {},
   "outputs": [
    {
     "data": {
      "text/html": [
       "<div>\n",
       "<style scoped>\n",
       "    .dataframe tbody tr th:only-of-type {\n",
       "        vertical-align: middle;\n",
       "    }\n",
       "\n",
       "    .dataframe tbody tr th {\n",
       "        vertical-align: top;\n",
       "    }\n",
       "\n",
       "    .dataframe thead th {\n",
       "        text-align: right;\n",
       "    }\n",
       "</style>\n",
       "<table border=\"1\" class=\"dataframe\">\n",
       "  <thead>\n",
       "    <tr style=\"text-align: right;\">\n",
       "      <th></th>\n",
       "      <th>histogram_bins</th>\n",
       "    </tr>\n",
       "  </thead>\n",
       "  <tbody>\n",
       "    <tr>\n",
       "      <th>0</th>\n",
       "      <td>49.740488</td>\n",
       "    </tr>\n",
       "    <tr>\n",
       "      <th>1</th>\n",
       "      <td>-1.259512</td>\n",
       "    </tr>\n",
       "    <tr>\n",
       "      <th>2</th>\n",
       "      <td>166.740488</td>\n",
       "    </tr>\n",
       "    <tr>\n",
       "      <th>3</th>\n",
       "      <td>-1.259512</td>\n",
       "    </tr>\n",
       "    <tr>\n",
       "      <th>4</th>\n",
       "      <td>-1.259512</td>\n",
       "    </tr>\n",
       "    <tr>\n",
       "      <th>5</th>\n",
       "      <td>331.740488</td>\n",
       "    </tr>\n",
       "    <tr>\n",
       "      <th>6</th>\n",
       "      <td>-1.259512</td>\n",
       "    </tr>\n",
       "    <tr>\n",
       "      <th>7</th>\n",
       "      <td>-1.259512</td>\n",
       "    </tr>\n",
       "    <tr>\n",
       "      <th>8</th>\n",
       "      <td>644.740488</td>\n",
       "    </tr>\n",
       "    <tr>\n",
       "      <th>9</th>\n",
       "      <td>-1.259512</td>\n",
       "    </tr>\n",
       "  </tbody>\n",
       "</table>\n",
       "</div>"
      ],
      "text/plain": [
       "   histogram_bins\n",
       "0       49.740488\n",
       "1       -1.259512\n",
       "2      166.740488\n",
       "3       -1.259512\n",
       "4       -1.259512\n",
       "5      331.740488\n",
       "6       -1.259512\n",
       "7       -1.259512\n",
       "8      644.740488\n",
       "9       -1.259512"
      ]
     },
     "execution_count": 18,
     "metadata": {},
     "output_type": "execute_result"
    }
   ],
   "source": [
    "pertub_education_histogram_1 = pd.DataFrame(df_education_num_1)\n",
    "pertub_education_histogram_1.rename(index=str, columns={0:'histogram_bins'}).head(10)"
   ]
  },
  {
   "cell_type": "code",
   "execution_count": 19,
   "metadata": {},
   "outputs": [
    {
     "data": {
      "image/png": "[encoded data removed]",
      "text/plain": [
       "<Figure size 864x576 with 1 Axes>"
      ]
     },
     "metadata": {
      "needs_background": "light"
     },
     "output_type": "display_data"
    }
   ],
   "source": [
    "# Affichage de l'histogramme de H1 perturbé avec epsilon 1\n",
    "plt.figure(figsize=(12,8))\n",
    "plt.hist(pertub_education_histogram_1, bins=40)\n",
    "plt.gca().set(title='Histogramme perturbé du niveau d\\'éducation; e=1', xlabel='Education Level');"
   ]
  },
  {
   "cell_type": "markdown",
   "metadata": {},
   "source": [
    "#### En régardant les histogrammes non perturbés et perturbés de H1, on constate qu'il y a une différence entre  les histogrammes des données non-pertubées et ceux des données pertubées"
   ]
  },
  {
   "cell_type": "markdown",
   "metadata": {},
   "source": [
    "### Q3 1- :  Utilisation du mécanisme de Laplce pour la reqûte H2 avec epsilon = {0.01, 0.1, 1}"
   ]
  },
  {
   "cell_type": "markdown",
   "metadata": {},
   "source": [
    "#### Récupération des bins de l'histogramme des horaires / semaine des individus"
   ]
  },
  {
   "cell_type": "code",
   "execution_count": 20,
   "metadata": {},
   "outputs": [
    {
     "data": {
      "text/plain": [
       "array([1.100e+01, 1.000e+01, 2.300e+01, 2.100e+01, 1.400e+01, 1.700e+01,\n",
       "       2.100e+01, 7.800e+01, 6.000e+00, 5.800e+01, 5.000e+00, 8.900e+01,\n",
       "       2.800e+01, 2.010e+02, 6.300e+01, 3.340e+03, 7.700e+01, 7.980e+02,\n",
       "       4.300e+01, 1.580e+02, 1.327e+03, 2.000e+01, 3.700e+02, 1.100e+01,\n",
       "       6.540e+02, 8.000e+00, 1.090e+02, 5.000e+00, 1.310e+02, 1.000e+00,\n",
       "       2.200e+01, 2.000e+00, 5.700e+01, 1.700e+01, 4.000e+00, 1.000e+00,\n",
       "       1.000e+01, 0.000e+00, 2.000e+00, 2.900e+01])"
      ]
     },
     "execution_count": 20,
     "metadata": {},
     "output_type": "execute_result"
    }
   ],
   "source": [
    "df_income_over_50k_histogram #bins de l'histogramme de H2"
   ]
  },
  {
   "cell_type": "code",
   "execution_count": 21,
   "metadata": {},
   "outputs": [],
   "source": [
    "sensitivity_h2 = 1"
   ]
  },
  {
   "cell_type": "code",
   "execution_count": 22,
   "metadata": {},
   "outputs": [
    {
     "data": {
      "text/plain": [
       "array([ 179.75427133,  178.75427133,  191.75427133,  189.75427133,\n",
       "        182.75427133,  185.75427133,  189.75427133,  246.75427133,\n",
       "        174.75427133,  226.75427133,  173.75427133,  257.75427133,\n",
       "        196.75427133,  369.75427133,  231.75427133, 3508.75427133,\n",
       "        245.75427133,  966.75427133,  211.75427133,  326.75427133,\n",
       "       1495.75427133,  188.75427133,  538.75427133,  179.75427133,\n",
       "        822.75427133,  176.75427133,  277.75427133,  173.75427133,\n",
       "        299.75427133,  169.75427133,  190.75427133,  170.75427133,\n",
       "        225.75427133,  185.75427133,  172.75427133,  169.75427133,\n",
       "        178.75427133,  168.75427133,  170.75427133,  197.75427133])"
      ]
     },
     "execution_count": 22,
     "metadata": {},
     "output_type": "execute_result"
    }
   ],
   "source": [
    "## Ajout du bruit à l'histogramme de H2 avec epsilon = 0.01\n",
    "epsilon = 0.01\n",
    "\n",
    "df_income_over_50k_001 = df_income_over_50k_histogram + np.random.laplace(loc=0, scale=sensitivity_h2 /epsilon)\n",
    "df_income_over_50k_001"
   ]
  },
  {
   "cell_type": "code",
   "execution_count": 23,
   "metadata": {},
   "outputs": [
    {
     "data": {
      "text/html": [
       "<div>\n",
       "<style scoped>\n",
       "    .dataframe tbody tr th:only-of-type {\n",
       "        vertical-align: middle;\n",
       "    }\n",
       "\n",
       "    .dataframe tbody tr th {\n",
       "        vertical-align: top;\n",
       "    }\n",
       "\n",
       "    .dataframe thead th {\n",
       "        text-align: right;\n",
       "    }\n",
       "</style>\n",
       "<table border=\"1\" class=\"dataframe\">\n",
       "  <thead>\n",
       "    <tr style=\"text-align: right;\">\n",
       "      <th></th>\n",
       "      <th>histogram_bins</th>\n",
       "    </tr>\n",
       "  </thead>\n",
       "  <tbody>\n",
       "    <tr>\n",
       "      <th>0</th>\n",
       "      <td>179.754271</td>\n",
       "    </tr>\n",
       "    <tr>\n",
       "      <th>1</th>\n",
       "      <td>178.754271</td>\n",
       "    </tr>\n",
       "    <tr>\n",
       "      <th>2</th>\n",
       "      <td>191.754271</td>\n",
       "    </tr>\n",
       "    <tr>\n",
       "      <th>3</th>\n",
       "      <td>189.754271</td>\n",
       "    </tr>\n",
       "    <tr>\n",
       "      <th>4</th>\n",
       "      <td>182.754271</td>\n",
       "    </tr>\n",
       "    <tr>\n",
       "      <th>5</th>\n",
       "      <td>185.754271</td>\n",
       "    </tr>\n",
       "    <tr>\n",
       "      <th>6</th>\n",
       "      <td>189.754271</td>\n",
       "    </tr>\n",
       "    <tr>\n",
       "      <th>7</th>\n",
       "      <td>246.754271</td>\n",
       "    </tr>\n",
       "    <tr>\n",
       "      <th>8</th>\n",
       "      <td>174.754271</td>\n",
       "    </tr>\n",
       "    <tr>\n",
       "      <th>9</th>\n",
       "      <td>226.754271</td>\n",
       "    </tr>\n",
       "  </tbody>\n",
       "</table>\n",
       "</div>"
      ],
      "text/plain": [
       "   histogram_bins\n",
       "0      179.754271\n",
       "1      178.754271\n",
       "2      191.754271\n",
       "3      189.754271\n",
       "4      182.754271\n",
       "5      185.754271\n",
       "6      189.754271\n",
       "7      246.754271\n",
       "8      174.754271\n",
       "9      226.754271"
      ]
     },
     "execution_count": 23,
     "metadata": {},
     "output_type": "execute_result"
    }
   ],
   "source": [
    "pertub_income_histogram_001 = pd.DataFrame(df_income_over_50k_001)\n",
    "pertub_income_histogram_001.rename(index=str, columns={0:'histogram_bins'}).head(10)"
   ]
  },
  {
   "cell_type": "code",
   "execution_count": 24,
   "metadata": {},
   "outputs": [
    {
     "data": {
      "image/png": "[encoded data removed]",
      "text/plain": [
       "<Figure size 864x576 with 1 Axes>"
      ]
     },
     "metadata": {
      "needs_background": "light"
     },
     "output_type": "display_data"
    }
   ],
   "source": [
    "# # Affichage de l'histogramme de H2 perturbé avec epsilon 0.01\n",
    "plt.figure(figsize=(12,8))\n",
    "plt.hist(pertub_income_histogram_001, bins=40)\n",
    "plt.gca().set(title='Histogramme perturbé des horaires / semaine pour les personnes avec revenu >= 50K; e=0.01', xlabel='Working Hours');"
   ]
  },
  {
   "cell_type": "code",
   "execution_count": 25,
   "metadata": {},
   "outputs": [
    {
     "data": {
      "text/plain": [
       "array([ 3.29075212e+00,  2.29075212e+00,  1.52907521e+01,  1.32907521e+01,\n",
       "        6.29075212e+00,  9.29075212e+00,  1.32907521e+01,  7.02907521e+01,\n",
       "       -1.70924788e+00,  5.02907521e+01, -2.70924788e+00,  8.12907521e+01,\n",
       "        2.02907521e+01,  1.93290752e+02,  5.52907521e+01,  3.33229075e+03,\n",
       "        6.92907521e+01,  7.90290752e+02,  3.52907521e+01,  1.50290752e+02,\n",
       "        1.31929075e+03,  1.22907521e+01,  3.62290752e+02,  3.29075212e+00,\n",
       "        6.46290752e+02,  2.90752115e-01,  1.01290752e+02, -2.70924788e+00,\n",
       "        1.23290752e+02, -6.70924788e+00,  1.42907521e+01, -5.70924788e+00,\n",
       "        4.92907521e+01,  9.29075212e+00, -3.70924788e+00, -6.70924788e+00,\n",
       "        2.29075212e+00, -7.70924788e+00, -5.70924788e+00,  2.12907521e+01])"
      ]
     },
     "execution_count": 25,
     "metadata": {},
     "output_type": "execute_result"
    }
   ],
   "source": [
    "## Ajout du bruit à l'histogramme de H2 avec epsilon = 0.1\n",
    "epsilon = 0.1\n",
    "\n",
    "df_income_over_50k_01 = df_income_over_50k_histogram + np.random.laplace(loc=0, scale=sensitivity_h2 /epsilon)\n",
    "df_income_over_50k_01"
   ]
  },
  {
   "cell_type": "code",
   "execution_count": 26,
   "metadata": {},
   "outputs": [
    {
     "data": {
      "text/html": [
       "<div>\n",
       "<style scoped>\n",
       "    .dataframe tbody tr th:only-of-type {\n",
       "        vertical-align: middle;\n",
       "    }\n",
       "\n",
       "    .dataframe tbody tr th {\n",
       "        vertical-align: top;\n",
       "    }\n",
       "\n",
       "    .dataframe thead th {\n",
       "        text-align: right;\n",
       "    }\n",
       "</style>\n",
       "<table border=\"1\" class=\"dataframe\">\n",
       "  <thead>\n",
       "    <tr style=\"text-align: right;\">\n",
       "      <th></th>\n",
       "      <th>histogram_bins</th>\n",
       "    </tr>\n",
       "  </thead>\n",
       "  <tbody>\n",
       "    <tr>\n",
       "      <th>0</th>\n",
       "      <td>3.290752</td>\n",
       "    </tr>\n",
       "    <tr>\n",
       "      <th>1</th>\n",
       "      <td>2.290752</td>\n",
       "    </tr>\n",
       "    <tr>\n",
       "      <th>2</th>\n",
       "      <td>15.290752</td>\n",
       "    </tr>\n",
       "    <tr>\n",
       "      <th>3</th>\n",
       "      <td>13.290752</td>\n",
       "    </tr>\n",
       "    <tr>\n",
       "      <th>4</th>\n",
       "      <td>6.290752</td>\n",
       "    </tr>\n",
       "    <tr>\n",
       "      <th>5</th>\n",
       "      <td>9.290752</td>\n",
       "    </tr>\n",
       "    <tr>\n",
       "      <th>6</th>\n",
       "      <td>13.290752</td>\n",
       "    </tr>\n",
       "    <tr>\n",
       "      <th>7</th>\n",
       "      <td>70.290752</td>\n",
       "    </tr>\n",
       "    <tr>\n",
       "      <th>8</th>\n",
       "      <td>-1.709248</td>\n",
       "    </tr>\n",
       "    <tr>\n",
       "      <th>9</th>\n",
       "      <td>50.290752</td>\n",
       "    </tr>\n",
       "  </tbody>\n",
       "</table>\n",
       "</div>"
      ],
      "text/plain": [
       "   histogram_bins\n",
       "0        3.290752\n",
       "1        2.290752\n",
       "2       15.290752\n",
       "3       13.290752\n",
       "4        6.290752\n",
       "5        9.290752\n",
       "6       13.290752\n",
       "7       70.290752\n",
       "8       -1.709248\n",
       "9       50.290752"
      ]
     },
     "execution_count": 26,
     "metadata": {},
     "output_type": "execute_result"
    }
   ],
   "source": [
    "pertub_income_histogram_01 = pd.DataFrame(df_income_over_50k_01)\n",
    "pertub_income_histogram_01.rename(index=str, columns={0:'histogram_bins'}).head(10)"
   ]
  },
  {
   "cell_type": "code",
   "execution_count": 27,
   "metadata": {},
   "outputs": [
    {
     "data": {
      "image/png": "[encoded data removed]",
      "text/plain": [
       "<Figure size 864x576 with 1 Axes>"
      ]
     },
     "metadata": {
      "needs_background": "light"
     },
     "output_type": "display_data"
    }
   ],
   "source": [
    "# Affichage de l'histogramme de H2 perturbé avec epsilon 0.1\n",
    "plt.figure(figsize=(12,8))\n",
    "plt.hist(pertub_income_histogram_01, bins=40)\n",
    "plt.gca().set(title='Histogramme perturbé des horaires / semaine pour les personnes avec revenu >= 50K; e=0.1', xlabel='Working hours');"
   ]
  },
  {
   "cell_type": "code",
   "execution_count": 28,
   "metadata": {},
   "outputs": [
    {
     "data": {
      "text/plain": [
       "array([1.22358890e+01, 1.12358890e+01, 2.42358890e+01, 2.22358890e+01,\n",
       "       1.52358890e+01, 1.82358890e+01, 2.22358890e+01, 7.92358890e+01,\n",
       "       7.23588897e+00, 5.92358890e+01, 6.23588897e+00, 9.02358890e+01,\n",
       "       2.92358890e+01, 2.02235889e+02, 6.42358890e+01, 3.34123589e+03,\n",
       "       7.82358890e+01, 7.99235889e+02, 4.42358890e+01, 1.59235889e+02,\n",
       "       1.32823589e+03, 2.12358890e+01, 3.71235889e+02, 1.22358890e+01,\n",
       "       6.55235889e+02, 9.23588897e+00, 1.10235889e+02, 6.23588897e+00,\n",
       "       1.32235889e+02, 2.23588897e+00, 2.32358890e+01, 3.23588897e+00,\n",
       "       5.82358890e+01, 1.82358890e+01, 5.23588897e+00, 2.23588897e+00,\n",
       "       1.12358890e+01, 1.23588897e+00, 3.23588897e+00, 3.02358890e+01])"
      ]
     },
     "execution_count": 28,
     "metadata": {},
     "output_type": "execute_result"
    }
   ],
   "source": [
    "## Ajout du bruit à l'histogramme de H2 avec epsilon = 1\n",
    "epsilon = 1\n",
    "\n",
    "df_income_over_50k_1 = df_income_over_50k_histogram + np.random.laplace(loc=0, scale=sensitivity_h2 /epsilon)\n",
    "df_income_over_50k_1"
   ]
  },
  {
   "cell_type": "code",
   "execution_count": 29,
   "metadata": {},
   "outputs": [
    {
     "data": {
      "text/html": [
       "<div>\n",
       "<style scoped>\n",
       "    .dataframe tbody tr th:only-of-type {\n",
       "        vertical-align: middle;\n",
       "    }\n",
       "\n",
       "    .dataframe tbody tr th {\n",
       "        vertical-align: top;\n",
       "    }\n",
       "\n",
       "    .dataframe thead th {\n",
       "        text-align: right;\n",
       "    }\n",
       "</style>\n",
       "<table border=\"1\" class=\"dataframe\">\n",
       "  <thead>\n",
       "    <tr style=\"text-align: right;\">\n",
       "      <th></th>\n",
       "      <th>histogram_bins</th>\n",
       "    </tr>\n",
       "  </thead>\n",
       "  <tbody>\n",
       "    <tr>\n",
       "      <th>0</th>\n",
       "      <td>12.235889</td>\n",
       "    </tr>\n",
       "    <tr>\n",
       "      <th>1</th>\n",
       "      <td>11.235889</td>\n",
       "    </tr>\n",
       "    <tr>\n",
       "      <th>2</th>\n",
       "      <td>24.235889</td>\n",
       "    </tr>\n",
       "    <tr>\n",
       "      <th>3</th>\n",
       "      <td>22.235889</td>\n",
       "    </tr>\n",
       "    <tr>\n",
       "      <th>4</th>\n",
       "      <td>15.235889</td>\n",
       "    </tr>\n",
       "    <tr>\n",
       "      <th>5</th>\n",
       "      <td>18.235889</td>\n",
       "    </tr>\n",
       "    <tr>\n",
       "      <th>6</th>\n",
       "      <td>22.235889</td>\n",
       "    </tr>\n",
       "    <tr>\n",
       "      <th>7</th>\n",
       "      <td>79.235889</td>\n",
       "    </tr>\n",
       "    <tr>\n",
       "      <th>8</th>\n",
       "      <td>7.235889</td>\n",
       "    </tr>\n",
       "    <tr>\n",
       "      <th>9</th>\n",
       "      <td>59.235889</td>\n",
       "    </tr>\n",
       "  </tbody>\n",
       "</table>\n",
       "</div>"
      ],
      "text/plain": [
       "   histogram_bins\n",
       "0       12.235889\n",
       "1       11.235889\n",
       "2       24.235889\n",
       "3       22.235889\n",
       "4       15.235889\n",
       "5       18.235889\n",
       "6       22.235889\n",
       "7       79.235889\n",
       "8        7.235889\n",
       "9       59.235889"
      ]
     },
     "execution_count": 29,
     "metadata": {},
     "output_type": "execute_result"
    }
   ],
   "source": [
    "pertub_income_histogram_1 = pd.DataFrame(df_income_over_50k_1)\n",
    "pertub_income_histogram_1.rename(index=str, columns={0:'histogram_bins'}).head(10)"
   ]
  },
  {
   "cell_type": "code",
   "execution_count": 30,
   "metadata": {},
   "outputs": [
    {
     "data": {
      "image/png": "[encoded data removed]",
      "text/plain": [
       "<Figure size 864x576 with 1 Axes>"
      ]
     },
     "metadata": {
      "needs_background": "light"
     },
     "output_type": "display_data"
    }
   ],
   "source": [
    "# Affichage de l'histogramme de H2 perturbé avec epsilon 1\n",
    "plt.figure(figsize=(12,8))\n",
    "plt.hist(pertub_income_histogram_1, bins=40)\n",
    "plt.gca().set(title='Histogramme perturbé des horaires / semaine pour les personnes avec revenu >= 50K; e=1', xlabel='Working hours');"
   ]
  },
  {
   "cell_type": "markdown",
   "metadata": {},
   "source": [
    "#### L'augmentation du bin de l'histogramme peut faire qu'un invidividu change de position dans l'histogramme si la nouvelle valeur est supérieure à l'intervalle."
   ]
  },
  {
   "cell_type": "markdown",
   "metadata": {},
   "source": [
    "# 2. Basic Fourier Perturbation Algorithm"
   ]
  },
  {
   "cell_type": "markdown",
   "metadata": {},
   "source": [
    "#### Q4.Implemention of the Basic FPA algorithm"
   ]
  },
  {
   "cell_type": "raw",
   "metadata": {},
   "source": [
    "Algorithm 4.1 FPAk(Inputs: sequence Q, parameter λ)\n",
    "1: Compute Fk = DFTk(Q(I)).\n",
    "2: Compute F˜ k = LPA(Fk, λ)\n",
    "3: Return Q˜ = IDFT(PADn(F˜ k))"
   ]
  },
  {
   "cell_type": "code",
   "execution_count": 31,
   "metadata": {},
   "outputs": [],
   "source": [
    "#Implementation de Laplace\n",
    "#Pour chaque coefficient de fourier on rajoute du bruit à l'aide de Laplace\n",
    "'''Les parameteres de la fonction sont : \n",
    " - input : le tableau des éléments auquels on veut ajouter du bruit\n",
    " - k : le nombre de coefficients générés par la transformée de Fourier\n",
    " - scale : \n",
    " '''\n",
    "def lpa(input, k, scale):\n",
    "    output = []\n",
    "    for coef in np.fft.fft(input, k):\n",
    "        output.append(coef + np.random.laplace(loc=0, scale=scale))\n",
    "    \n",
    "    return np.asarray(output)\n",
    "\n",
    "#implementation de pda\n",
    "'''The parameters of this function are : \n",
    " - input : le tableau des éléments auquels on veut rajouter des 0\n",
    " - length : le nombre de à à rajouter\n",
    " '''\n",
    "def pda(input, length):\n",
    "    return np.pad(input, (0, length), 'constant')\n",
    "\n",
    "#Implémentation de la fonction Basic Fourier Perturbation Algorithm\n",
    "'''Les parameteres de la fonction sont : \n",
    " - input : le tableau contenant les bins de l'histogramme\n",
    " - k : le nombre de coefficients générés par la transformée de Fourier\n",
    " - scale : \n",
    " '''\n",
    "def bfpa(input, k, scale):\n",
    "    lpa_result = lpa(input, k, scale)\n",
    "    pda_result = pda(lpa_result, len(input) - k)\n",
    "    return np.fft.ifft(pda_result).real"
   ]
  },
  {
   "cell_type": "markdown",
   "metadata": {},
   "source": [
    "#### Q5. Use Basic FPA to compute query H1"
   ]
  },
  {
   "cell_type": "code",
   "execution_count": 32,
   "metadata": {},
   "outputs": [
    {
     "data": {
      "text/plain": [
       "array([ 1.187301  ,  1.15259712,  2.04026059,  3.34339564,  4.23965895,\n",
       "        3.96072007,  2.17008183, -0.81036613, -4.0309079 , -6.20936013,\n",
       "       -6.19372326, -3.42332336,  1.78905556,  8.27243182, 14.32239274,\n",
       "       18.2331184 , 18.85481862, 15.98038584, 10.42238141,  3.7501868 ,\n",
       "       -2.22230657, -6.01989204, -6.95797883, -5.31054171, -2.14518138,\n",
       "        1.10398988,  3.16351456,  3.35552233,  1.78905556, -0.74836187,\n",
       "       -3.14224465, -4.40125976, -4.0309079 , -2.19249027,  0.40268915,\n",
       "        2.80934103,  4.23965895,  4.37022446,  3.44287136,  2.12417165])"
      ]
     },
     "execution_count": 32,
     "metadata": {},
     "output_type": "execute_result"
    }
   ],
   "source": [
    "# Ajout du bruit à l'histogramme de H1 avec epsilon = 0.01 en utilisant BFPA\n",
    "sensitivity = 1\n",
    "epsilon = 0.01\n",
    "coefficient_education_001 = bfpa(education_num_histogram, 5,  sensitivity/ epsilon)\n",
    "coefficient_education_001"
   ]
  },
  {
   "cell_type": "code",
   "execution_count": 33,
   "metadata": {},
   "outputs": [
    {
     "data": {
      "image/png": "[encoded data removed]",
      "text/plain": [
       "<Figure size 864x576 with 1 Axes>"
      ]
     },
     "metadata": {
      "needs_background": "light"
     },
     "output_type": "display_data"
    }
   ],
   "source": [
    "# Affichage de l'histogramme de H1 perturbé avec epsilon 0.01\n",
    "plt.figure(figsize=(12,8))\n",
    "plt.hist(coefficient_education_001, bins=40)\n",
    "plt.gca().set(title='Histogramme perturbé du niveau d\\'éducation; e=0.01', xlabel='Education Level');"
   ]
  },
  {
   "cell_type": "code",
   "execution_count": 34,
   "metadata": {},
   "outputs": [
    {
     "data": {
      "text/plain": [
       "array([ 5.60521172,  5.35420832,  5.6839909 ,  6.32315432,  6.7316909 ,\n",
       "        6.35201792,  4.89556613,  2.54306891, -0.03488929, -1.8630231 ,\n",
       "       -1.99699951,  0.10901123,  4.34180039,  9.88233544, 15.4053091 ,\n",
       "       19.46825843, 20.96207833, 19.4683299 , 15.39799403,  9.86135941,\n",
       "        4.31260722,  0.09128057, -1.98236621, -1.82259765, -0.03792167,\n",
       "        2.33912991,  4.24643092,  4.96542596,  4.34180039,  2.78397273,\n",
       "        1.0544791 , -0.05492273, -0.03488929,  1.16094477,  3.12817346,\n",
       "        5.20063888,  6.7316909 ,  7.34998313,  7.08660167,  6.32578285])"
      ]
     },
     "execution_count": 34,
     "metadata": {},
     "output_type": "execute_result"
    }
   ],
   "source": [
    "# Ajout du bruit à l'histogramme de H1 avec epsilon = 0.1 en utilisant BFPA\n",
    "sensitivity = 1\n",
    "epsilon = 0.1\n",
    "\n",
    "df_education_num_01 = bfpa(education_num_histogram, 5,  sensitivity/ epsilon)\n",
    "df_education_num_01"
   ]
  },
  {
   "cell_type": "code",
   "execution_count": 35,
   "metadata": {},
   "outputs": [
    {
     "data": {
      "image/png": "[encoded data removed]",
      "text/plain": [
       "<Figure size 864x576 with 1 Axes>"
      ]
     },
     "metadata": {
      "needs_background": "light"
     },
     "output_type": "display_data"
    }
   ],
   "source": [
    "# Affichage de l'histogramme de H1 perturbé avec epsilon 0.1 \n",
    "plt.figure(figsize=(12,8))\n",
    "plt.hist(df_education_num_01, bins=40)\n",
    "plt.gca().set(title='Histogramme perturbé du niveau d\\'éducation; e=0.1', xlabel='Education Level');"
   ]
  },
  {
   "cell_type": "code",
   "execution_count": 36,
   "metadata": {},
   "outputs": [
    {
     "data": {
      "text/plain": [
       "array([ 6.35619218e+00,  5.89339255e+00,  5.66535305e+00,  5.60522789e+00,\n",
       "        5.43053099e+00,  4.80152622e+00,  3.53055023e+00,  1.74841899e+00,\n",
       "       -5.38372220e-02, -1.14268253e+00, -7.89806737e-01,  1.43585419e+00,\n",
       "        5.44316584e+00,  1.05556596e+01,  1.56506151e+01,  1.94678927e+01,\n",
       "        2.09915694e+01,  1.97758875e+01,  1.61012157e+01,  1.09016772e+01,\n",
       "        5.48426285e+00,  1.13159832e+00, -1.27914451e+00, -1.51504007e+00,\n",
       "       -8.43060490e-03,  2.33876418e+00,  4.49173693e+00,  5.63875011e+00,\n",
       "        5.44316584e+00,  4.11081568e+00,  2.26167188e+00,  6.65417835e-01,\n",
       "       -5.38372220e-02,  3.66294858e-01,  1.76315755e+00,  3.65014718e+00,\n",
       "        5.43053099e+00,  6.63205671e+00,  7.06796382e+00,  6.86496708e+00])"
      ]
     },
     "execution_count": 36,
     "metadata": {},
     "output_type": "execute_result"
    }
   ],
   "source": [
    "# Ajout du bruit à l'histogramme de H1 avec epsilon = 1 en utilisant BFPA\n",
    "sensitivity = 1\n",
    "epsilon = 1\n",
    "\n",
    "df_education_num_1 = bfpa(education_num_histogram, 5,  sensitivity/ epsilon)\n",
    "df_education_num_1"
   ]
  },
  {
   "cell_type": "code",
   "execution_count": 37,
   "metadata": {},
   "outputs": [
    {
     "data": {
      "image/png": "[encoded data removed]",
      "text/plain": [
       "<Figure size 864x576 with 1 Axes>"
      ]
     },
     "metadata": {
      "needs_background": "light"
     },
     "output_type": "display_data"
    }
   ],
   "source": [
    "# Affichage de l'histogramme de H1 perturbé avec epsilon 1\n",
    "plt.figure(figsize=(12,8))\n",
    "plt.hist(df_education_num_1, bins=40)\n",
    "plt.gca().set(title='Affichage de l\\'histogramme de H1 perturbé avec epsilon 1', xlabel='Education Level');"
   ]
  },
  {
   "cell_type": "markdown",
   "metadata": {},
   "source": [
    "#### On constate qu'en utilisant la transformée de fourier l'histogramme obtenu est différent de celui des données non pertubées. Plus epsilon augmente plus on se rapproche de l'histogramme des données non perturbées (données de départ)"
   ]
  },
  {
   "cell_type": "markdown",
   "metadata": {},
   "source": [
    "#### Q6. Use Basic FPA to compute query H2"
   ]
  },
  {
   "cell_type": "code",
   "execution_count": 38,
   "metadata": {},
   "outputs": [
    {
     "data": {
      "text/plain": [
       "array([-3.96754208, -2.57259218,  1.10962031,  6.00665731, 10.71840712,\n",
       "       13.9384092 , 14.83026405, 13.24158296,  9.69625307,  5.1819418 ,\n",
       "        0.81651268, -2.48863588, -4.25891036, -4.51731733, -3.67741672,\n",
       "       -2.32901925, -1.00874149, -0.04175429,  0.49727085,  0.70981582,\n",
       "        0.73848757,  0.64536745,  0.36583807, -0.23917727, -1.25874149,\n",
       "       -2.59912019, -3.91631025, -4.66398983, -4.25891036, -2.31230804,\n",
       "        1.16060816,  5.64421092, 10.19625307, 13.68900594, 15.15038751,\n",
       "       14.09363367, 10.71840712,  5.90332981,  0.97818753, -2.66011627])"
      ]
     },
     "execution_count": 38,
     "metadata": {},
     "output_type": "execute_result"
    }
   ],
   "source": [
    "# Ajout du bruit à l'histogramme de H2 avec epsilon = 0.01 en utilisant BFPA\n",
    "epsilon = 0.01\n",
    "\n",
    "df_income_over_50k_001 = bfpa(df_income_over_50k_histogram, 5,  sensitivity_h2/ epsilon)\n",
    "df_income_over_50k_001"
   ]
  },
  {
   "cell_type": "code",
   "execution_count": 39,
   "metadata": {},
   "outputs": [
    {
     "data": {
      "image/png": "[encoded data removed]",
      "text/plain": [
       "<Figure size 864x576 with 1 Axes>"
      ]
     },
     "metadata": {
      "needs_background": "light"
     },
     "output_type": "display_data"
    }
   ],
   "source": [
    "# Affichage de l'histogramme de H2 perturbé avec epsilon 0.01 \n",
    "plt.figure(figsize=(12,8))\n",
    "plt.hist(df_income_over_50k_001, bins=40)\n",
    "plt.gca().set(title='Histogramme perturbé des horaires / semaine pour les personnes avec revenu >= 50K; e=0.01', xlabel='Working hours');"
   ]
  },
  {
   "cell_type": "code",
   "execution_count": 40,
   "metadata": {},
   "outputs": [
    {
     "data": {
      "text/plain": [
       "array([0.53823439, 0.68154909, 0.96838612, 1.29527449, 1.54761594,\n",
       "       1.64031075, 1.54764897, 1.31185073, 1.02747589, 0.80768856,\n",
       "       0.74481239, 0.87939356, 1.18851628, 1.5967737 , 2.00489732,\n",
       "       2.32475162, 2.50752232, 2.55506878, 2.5112561 , 2.43792635,\n",
       "       2.38596638, 2.37347798, 2.37982333, 2.3576458 , 2.25752232,\n",
       "       2.05465069, 1.76600379, 1.45010119, 1.18851628, 1.0557214 ,\n",
       "       1.08890787, 1.26995768, 1.52747589, 1.75927371, 1.86777243,\n",
       "       1.79553523, 1.54761594, 1.19194699, 0.83695334, 0.594025  ])"
      ]
     },
     "execution_count": 40,
     "metadata": {},
     "output_type": "execute_result"
    }
   ],
   "source": [
    "# Ajout du bruit à l'histogramme de H2 avec epsilon = 0.1 en utilisant BFPA\n",
    "epsilon = 0.1\n",
    "\n",
    "df_income_over_50k_01 = bfpa(df_income_over_50k_histogram, 5,  sensitivity_h2/ epsilon)\n",
    "df_income_over_50k_01"
   ]
  },
  {
   "cell_type": "code",
   "execution_count": 41,
   "metadata": {},
   "outputs": [
    {
     "data": {
      "image/png": "[encoded data removed]",
      "text/plain": [
       "<Figure size 864x576 with 1 Axes>"
      ]
     },
     "metadata": {
      "needs_background": "light"
     },
     "output_type": "display_data"
    }
   ],
   "source": [
    "# Affichage de l'histogramme de H2 perturbé avec epsilon 0.1\n",
    "plt.figure(figsize=(12,8))\n",
    "plt.hist(df_income_over_50k_01, bins=40)\n",
    "plt.gca().set(title='Histogramme perturbé des horaires / semaine pour les personnes avec revenu >= 50K; e=0.1', xlabel='Working hours');"
   ]
  },
  {
   "cell_type": "code",
   "execution_count": 42,
   "metadata": {},
   "outputs": [
    {
     "data": {
      "text/plain": [
       "array([1.30993976, 1.42427816, 1.62879788, 1.83359107, 1.94551577,\n",
       "       1.90641806, 1.71883043, 1.44867986, 1.20324144, 1.09209814,\n",
       "       1.18556386, 1.48629826, 1.92514021, 2.38324095, 2.73274158,\n",
       "       2.88122839, 2.80367821, 2.55017249, 2.2266154 , 1.95567876,\n",
       "       1.83246711, 1.89123039, 2.09518262, 2.35274951, 2.55367821,\n",
       "       2.61112746, 2.49384804, 2.23656845, 1.92514021, 1.6626261 ,\n",
       "       1.52965934, 1.55436725, 1.70324144, 1.89610284, 2.03895389,\n",
       "       2.06164253, 1.94551577, 1.73026357, 1.4973651 , 1.33675407])"
      ]
     },
     "execution_count": 42,
     "metadata": {},
     "output_type": "execute_result"
    }
   ],
   "source": [
    "# Ajout du bruit à l'histogramme de H2 avec epsilon = 1 en utilisant BFPA\n",
    "epsilon = 1\n",
    "\n",
    "df_income_over_50k_1 = bfpa(df_income_over_50k_histogram, 5,  sensitivity_h2/ epsilon)\n",
    "df_income_over_50k_1"
   ]
  },
  {
   "cell_type": "code",
   "execution_count": 43,
   "metadata": {},
   "outputs": [
    {
     "data": {
      "image/png": "[encoded data removed]",
      "text/plain": [
       "<Figure size 864x576 with 1 Axes>"
      ]
     },
     "metadata": {
      "needs_background": "light"
     },
     "output_type": "display_data"
    }
   ],
   "source": [
    "# Affichage de l'histogramme de H2 perturbé avec epsilon 1\n",
    "plt.figure(figsize=(12,8))\n",
    "plt.hist(df_income_over_50k_1, bins=40)\n",
    "plt.gca().set(title='Histogramme perturbé des horaires / semaine pour les personnes avec revenu >= 50K; e=1', xlabel='Working hours');"
   ]
  },
  {
   "cell_type": "markdown",
   "metadata": {},
   "source": [
    "# 3. Experimental Evaluation\n",
    "#### Q7. Compare the quality of the two algorithms on query H1 :\n",
    "##### En utilisant Laplace"
   ]
  },
  {
   "cell_type": "code",
   "execution_count": 44,
   "metadata": {},
   "outputs": [],
   "source": [
    "def laplace_for_h1(data, sensitivity):\n",
    "    return data + np.random.laplace(loc=0, scale=sensitivity/epsilon) "
   ]
  },
  {
   "cell_type": "markdown",
   "metadata": {},
   "source": [
    "#### Calcul des distances"
   ]
  },
  {
   "cell_type": "code",
   "execution_count": 45,
   "metadata": {},
   "outputs": [],
   "source": [
    "wass_distance_001 = [] # Wasserstein distance for epsilon = 0.01\n",
    "wass_distance_01 = []  # Wasserstein distance for epsilon = 0.1\n",
    "wass_distance_1 = []  # Wasserstein distance for epsilon = 1\n",
    "\n",
    "#Calcul du Wasserstein distance pour chaque epsilon \n",
    "for i in range(20):\n",
    "    wass_distance_001.append(wasserstein_distance(education_num_histogram, laplace_for_h1(education_num_histogram, 0.01)))\n",
    "    wass_distance_01.append(wasserstein_distance(education_num_histogram, laplace_for_h1(education_num_histogram, 0.1)))\n",
    "    wass_distance_1.append(wasserstein_distance(education_num_histogram, laplace_for_h1(education_num_histogram, 1)))"
   ]
  },
  {
   "cell_type": "markdown",
   "metadata": {},
   "source": [
    "#### Calcul des valeurs min/max/average pour les distances calculées précédemment"
   ]
  },
  {
   "cell_type": "code",
   "execution_count": 46,
   "metadata": {},
   "outputs": [
    {
     "name": "stdout",
     "output_type": "stream",
     "text": [
      "epsilon = 0.01 : >> min: 0.0013026456589057575 max: 0.038802384002217215 average: 0.009270981459678636\n",
      "epsilon = 0.1 : >> min: 0.0014646386842370482 max: 0.2780649629188721 average: 0.06469352848434998\n",
      "epsilon = 1 : >> min: 0.24216608560650746 max: 5.409565143083384 average: 1.5395653599750039\n"
     ]
    }
   ],
   "source": [
    "#min\n",
    "min_e001 = np.amin(wass_distance_001)\n",
    "min_e01 = np.amin(wass_distance_01)\n",
    "min_e1 = np.amin(wass_distance_1)\n",
    "#max\n",
    "max_e001 = np.amax(wass_distance_001)\n",
    "max_e01 = np.amax(wass_distance_01)\n",
    "max_e1 = np.amax(wass_distance_1)\n",
    "\n",
    "#average\n",
    "average_e001 = np.average(wass_distance_001)\n",
    "average_e01 = np.average(wass_distance_01)\n",
    "average_e1 = np.average(wass_distance_1)\n",
    "\n",
    "print(\"epsilon = 0.01 : >>\", \"min:\", min_e001, \"max:\", max_e001, \"average:\", average_e001)\n",
    "print(\"epsilon = 0.1 : >>\", \"min:\", min_e01, \"max:\",max_e01, \"average:\", average_e01)\n",
    "print(\"epsilon = 1 : >>\", \"min:\", min_e1, \"max:\", max_e1, \"average:\", average_e1)"
   ]
  },
  {
   "cell_type": "markdown",
   "metadata": {},
   "source": [
    "#### Affichage des distances calculées dans un graphe"
   ]
  },
  {
   "cell_type": "code",
   "execution_count": 47,
   "metadata": {},
   "outputs": [
    {
     "data": {
      "text/plain": [
       "[<matplotlib.lines.Line2D at 0x143e07172b0>]"
      ]
     },
     "execution_count": 47,
     "metadata": {},
     "output_type": "execute_result"
    },
    {
     "data": {
      "image/png": "[encoded data removed]",
      "text/plain": [
       "<Figure size 432x288 with 1 Axes>"
      ]
     },
     "metadata": {
      "needs_background": "light"
     },
     "output_type": "display_data"
    }
   ],
   "source": [
    "plt.plot([0.01, 0.1, 1], [min_e001, max_e001, average_e001], c=\"red\")\n",
    "plt.plot([0.01, 0.1, 1], [min_e01, max_e01, average_e01])\n",
    "plt.plot([0.01, 0.1, 1], [min_e1, max_e1, average_e1])"
   ]
  },
  {
   "cell_type": "markdown",
   "metadata": {},
   "source": [
    "##### En utilisant BFPA "
   ]
  },
  {
   "cell_type": "code",
   "execution_count": 48,
   "metadata": {},
   "outputs": [],
   "source": [
    "def bfpa_for_h1(data, sensitivity):\n",
    "    return  bfpa(data, 5,  sensitivity_h2/ epsilon)"
   ]
  },
  {
   "cell_type": "markdown",
   "metadata": {},
   "source": [
    "#### Calcul des distances"
   ]
  },
  {
   "cell_type": "code",
   "execution_count": 49,
   "metadata": {},
   "outputs": [],
   "source": [
    "wass_distance_001 = [] # Wasserstein distance for epsilon = 0.01\n",
    "wass_distance_01 = []  # Wasserstein distance for epsilon = 0.1\n",
    "wass_distance_1 = []  # Wasserstein distance for epsilon = 1\n",
    "#Calcul du Wasserstein distance pour chaque epsilon \n",
    "for i in range(20):\n",
    "    wass_distance_001.append(wasserstein_distance(education_num_histogram, bfpa_for_h1(education_num_histogram, 0.01)))\n",
    "    wass_distance_01.append(wasserstein_distance(education_num_histogram, bfpa_for_h1(education_num_histogram, 0.1)))\n",
    "    wass_distance_1.append(wasserstein_distance(education_num_histogram, bfpa_for_h1(education_num_histogram, 1)))"
   ]
  },
  {
   "cell_type": "markdown",
   "metadata": {},
   "source": [
    "#### Calcul des valeurs min/max/average pour les distances calculées précédemment"
   ]
  },
  {
   "cell_type": "code",
   "execution_count": 50,
   "metadata": {},
   "outputs": [
    {
     "name": "stdout",
     "output_type": "stream",
     "text": [
      "epsilon = 0.01 : >> min: 811.2755079920693 max: 811.3234067247124 average: 811.2938454879627\n",
      "epsilon = 0.1 : >> min: 811.2681230827859 max: 811.3068763820964 average: 811.2864395984318\n",
      "epsilon = 1 : >> min: 811.2539069665701 max: 811.3087448626168 average: 811.2859655233577\n"
     ]
    }
   ],
   "source": [
    "#min\n",
    "min_e001 = np.amin(wass_distance_001)\n",
    "min_e01 = np.amin(wass_distance_01)\n",
    "min_e1 = np.amin(wass_distance_1)\n",
    "#max\n",
    "max_e001 = np.amax(wass_distance_001)\n",
    "max_e01 = np.amax(wass_distance_01)\n",
    "max_e1 = np.amax(wass_distance_1)\n",
    "\n",
    "#average\n",
    "average_e001 = np.average(wass_distance_001)\n",
    "average_e01 = np.average(wass_distance_01)\n",
    "average_e1 = np.average(wass_distance_1)\n",
    "\n",
    "print(\"epsilon = 0.01 : >>\", \"min:\", min_e001, \"max:\", max_e001, \"average:\", average_e001)\n",
    "print(\"epsilon = 0.1 : >>\", \"min:\", min_e01, \"max:\",max_e01, \"average:\", average_e01)\n",
    "print(\"epsilon = 1 : >>\", \"min:\", min_e1, \"max:\", max_e1, \"average:\", average_e1)"
   ]
  },
  {
   "cell_type": "markdown",
   "metadata": {},
   "source": [
    "#### Affichage des distances calculées dans un graphe"
   ]
  },
  {
   "cell_type": "code",
   "execution_count": 51,
   "metadata": {},
   "outputs": [
    {
     "data": {
      "text/plain": [
       "[<matplotlib.lines.Line2D at 0x143e0201ee0>]"
      ]
     },
     "execution_count": 51,
     "metadata": {},
     "output_type": "execute_result"
    },
    {
     "data": {
      "image/png": "[encoded data removed]",
      "text/plain": [
       "<Figure size 432x288 with 1 Axes>"
      ]
     },
     "metadata": {
      "needs_background": "light"
     },
     "output_type": "display_data"
    }
   ],
   "source": [
    "plt.plot([0.01, 0.1, 1], [min_e001, max_e001, average_e001], c=\"red\")\n",
    "plt.plot([0.01, 0.1, 1], [min_e01, max_e01, average_e01])\n",
    "plt.plot([0.01, 0.1, 1], [min_e1, max_e1, average_e1])"
   ]
  },
  {
   "cell_type": "markdown",
   "metadata": {},
   "source": [
    "<p>En observant les deux graphes, on observe qu'avec basic fourier les distances sont beaucoup plus importantes (nuages des points espacés) alors qu'avec Laplace.\n",
    "Avec Laplace, quand epsilon = 1, la distance est importante tandis qu'on a le contraire avec Fourier. \n",
    "En augmentant epsilon, la distance augmente avec Laplace et on a l'effet inverse avec Fourier.</p>"
   ]
  },
  {
   "cell_type": "markdown",
   "metadata": {},
   "source": [
    "#### Q8 Compare the quality of the two algorithms on query H2 :"
   ]
  },
  {
   "cell_type": "code",
   "execution_count": 52,
   "metadata": {},
   "outputs": [],
   "source": [
    "bins = np.array([2, 4, 6, 8])"
   ]
  },
  {
   "cell_type": "markdown",
   "metadata": {},
   "source": [
    "##### En utilisant Laplace"
   ]
  },
  {
   "cell_type": "markdown",
   "metadata": {},
   "source": [
    "#### Calcul des distances"
   ]
  },
  {
   "cell_type": "code",
   "execution_count": 53,
   "metadata": {},
   "outputs": [],
   "source": [
    "#Calcul des distances\n",
    "wass_distance_001 = []\n",
    "wass_distance_01 = [] \n",
    "wass_distance_1 = [] \n",
    "\n",
    "for i in range(20):\n",
    "    wass_distance_001.append(wasserstein_distance(bins, laplace_for_h1(bins, 0.01)))\n",
    "    wass_distance_01.append(wasserstein_distance(bins, laplace_for_h1(bins, 0.1)))\n",
    "    wass_distance_1.append(wasserstein_distance(bins, laplace_for_h1(bins, 1)))"
   ]
  },
  {
   "cell_type": "markdown",
   "metadata": {},
   "source": [
    "#### Calcul des valeurs min/max/average pour les distances calculées précédemment"
   ]
  },
  {
   "cell_type": "code",
   "execution_count": 54,
   "metadata": {},
   "outputs": [
    {
     "name": "stdout",
     "output_type": "stream",
     "text": [
      "epsilon = 0.01 : >> min: 0.00012605890737471537 max: 0.06318371691308933 average: 0.011045470075404625\n",
      "epsilon = 0.1 : >> min: 0.000777350594894699 max: 0.31860388092425274 average: 0.09407897478293971\n",
      "epsilon = 1 : >> min: 0.033744431937435426 max: 5.2844499121847015 average: 1.103552043868255\n"
     ]
    }
   ],
   "source": [
    "#min\n",
    "min_e001 = np.amin(wass_distance_001)\n",
    "min_e01 = np.amin(wass_distance_01)\n",
    "min_e1 = np.amin(wass_distance_1)\n",
    "#max\n",
    "max_e001 = np.amax(wass_distance_001)\n",
    "max_e01 = np.amax(wass_distance_01)\n",
    "max_e1 = np.amax(wass_distance_1)\n",
    "\n",
    "#average\n",
    "average_e001 = np.average(wass_distance_001)\n",
    "average_e01 = np.average(wass_distance_01)\n",
    "average_e1 = np.average(wass_distance_1)\n",
    "\n",
    "print(\"epsilon = 0.01 : >>\", \"min:\", min_e001, \"max:\", max_e001, \"average:\", average_e001)\n",
    "print(\"epsilon = 0.1 : >>\", \"min:\", min_e01, \"max:\",max_e01, \"average:\", average_e01)\n",
    "print(\"epsilon = 1 : >>\", \"min:\", min_e1, \"max:\", max_e1, \"average:\", average_e1)"
   ]
  },
  {
   "cell_type": "markdown",
   "metadata": {},
   "source": [
    "#### Affichage des distances calculées dans un graphe"
   ]
  },
  {
   "cell_type": "code",
   "execution_count": 55,
   "metadata": {},
   "outputs": [
    {
     "data": {
      "text/plain": [
       "[<matplotlib.lines.Line2D at 0x143e01e6f70>]"
      ]
     },
     "execution_count": 55,
     "metadata": {},
     "output_type": "execute_result"
    },
    {
     "data": {
      "image/png": "[encoded data removed]",
      "text/plain": [
       "<Figure size 432x288 with 1 Axes>"
      ]
     },
     "metadata": {
      "needs_background": "light"
     },
     "output_type": "display_data"
    }
   ],
   "source": [
    "#Affichage des distances dans un graphe\n",
    "plt.plot([0.01, 0.1, 1], [min_e001, max_e001, average_e001], c=\"red\")\n",
    "plt.plot([0.01, 0.1, 1], [min_e01, max_e01, average_e01])\n",
    "plt.plot([0.01, 0.1, 1], [min_e1, max_e1, average_e1])"
   ]
  },
  {
   "cell_type": "markdown",
   "metadata": {},
   "source": [
    "<p>On observe que la courbe garde la même allure qu'avec les données de la requête H1.</p>"
   ]
  },
  {
   "cell_type": "markdown",
   "metadata": {},
   "source": [
    "#### † Vary the value of k for the Basic FPA algorithm. >> Regarder l'implémentation de BFPA un peu plus haut"
   ]
  },
  {
   "cell_type": "code",
   "execution_count": null,
   "metadata": {},
   "outputs": [],
   "source": []
  }
 ],
 "metadata": {
  "kernelspec": {
   "display_name": "Python 3",
   "language": "python",
   "name": "python3"
  },
  "language_info": {
   "codemirror_mode": {
    "name": "ipython",
    "version": 3
   },
   "file_extension": ".py",
   "mimetype": "text/x-python",
   "name": "python",
   "nbconvert_exporter": "python",
   "pygments_lexer": "ipython3",
   "version": "3.8.5"
  }
 },
 "nbformat": 4,
 "nbformat_minor": 4
}
