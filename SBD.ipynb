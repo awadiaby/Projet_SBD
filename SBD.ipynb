{
 "cells": [
  {
   "cell_type": "code",
   "execution_count": 1,
   "metadata": {},
   "outputs": [],
   "source": [
    "import pandas as pd\n",
    "import numpy as np\n",
    "import matplotlib.pyplot as plt\n",
    "import cmath\n",
    "from collections.abc import Sequence"
   ]
  },
  {
   "cell_type": "markdown",
   "metadata": {},
   "source": [
    "Load data"
   ]
  },
  {
   "cell_type": "code",
   "execution_count": 2,
   "metadata": {
    "scrolled": false
   },
   "outputs": [
    {
     "data": {
      "text/html": [
       "<div>\n",
       "<style scoped>\n",
       "    .dataframe tbody tr th:only-of-type {\n",
       "        vertical-align: middle;\n",
       "    }\n",
       "\n",
       "    .dataframe tbody tr th {\n",
       "        vertical-align: top;\n",
       "    }\n",
       "\n",
       "    .dataframe thead th {\n",
       "        text-align: right;\n",
       "    }\n",
       "</style>\n",
       "<table border=\"1\" class=\"dataframe\">\n",
       "  <thead>\n",
       "    <tr style=\"text-align: right;\">\n",
       "      <th></th>\n",
       "      <th>Age</th>\n",
       "      <th>Workclass</th>\n",
       "      <th>Fnlwgt</th>\n",
       "      <th>Education</th>\n",
       "      <th>Education-num</th>\n",
       "      <th>Marital-status</th>\n",
       "      <th>Occupation</th>\n",
       "      <th>Relationship</th>\n",
       "      <th>Race</th>\n",
       "      <th>Sex</th>\n",
       "      <th>Capital-gain</th>\n",
       "      <th>Capital-loss</th>\n",
       "      <th>Hours-per-week</th>\n",
       "      <th>Native-country</th>\n",
       "      <th>Income</th>\n",
       "    </tr>\n",
       "  </thead>\n",
       "  <tbody>\n",
       "    <tr>\n",
       "      <th>0</th>\n",
       "      <td>39</td>\n",
       "      <td>State-gov</td>\n",
       "      <td>77516</td>\n",
       "      <td>Bachelors</td>\n",
       "      <td>13</td>\n",
       "      <td>Never-married</td>\n",
       "      <td>Adm-clerical</td>\n",
       "      <td>Not-in-family</td>\n",
       "      <td>White</td>\n",
       "      <td>Male</td>\n",
       "      <td>2174</td>\n",
       "      <td>0</td>\n",
       "      <td>40</td>\n",
       "      <td>United-States</td>\n",
       "      <td>&lt;=50K</td>\n",
       "    </tr>\n",
       "    <tr>\n",
       "      <th>1</th>\n",
       "      <td>50</td>\n",
       "      <td>Self-emp-not-inc</td>\n",
       "      <td>83311</td>\n",
       "      <td>Bachelors</td>\n",
       "      <td>13</td>\n",
       "      <td>Married-civ-spouse</td>\n",
       "      <td>Exec-managerial</td>\n",
       "      <td>Husband</td>\n",
       "      <td>White</td>\n",
       "      <td>Male</td>\n",
       "      <td>0</td>\n",
       "      <td>0</td>\n",
       "      <td>13</td>\n",
       "      <td>United-States</td>\n",
       "      <td>&lt;=50K</td>\n",
       "    </tr>\n",
       "    <tr>\n",
       "      <th>2</th>\n",
       "      <td>38</td>\n",
       "      <td>Private</td>\n",
       "      <td>215646</td>\n",
       "      <td>HS-grad</td>\n",
       "      <td>9</td>\n",
       "      <td>Divorced</td>\n",
       "      <td>Handlers-cleaners</td>\n",
       "      <td>Not-in-family</td>\n",
       "      <td>White</td>\n",
       "      <td>Male</td>\n",
       "      <td>0</td>\n",
       "      <td>0</td>\n",
       "      <td>40</td>\n",
       "      <td>United-States</td>\n",
       "      <td>&lt;=50K</td>\n",
       "    </tr>\n",
       "    <tr>\n",
       "      <th>3</th>\n",
       "      <td>53</td>\n",
       "      <td>Private</td>\n",
       "      <td>234721</td>\n",
       "      <td>11th</td>\n",
       "      <td>7</td>\n",
       "      <td>Married-civ-spouse</td>\n",
       "      <td>Handlers-cleaners</td>\n",
       "      <td>Husband</td>\n",
       "      <td>Black</td>\n",
       "      <td>Male</td>\n",
       "      <td>0</td>\n",
       "      <td>0</td>\n",
       "      <td>40</td>\n",
       "      <td>United-States</td>\n",
       "      <td>&lt;=50K</td>\n",
       "    </tr>\n",
       "    <tr>\n",
       "      <th>4</th>\n",
       "      <td>28</td>\n",
       "      <td>Private</td>\n",
       "      <td>338409</td>\n",
       "      <td>Bachelors</td>\n",
       "      <td>13</td>\n",
       "      <td>Married-civ-spouse</td>\n",
       "      <td>Prof-specialty</td>\n",
       "      <td>Wife</td>\n",
       "      <td>Black</td>\n",
       "      <td>Female</td>\n",
       "      <td>0</td>\n",
       "      <td>0</td>\n",
       "      <td>40</td>\n",
       "      <td>Cuba</td>\n",
       "      <td>&lt;=50K</td>\n",
       "    </tr>\n",
       "  </tbody>\n",
       "</table>\n",
       "</div>"
      ],
      "text/plain": [
       "   Age          Workclass   Fnlwgt   Education   Education-num  \\\n",
       "0   39          State-gov    77516   Bachelors              13   \n",
       "1   50   Self-emp-not-inc    83311   Bachelors              13   \n",
       "2   38            Private   215646     HS-grad               9   \n",
       "3   53            Private   234721        11th               7   \n",
       "4   28            Private   338409   Bachelors              13   \n",
       "\n",
       "        Marital-status          Occupation    Relationship    Race      Sex  \\\n",
       "0        Never-married        Adm-clerical   Not-in-family   White     Male   \n",
       "1   Married-civ-spouse     Exec-managerial         Husband   White     Male   \n",
       "2             Divorced   Handlers-cleaners   Not-in-family   White     Male   \n",
       "3   Married-civ-spouse   Handlers-cleaners         Husband   Black     Male   \n",
       "4   Married-civ-spouse      Prof-specialty            Wife   Black   Female   \n",
       "\n",
       "    Capital-gain   Capital-loss  Hours-per-week  Native-country  Income  \n",
       "0           2174              0              40   United-States   <=50K  \n",
       "1              0              0              13   United-States   <=50K  \n",
       "2              0              0              40   United-States   <=50K  \n",
       "3              0              0              40   United-States   <=50K  \n",
       "4              0              0              40            Cuba   <=50K  "
      ]
     },
     "execution_count": 2,
     "metadata": {},
     "output_type": "execute_result"
    }
   ],
   "source": [
    "# Load the data:\n",
    "data= pd.read_csv('adult.data')\n",
    "data.head()"
   ]
  },
  {
   "cell_type": "markdown",
   "metadata": {},
   "source": [
    "### H1 Histogram of Education level"
   ]
  },
  {
   "cell_type": "code",
   "execution_count": 3,
   "metadata": {
    "scrolled": true
   },
   "outputs": [
    {
     "data": {
      "text/html": [
       "<div>\n",
       "<style scoped>\n",
       "    .dataframe tbody tr th:only-of-type {\n",
       "        vertical-align: middle;\n",
       "    }\n",
       "\n",
       "    .dataframe tbody tr th {\n",
       "        vertical-align: top;\n",
       "    }\n",
       "\n",
       "    .dataframe thead th {\n",
       "        text-align: right;\n",
       "    }\n",
       "</style>\n",
       "<table border=\"1\" class=\"dataframe\">\n",
       "  <thead>\n",
       "    <tr style=\"text-align: right;\">\n",
       "      <th></th>\n",
       "      <th>Education</th>\n",
       "      <th>Education-num</th>\n",
       "    </tr>\n",
       "  </thead>\n",
       "  <tbody>\n",
       "    <tr>\n",
       "      <th>0</th>\n",
       "      <td>Bachelors</td>\n",
       "      <td>13</td>\n",
       "    </tr>\n",
       "    <tr>\n",
       "      <th>1</th>\n",
       "      <td>Bachelors</td>\n",
       "      <td>13</td>\n",
       "    </tr>\n",
       "    <tr>\n",
       "      <th>2</th>\n",
       "      <td>HS-grad</td>\n",
       "      <td>9</td>\n",
       "    </tr>\n",
       "    <tr>\n",
       "      <th>3</th>\n",
       "      <td>11th</td>\n",
       "      <td>7</td>\n",
       "    </tr>\n",
       "    <tr>\n",
       "      <th>4</th>\n",
       "      <td>Bachelors</td>\n",
       "      <td>13</td>\n",
       "    </tr>\n",
       "    <tr>\n",
       "      <th>...</th>\n",
       "      <td>...</td>\n",
       "      <td>...</td>\n",
       "    </tr>\n",
       "    <tr>\n",
       "      <th>32556</th>\n",
       "      <td>Assoc-acdm</td>\n",
       "      <td>12</td>\n",
       "    </tr>\n",
       "    <tr>\n",
       "      <th>32557</th>\n",
       "      <td>HS-grad</td>\n",
       "      <td>9</td>\n",
       "    </tr>\n",
       "    <tr>\n",
       "      <th>32558</th>\n",
       "      <td>HS-grad</td>\n",
       "      <td>9</td>\n",
       "    </tr>\n",
       "    <tr>\n",
       "      <th>32559</th>\n",
       "      <td>HS-grad</td>\n",
       "      <td>9</td>\n",
       "    </tr>\n",
       "    <tr>\n",
       "      <th>32560</th>\n",
       "      <td>HS-grad</td>\n",
       "      <td>9</td>\n",
       "    </tr>\n",
       "  </tbody>\n",
       "</table>\n",
       "<p>32561 rows × 2 columns</p>\n",
       "</div>"
      ],
      "text/plain": [
       "         Education   Education-num\n",
       "0        Bachelors              13\n",
       "1        Bachelors              13\n",
       "2          HS-grad               9\n",
       "3             11th               7\n",
       "4        Bachelors              13\n",
       "...            ...             ...\n",
       "32556   Assoc-acdm              12\n",
       "32557      HS-grad               9\n",
       "32558      HS-grad               9\n",
       "32559      HS-grad               9\n",
       "32560      HS-grad               9\n",
       "\n",
       "[32561 rows x 2 columns]"
      ]
     },
     "execution_count": 3,
     "metadata": {},
     "output_type": "execute_result"
    }
   ],
   "source": [
    "# Load the Education donner\n",
    "df_education = data[['Education',' Education-num']]\n",
    "df_education"
   ]
  },
  {
   "cell_type": "code",
   "execution_count": 4,
   "metadata": {},
   "outputs": [
    {
     "data": {
      "text/plain": [
       "0        13\n",
       "1        13\n",
       "2         9\n",
       "3         7\n",
       "4        13\n",
       "         ..\n",
       "32556    12\n",
       "32557     9\n",
       "32558     9\n",
       "32559     9\n",
       "32560     9\n",
       "Name:  Education-num, Length: 32561, dtype: int64"
      ]
     },
     "execution_count": 4,
     "metadata": {},
     "output_type": "execute_result"
    }
   ],
   "source": [
    "df_education_num = df_education[' Education-num']\n",
    "df_education_num"
   ]
  },
  {
   "cell_type": "code",
   "execution_count": 5,
   "metadata": {},
   "outputs": [
    {
     "data": {
      "image/png": "[encoded data removed]",
      "text/plain": [
       "<Figure size 864x576 with 1 Axes>"
      ]
     },
     "metadata": {
      "needs_background": "light"
     },
     "output_type": "display_data"
    }
   ],
   "source": [
    "plt.figure(figsize=(12,8))\n",
    "(education_num_histogram, bins, patches) = plt.hist(df_education_num, bins=40)\n",
    "plt.gca().set(title='Education Level', xlabel='Education');"
   ]
  },
  {
   "cell_type": "markdown",
   "metadata": {},
   "source": [
    "### H2 Histogram of working hours per week for people with income over 50K"
   ]
  },
  {
   "cell_type": "code",
   "execution_count": 6,
   "metadata": {},
   "outputs": [
    {
     "data": {
      "text/html": [
       "<div>\n",
       "<style scoped>\n",
       "    .dataframe tbody tr th:only-of-type {\n",
       "        vertical-align: middle;\n",
       "    }\n",
       "\n",
       "    .dataframe tbody tr th {\n",
       "        vertical-align: top;\n",
       "    }\n",
       "\n",
       "    .dataframe thead th {\n",
       "        text-align: right;\n",
       "    }\n",
       "</style>\n",
       "<table border=\"1\" class=\"dataframe\">\n",
       "  <thead>\n",
       "    <tr style=\"text-align: right;\">\n",
       "      <th></th>\n",
       "      <th>Hours-per-week</th>\n",
       "      <th>Income</th>\n",
       "    </tr>\n",
       "  </thead>\n",
       "  <tbody>\n",
       "    <tr>\n",
       "      <th>0</th>\n",
       "      <td>40</td>\n",
       "      <td>&lt;=50K</td>\n",
       "    </tr>\n",
       "    <tr>\n",
       "      <th>1</th>\n",
       "      <td>13</td>\n",
       "      <td>&lt;=50K</td>\n",
       "    </tr>\n",
       "    <tr>\n",
       "      <th>2</th>\n",
       "      <td>40</td>\n",
       "      <td>&lt;=50K</td>\n",
       "    </tr>\n",
       "    <tr>\n",
       "      <th>3</th>\n",
       "      <td>40</td>\n",
       "      <td>&lt;=50K</td>\n",
       "    </tr>\n",
       "    <tr>\n",
       "      <th>4</th>\n",
       "      <td>40</td>\n",
       "      <td>&lt;=50K</td>\n",
       "    </tr>\n",
       "    <tr>\n",
       "      <th>...</th>\n",
       "      <td>...</td>\n",
       "      <td>...</td>\n",
       "    </tr>\n",
       "    <tr>\n",
       "      <th>32556</th>\n",
       "      <td>38</td>\n",
       "      <td>&lt;=50K</td>\n",
       "    </tr>\n",
       "    <tr>\n",
       "      <th>32557</th>\n",
       "      <td>40</td>\n",
       "      <td>&gt;50K</td>\n",
       "    </tr>\n",
       "    <tr>\n",
       "      <th>32558</th>\n",
       "      <td>40</td>\n",
       "      <td>&lt;=50K</td>\n",
       "    </tr>\n",
       "    <tr>\n",
       "      <th>32559</th>\n",
       "      <td>20</td>\n",
       "      <td>&lt;=50K</td>\n",
       "    </tr>\n",
       "    <tr>\n",
       "      <th>32560</th>\n",
       "      <td>40</td>\n",
       "      <td>&gt;50K</td>\n",
       "    </tr>\n",
       "  </tbody>\n",
       "</table>\n",
       "<p>32561 rows × 2 columns</p>\n",
       "</div>"
      ],
      "text/plain": [
       "       Hours-per-week  Income\n",
       "0                  40   <=50K\n",
       "1                  13   <=50K\n",
       "2                  40   <=50K\n",
       "3                  40   <=50K\n",
       "4                  40   <=50K\n",
       "...               ...     ...\n",
       "32556              38   <=50K\n",
       "32557              40    >50K\n",
       "32558              40   <=50K\n",
       "32559              20   <=50K\n",
       "32560              40    >50K\n",
       "\n",
       "[32561 rows x 2 columns]"
      ]
     },
     "execution_count": 6,
     "metadata": {},
     "output_type": "execute_result"
    }
   ],
   "source": [
    "df_hours_per_week = data[['Hours-per-week','Income']] \n",
    "df_hours_per_week"
   ]
  },
  {
   "cell_type": "code",
   "execution_count": 7,
   "metadata": {},
   "outputs": [
    {
     "data": {
      "text/html": [
       "<div>\n",
       "<style scoped>\n",
       "    .dataframe tbody tr th:only-of-type {\n",
       "        vertical-align: middle;\n",
       "    }\n",
       "\n",
       "    .dataframe tbody tr th {\n",
       "        vertical-align: top;\n",
       "    }\n",
       "\n",
       "    .dataframe thead th {\n",
       "        text-align: right;\n",
       "    }\n",
       "</style>\n",
       "<table border=\"1\" class=\"dataframe\">\n",
       "  <thead>\n",
       "    <tr style=\"text-align: right;\">\n",
       "      <th></th>\n",
       "      <th>Hours-per-week</th>\n",
       "      <th>Income</th>\n",
       "    </tr>\n",
       "  </thead>\n",
       "  <tbody>\n",
       "    <tr>\n",
       "      <th>7</th>\n",
       "      <td>45</td>\n",
       "      <td>&gt;50K</td>\n",
       "    </tr>\n",
       "    <tr>\n",
       "      <th>8</th>\n",
       "      <td>50</td>\n",
       "      <td>&gt;50K</td>\n",
       "    </tr>\n",
       "    <tr>\n",
       "      <th>9</th>\n",
       "      <td>40</td>\n",
       "      <td>&gt;50K</td>\n",
       "    </tr>\n",
       "    <tr>\n",
       "      <th>10</th>\n",
       "      <td>80</td>\n",
       "      <td>&gt;50K</td>\n",
       "    </tr>\n",
       "    <tr>\n",
       "      <th>11</th>\n",
       "      <td>40</td>\n",
       "      <td>&gt;50K</td>\n",
       "    </tr>\n",
       "    <tr>\n",
       "      <th>...</th>\n",
       "      <td>...</td>\n",
       "      <td>...</td>\n",
       "    </tr>\n",
       "    <tr>\n",
       "      <th>32539</th>\n",
       "      <td>10</td>\n",
       "      <td>&gt;50K</td>\n",
       "    </tr>\n",
       "    <tr>\n",
       "      <th>32545</th>\n",
       "      <td>20</td>\n",
       "      <td>&gt;50K</td>\n",
       "    </tr>\n",
       "    <tr>\n",
       "      <th>32554</th>\n",
       "      <td>40</td>\n",
       "      <td>&gt;50K</td>\n",
       "    </tr>\n",
       "    <tr>\n",
       "      <th>32557</th>\n",
       "      <td>40</td>\n",
       "      <td>&gt;50K</td>\n",
       "    </tr>\n",
       "    <tr>\n",
       "      <th>32560</th>\n",
       "      <td>40</td>\n",
       "      <td>&gt;50K</td>\n",
       "    </tr>\n",
       "  </tbody>\n",
       "</table>\n",
       "<p>7841 rows × 2 columns</p>\n",
       "</div>"
      ],
      "text/plain": [
       "       Hours-per-week Income\n",
       "7                  45   >50K\n",
       "8                  50   >50K\n",
       "9                  40   >50K\n",
       "10                 80   >50K\n",
       "11                 40   >50K\n",
       "...               ...    ...\n",
       "32539              10   >50K\n",
       "32545              20   >50K\n",
       "32554              40   >50K\n",
       "32557              40   >50K\n",
       "32560              40   >50K\n",
       "\n",
       "[7841 rows x 2 columns]"
      ]
     },
     "execution_count": 7,
     "metadata": {},
     "output_type": "execute_result"
    }
   ],
   "source": [
    "df_income_over_50k = pd.DataFrame(df_hours_per_week)\n",
    "df_income_over_50k = df_income_over_50k[df_income_over_50k['Income'] == ' >50K']\n",
    "df_income_over_50k"
   ]
  },
  {
   "cell_type": "code",
   "execution_count": 8,
   "metadata": {},
   "outputs": [
    {
     "data": {
      "text/plain": [
       "7        45\n",
       "8        50\n",
       "9        40\n",
       "10       80\n",
       "11       40\n",
       "         ..\n",
       "32539    10\n",
       "32545    20\n",
       "32554    40\n",
       "32557    40\n",
       "32560    40\n",
       "Name: Hours-per-week, Length: 7841, dtype: int64"
      ]
     },
     "execution_count": 8,
     "metadata": {},
     "output_type": "execute_result"
    }
   ],
   "source": [
    "df_income_over_50k = df_income_over_50k['Hours-per-week']\n",
    "df_income_over_50k"
   ]
  },
  {
   "cell_type": "code",
   "execution_count": 9,
   "metadata": {
    "scrolled": false
   },
   "outputs": [
    {
     "data": {
      "image/png": "[encoded data removed]",
      "text/plain": [
       "<Figure size 864x576 with 1 Axes>"
      ]
     },
     "metadata": {
      "needs_background": "light"
     },
     "output_type": "display_data"
    }
   ],
   "source": [
    "plt.figure(figsize=(12,8))\n",
    "(df_income_over_50k_histogram, bins, patches) = plt.hist(df_income_over_50k, bins=40)\n",
    "plt.gca().set(title='Working hours ', xlabel='Working Hours-per-week');"
   ]
  },
  {
   "cell_type": "markdown",
   "metadata": {},
   "source": [
    "### Laplace Mechanism for Histograms"
   ]
  },
  {
   "cell_type": "markdown",
   "metadata": {},
   "source": [
    "### Q1 \n",
    "La sensivity est 1 car il s'agit du nombre d'individu dans l'histogramme"
   ]
  },
  {
   "cell_type": "markdown",
   "metadata": {},
   "source": [
    "### Q2 : Use mechanism Laplace to compute query H1 with {0.01, 0.1, 1}"
   ]
  },
  {
   "cell_type": "code",
   "execution_count": 10,
   "metadata": {},
   "outputs": [
    {
     "name": "stdout",
     "output_type": "stream",
     "text": [
      "[   51.     0.   168.     0.     0.   333.     0.     0.   646.     0.\n",
      "   514.     0.     0.   933.     0.     0.  1175.     0.   433.     0.\n",
      "     0. 10501.     0.     0.  7291.     0.  1382.     0.     0.  1067.\n",
      "     0.     0.  5355.     0.  1723.     0.     0.   576.     0.   413.]\n"
     ]
    }
   ],
   "source": [
    "print(education_num_histogram)"
   ]
  },
  {
   "cell_type": "code",
   "execution_count": 11,
   "metadata": {},
   "outputs": [
    {
     "data": {
      "text/plain": [
       "array([   18.20661697,   -32.79338303,   135.20661697,   -32.79338303,\n",
       "         -32.79338303,   300.20661697,   -32.79338303,   -32.79338303,\n",
       "         613.20661697,   -32.79338303,   481.20661697,   -32.79338303,\n",
       "         -32.79338303,   900.20661697,   -32.79338303,   -32.79338303,\n",
       "        1142.20661697,   -32.79338303,   400.20661697,   -32.79338303,\n",
       "         -32.79338303, 10468.20661697,   -32.79338303,   -32.79338303,\n",
       "        7258.20661697,   -32.79338303,  1349.20661697,   -32.79338303,\n",
       "         -32.79338303,  1034.20661697,   -32.79338303,   -32.79338303,\n",
       "        5322.20661697,   -32.79338303,  1690.20661697,   -32.79338303,\n",
       "         -32.79338303,   543.20661697,   -32.79338303,   380.20661697])"
      ]
     },
     "execution_count": 11,
     "metadata": {},
     "output_type": "execute_result"
    }
   ],
   "source": [
    "sensitivity = 1\n",
    "epsilon = 0.01\n",
    "\n",
    "df_education_num_001 = education_num_histogram + np.random.laplace(loc=0, scale=sensitivity/epsilon)\n",
    "df_education_num_001"
   ]
  },
  {
   "cell_type": "code",
   "execution_count": 12,
   "metadata": {},
   "outputs": [
    {
     "data": {
      "text/html": [
       "<div>\n",
       "<style scoped>\n",
       "    .dataframe tbody tr th:only-of-type {\n",
       "        vertical-align: middle;\n",
       "    }\n",
       "\n",
       "    .dataframe tbody tr th {\n",
       "        vertical-align: top;\n",
       "    }\n",
       "\n",
       "    .dataframe thead th {\n",
       "        text-align: right;\n",
       "    }\n",
       "</style>\n",
       "<table border=\"1\" class=\"dataframe\">\n",
       "  <thead>\n",
       "    <tr style=\"text-align: right;\">\n",
       "      <th></th>\n",
       "      <th>histogram_bins</th>\n",
       "    </tr>\n",
       "  </thead>\n",
       "  <tbody>\n",
       "    <tr>\n",
       "      <th>0</th>\n",
       "      <td>18.206617</td>\n",
       "    </tr>\n",
       "    <tr>\n",
       "      <th>1</th>\n",
       "      <td>-32.793383</td>\n",
       "    </tr>\n",
       "    <tr>\n",
       "      <th>2</th>\n",
       "      <td>135.206617</td>\n",
       "    </tr>\n",
       "    <tr>\n",
       "      <th>3</th>\n",
       "      <td>-32.793383</td>\n",
       "    </tr>\n",
       "    <tr>\n",
       "      <th>4</th>\n",
       "      <td>-32.793383</td>\n",
       "    </tr>\n",
       "    <tr>\n",
       "      <th>5</th>\n",
       "      <td>300.206617</td>\n",
       "    </tr>\n",
       "    <tr>\n",
       "      <th>6</th>\n",
       "      <td>-32.793383</td>\n",
       "    </tr>\n",
       "    <tr>\n",
       "      <th>7</th>\n",
       "      <td>-32.793383</td>\n",
       "    </tr>\n",
       "    <tr>\n",
       "      <th>8</th>\n",
       "      <td>613.206617</td>\n",
       "    </tr>\n",
       "    <tr>\n",
       "      <th>9</th>\n",
       "      <td>-32.793383</td>\n",
       "    </tr>\n",
       "    <tr>\n",
       "      <th>10</th>\n",
       "      <td>481.206617</td>\n",
       "    </tr>\n",
       "    <tr>\n",
       "      <th>11</th>\n",
       "      <td>-32.793383</td>\n",
       "    </tr>\n",
       "    <tr>\n",
       "      <th>12</th>\n",
       "      <td>-32.793383</td>\n",
       "    </tr>\n",
       "    <tr>\n",
       "      <th>13</th>\n",
       "      <td>900.206617</td>\n",
       "    </tr>\n",
       "    <tr>\n",
       "      <th>14</th>\n",
       "      <td>-32.793383</td>\n",
       "    </tr>\n",
       "    <tr>\n",
       "      <th>15</th>\n",
       "      <td>-32.793383</td>\n",
       "    </tr>\n",
       "    <tr>\n",
       "      <th>16</th>\n",
       "      <td>1142.206617</td>\n",
       "    </tr>\n",
       "    <tr>\n",
       "      <th>17</th>\n",
       "      <td>-32.793383</td>\n",
       "    </tr>\n",
       "    <tr>\n",
       "      <th>18</th>\n",
       "      <td>400.206617</td>\n",
       "    </tr>\n",
       "    <tr>\n",
       "      <th>19</th>\n",
       "      <td>-32.793383</td>\n",
       "    </tr>\n",
       "    <tr>\n",
       "      <th>20</th>\n",
       "      <td>-32.793383</td>\n",
       "    </tr>\n",
       "    <tr>\n",
       "      <th>21</th>\n",
       "      <td>10468.206617</td>\n",
       "    </tr>\n",
       "    <tr>\n",
       "      <th>22</th>\n",
       "      <td>-32.793383</td>\n",
       "    </tr>\n",
       "    <tr>\n",
       "      <th>23</th>\n",
       "      <td>-32.793383</td>\n",
       "    </tr>\n",
       "    <tr>\n",
       "      <th>24</th>\n",
       "      <td>7258.206617</td>\n",
       "    </tr>\n",
       "    <tr>\n",
       "      <th>25</th>\n",
       "      <td>-32.793383</td>\n",
       "    </tr>\n",
       "    <tr>\n",
       "      <th>26</th>\n",
       "      <td>1349.206617</td>\n",
       "    </tr>\n",
       "    <tr>\n",
       "      <th>27</th>\n",
       "      <td>-32.793383</td>\n",
       "    </tr>\n",
       "    <tr>\n",
       "      <th>28</th>\n",
       "      <td>-32.793383</td>\n",
       "    </tr>\n",
       "    <tr>\n",
       "      <th>29</th>\n",
       "      <td>1034.206617</td>\n",
       "    </tr>\n",
       "    <tr>\n",
       "      <th>30</th>\n",
       "      <td>-32.793383</td>\n",
       "    </tr>\n",
       "    <tr>\n",
       "      <th>31</th>\n",
       "      <td>-32.793383</td>\n",
       "    </tr>\n",
       "    <tr>\n",
       "      <th>32</th>\n",
       "      <td>5322.206617</td>\n",
       "    </tr>\n",
       "    <tr>\n",
       "      <th>33</th>\n",
       "      <td>-32.793383</td>\n",
       "    </tr>\n",
       "    <tr>\n",
       "      <th>34</th>\n",
       "      <td>1690.206617</td>\n",
       "    </tr>\n",
       "    <tr>\n",
       "      <th>35</th>\n",
       "      <td>-32.793383</td>\n",
       "    </tr>\n",
       "    <tr>\n",
       "      <th>36</th>\n",
       "      <td>-32.793383</td>\n",
       "    </tr>\n",
       "    <tr>\n",
       "      <th>37</th>\n",
       "      <td>543.206617</td>\n",
       "    </tr>\n",
       "    <tr>\n",
       "      <th>38</th>\n",
       "      <td>-32.793383</td>\n",
       "    </tr>\n",
       "    <tr>\n",
       "      <th>39</th>\n",
       "      <td>380.206617</td>\n",
       "    </tr>\n",
       "  </tbody>\n",
       "</table>\n",
       "</div>"
      ],
      "text/plain": [
       "    histogram_bins\n",
       "0        18.206617\n",
       "1       -32.793383\n",
       "2       135.206617\n",
       "3       -32.793383\n",
       "4       -32.793383\n",
       "5       300.206617\n",
       "6       -32.793383\n",
       "7       -32.793383\n",
       "8       613.206617\n",
       "9       -32.793383\n",
       "10      481.206617\n",
       "11      -32.793383\n",
       "12      -32.793383\n",
       "13      900.206617\n",
       "14      -32.793383\n",
       "15      -32.793383\n",
       "16     1142.206617\n",
       "17      -32.793383\n",
       "18      400.206617\n",
       "19      -32.793383\n",
       "20      -32.793383\n",
       "21    10468.206617\n",
       "22      -32.793383\n",
       "23      -32.793383\n",
       "24     7258.206617\n",
       "25      -32.793383\n",
       "26     1349.206617\n",
       "27      -32.793383\n",
       "28      -32.793383\n",
       "29     1034.206617\n",
       "30      -32.793383\n",
       "31      -32.793383\n",
       "32     5322.206617\n",
       "33      -32.793383\n",
       "34     1690.206617\n",
       "35      -32.793383\n",
       "36      -32.793383\n",
       "37      543.206617\n",
       "38      -32.793383\n",
       "39      380.206617"
      ]
     },
     "execution_count": 12,
     "metadata": {},
     "output_type": "execute_result"
    }
   ],
   "source": [
    "pertub_education_histogram = pd.DataFrame(df_education_num_001)\n",
    "pertub_education_histogram.rename(index=str, columns={0:'histogram_bins'})"
   ]
  },
  {
   "cell_type": "code",
   "execution_count": 13,
   "metadata": {},
   "outputs": [
    {
     "data": {
      "image/png": "[encoded data removed]",
      "text/plain": [
       "<Figure size 864x576 with 1 Axes>"
      ]
     },
     "metadata": {
      "needs_background": "light"
     },
     "output_type": "display_data"
    }
   ],
   "source": [
    "# Histograms \n",
    "plt.figure(figsize=(12,8))\n",
    "plt.hist(pd.DataFrame(df_education_num_001), bins=40)\n",
    "plt.gca().set(title='Perturbed Education Num ', xlabel='Education Level');"
   ]
  },
  {
   "cell_type": "code",
   "execution_count": 14,
   "metadata": {},
   "outputs": [
    {
     "data": {
      "text/plain": [
       "array([5.98146293e+01, 8.81462931e+00, 1.76814629e+02, 8.81462931e+00,\n",
       "       8.81462931e+00, 3.41814629e+02, 8.81462931e+00, 8.81462931e+00,\n",
       "       6.54814629e+02, 8.81462931e+00, 5.22814629e+02, 8.81462931e+00,\n",
       "       8.81462931e+00, 9.41814629e+02, 8.81462931e+00, 8.81462931e+00,\n",
       "       1.18381463e+03, 8.81462931e+00, 4.41814629e+02, 8.81462931e+00,\n",
       "       8.81462931e+00, 1.05098146e+04, 8.81462931e+00, 8.81462931e+00,\n",
       "       7.29981463e+03, 8.81462931e+00, 1.39081463e+03, 8.81462931e+00,\n",
       "       8.81462931e+00, 1.07581463e+03, 8.81462931e+00, 8.81462931e+00,\n",
       "       5.36381463e+03, 8.81462931e+00, 1.73181463e+03, 8.81462931e+00,\n",
       "       8.81462931e+00, 5.84814629e+02, 8.81462931e+00, 4.21814629e+02])"
      ]
     },
     "execution_count": 14,
     "metadata": {},
     "output_type": "execute_result"
    }
   ],
   "source": [
    "sensitivity = 1\n",
    "epsilon = 0.1\n",
    "\n",
    "df_education_num_01 = education_num_histogram + np.random.laplace(loc=0, scale=sensitivity/epsilon)\n",
    "df_education_num_01"
   ]
  },
  {
   "cell_type": "code",
   "execution_count": 15,
   "metadata": {},
   "outputs": [
    {
     "data": {
      "text/html": [
       "<div>\n",
       "<style scoped>\n",
       "    .dataframe tbody tr th:only-of-type {\n",
       "        vertical-align: middle;\n",
       "    }\n",
       "\n",
       "    .dataframe tbody tr th {\n",
       "        vertical-align: top;\n",
       "    }\n",
       "\n",
       "    .dataframe thead th {\n",
       "        text-align: right;\n",
       "    }\n",
       "</style>\n",
       "<table border=\"1\" class=\"dataframe\">\n",
       "  <thead>\n",
       "    <tr style=\"text-align: right;\">\n",
       "      <th></th>\n",
       "      <th>histogram_bins</th>\n",
       "    </tr>\n",
       "  </thead>\n",
       "  <tbody>\n",
       "    <tr>\n",
       "      <th>0</th>\n",
       "      <td>59.814629</td>\n",
       "    </tr>\n",
       "    <tr>\n",
       "      <th>1</th>\n",
       "      <td>8.814629</td>\n",
       "    </tr>\n",
       "    <tr>\n",
       "      <th>2</th>\n",
       "      <td>176.814629</td>\n",
       "    </tr>\n",
       "    <tr>\n",
       "      <th>3</th>\n",
       "      <td>8.814629</td>\n",
       "    </tr>\n",
       "    <tr>\n",
       "      <th>4</th>\n",
       "      <td>8.814629</td>\n",
       "    </tr>\n",
       "    <tr>\n",
       "      <th>5</th>\n",
       "      <td>341.814629</td>\n",
       "    </tr>\n",
       "    <tr>\n",
       "      <th>6</th>\n",
       "      <td>8.814629</td>\n",
       "    </tr>\n",
       "    <tr>\n",
       "      <th>7</th>\n",
       "      <td>8.814629</td>\n",
       "    </tr>\n",
       "    <tr>\n",
       "      <th>8</th>\n",
       "      <td>654.814629</td>\n",
       "    </tr>\n",
       "    <tr>\n",
       "      <th>9</th>\n",
       "      <td>8.814629</td>\n",
       "    </tr>\n",
       "    <tr>\n",
       "      <th>10</th>\n",
       "      <td>522.814629</td>\n",
       "    </tr>\n",
       "    <tr>\n",
       "      <th>11</th>\n",
       "      <td>8.814629</td>\n",
       "    </tr>\n",
       "    <tr>\n",
       "      <th>12</th>\n",
       "      <td>8.814629</td>\n",
       "    </tr>\n",
       "    <tr>\n",
       "      <th>13</th>\n",
       "      <td>941.814629</td>\n",
       "    </tr>\n",
       "    <tr>\n",
       "      <th>14</th>\n",
       "      <td>8.814629</td>\n",
       "    </tr>\n",
       "    <tr>\n",
       "      <th>15</th>\n",
       "      <td>8.814629</td>\n",
       "    </tr>\n",
       "    <tr>\n",
       "      <th>16</th>\n",
       "      <td>1183.814629</td>\n",
       "    </tr>\n",
       "    <tr>\n",
       "      <th>17</th>\n",
       "      <td>8.814629</td>\n",
       "    </tr>\n",
       "    <tr>\n",
       "      <th>18</th>\n",
       "      <td>441.814629</td>\n",
       "    </tr>\n",
       "    <tr>\n",
       "      <th>19</th>\n",
       "      <td>8.814629</td>\n",
       "    </tr>\n",
       "    <tr>\n",
       "      <th>20</th>\n",
       "      <td>8.814629</td>\n",
       "    </tr>\n",
       "    <tr>\n",
       "      <th>21</th>\n",
       "      <td>10509.814629</td>\n",
       "    </tr>\n",
       "    <tr>\n",
       "      <th>22</th>\n",
       "      <td>8.814629</td>\n",
       "    </tr>\n",
       "    <tr>\n",
       "      <th>23</th>\n",
       "      <td>8.814629</td>\n",
       "    </tr>\n",
       "    <tr>\n",
       "      <th>24</th>\n",
       "      <td>7299.814629</td>\n",
       "    </tr>\n",
       "    <tr>\n",
       "      <th>25</th>\n",
       "      <td>8.814629</td>\n",
       "    </tr>\n",
       "    <tr>\n",
       "      <th>26</th>\n",
       "      <td>1390.814629</td>\n",
       "    </tr>\n",
       "    <tr>\n",
       "      <th>27</th>\n",
       "      <td>8.814629</td>\n",
       "    </tr>\n",
       "    <tr>\n",
       "      <th>28</th>\n",
       "      <td>8.814629</td>\n",
       "    </tr>\n",
       "    <tr>\n",
       "      <th>29</th>\n",
       "      <td>1075.814629</td>\n",
       "    </tr>\n",
       "    <tr>\n",
       "      <th>30</th>\n",
       "      <td>8.814629</td>\n",
       "    </tr>\n",
       "    <tr>\n",
       "      <th>31</th>\n",
       "      <td>8.814629</td>\n",
       "    </tr>\n",
       "    <tr>\n",
       "      <th>32</th>\n",
       "      <td>5363.814629</td>\n",
       "    </tr>\n",
       "    <tr>\n",
       "      <th>33</th>\n",
       "      <td>8.814629</td>\n",
       "    </tr>\n",
       "    <tr>\n",
       "      <th>34</th>\n",
       "      <td>1731.814629</td>\n",
       "    </tr>\n",
       "    <tr>\n",
       "      <th>35</th>\n",
       "      <td>8.814629</td>\n",
       "    </tr>\n",
       "    <tr>\n",
       "      <th>36</th>\n",
       "      <td>8.814629</td>\n",
       "    </tr>\n",
       "    <tr>\n",
       "      <th>37</th>\n",
       "      <td>584.814629</td>\n",
       "    </tr>\n",
       "    <tr>\n",
       "      <th>38</th>\n",
       "      <td>8.814629</td>\n",
       "    </tr>\n",
       "    <tr>\n",
       "      <th>39</th>\n",
       "      <td>421.814629</td>\n",
       "    </tr>\n",
       "  </tbody>\n",
       "</table>\n",
       "</div>"
      ],
      "text/plain": [
       "    histogram_bins\n",
       "0        59.814629\n",
       "1         8.814629\n",
       "2       176.814629\n",
       "3         8.814629\n",
       "4         8.814629\n",
       "5       341.814629\n",
       "6         8.814629\n",
       "7         8.814629\n",
       "8       654.814629\n",
       "9         8.814629\n",
       "10      522.814629\n",
       "11        8.814629\n",
       "12        8.814629\n",
       "13      941.814629\n",
       "14        8.814629\n",
       "15        8.814629\n",
       "16     1183.814629\n",
       "17        8.814629\n",
       "18      441.814629\n",
       "19        8.814629\n",
       "20        8.814629\n",
       "21    10509.814629\n",
       "22        8.814629\n",
       "23        8.814629\n",
       "24     7299.814629\n",
       "25        8.814629\n",
       "26     1390.814629\n",
       "27        8.814629\n",
       "28        8.814629\n",
       "29     1075.814629\n",
       "30        8.814629\n",
       "31        8.814629\n",
       "32     5363.814629\n",
       "33        8.814629\n",
       "34     1731.814629\n",
       "35        8.814629\n",
       "36        8.814629\n",
       "37      584.814629\n",
       "38        8.814629\n",
       "39      421.814629"
      ]
     },
     "execution_count": 15,
     "metadata": {},
     "output_type": "execute_result"
    }
   ],
   "source": [
    "pertub_education_histogram_01 = pd.DataFrame(df_education_num_01)\n",
    "pertub_education_histogram_01.rename(index=str, columns={0:'histogram_bins'})"
   ]
  },
  {
   "cell_type": "code",
   "execution_count": 16,
   "metadata": {},
   "outputs": [
    {
     "data": {
      "image/png": "[encoded data removed]",
      "text/plain": [
       "<Figure size 864x576 with 1 Axes>"
      ]
     },
     "metadata": {
      "needs_background": "light"
     },
     "output_type": "display_data"
    }
   ],
   "source": [
    "# Histograms \n",
    "plt.figure(figsize=(12,8))\n",
    "plt.hist(pertub_education_histogram_01, bins=40)\n",
    "plt.gca().set(title='Perturbed Education Num ', xlabel='Education Level');"
   ]
  },
  {
   "cell_type": "code",
   "execution_count": 17,
   "metadata": {},
   "outputs": [
    {
     "data": {
      "text/plain": [
       "array([ 5.05421813e+01, -4.57818661e-01,  1.67542181e+02, -4.57818661e-01,\n",
       "       -4.57818661e-01,  3.32542181e+02, -4.57818661e-01, -4.57818661e-01,\n",
       "        6.45542181e+02, -4.57818661e-01,  5.13542181e+02, -4.57818661e-01,\n",
       "       -4.57818661e-01,  9.32542181e+02, -4.57818661e-01, -4.57818661e-01,\n",
       "        1.17454218e+03, -4.57818661e-01,  4.32542181e+02, -4.57818661e-01,\n",
       "       -4.57818661e-01,  1.05005422e+04, -4.57818661e-01, -4.57818661e-01,\n",
       "        7.29054218e+03, -4.57818661e-01,  1.38154218e+03, -4.57818661e-01,\n",
       "       -4.57818661e-01,  1.06654218e+03, -4.57818661e-01, -4.57818661e-01,\n",
       "        5.35454218e+03, -4.57818661e-01,  1.72254218e+03, -4.57818661e-01,\n",
       "       -4.57818661e-01,  5.75542181e+02, -4.57818661e-01,  4.12542181e+02])"
      ]
     },
     "execution_count": 17,
     "metadata": {},
     "output_type": "execute_result"
    }
   ],
   "source": [
    "sensitivity =1\n",
    "epsilon = 1\n",
    "\n",
    "df_education_num_1 = education_num_histogram + np.random.laplace(loc=0, scale=sensitivity/epsilon)\n",
    "df_education_num_1"
   ]
  },
  {
   "cell_type": "code",
   "execution_count": 18,
   "metadata": {},
   "outputs": [
    {
     "data": {
      "text/html": [
       "<div>\n",
       "<style scoped>\n",
       "    .dataframe tbody tr th:only-of-type {\n",
       "        vertical-align: middle;\n",
       "    }\n",
       "\n",
       "    .dataframe tbody tr th {\n",
       "        vertical-align: top;\n",
       "    }\n",
       "\n",
       "    .dataframe thead th {\n",
       "        text-align: right;\n",
       "    }\n",
       "</style>\n",
       "<table border=\"1\" class=\"dataframe\">\n",
       "  <thead>\n",
       "    <tr style=\"text-align: right;\">\n",
       "      <th></th>\n",
       "      <th>histogram_bins</th>\n",
       "    </tr>\n",
       "  </thead>\n",
       "  <tbody>\n",
       "    <tr>\n",
       "      <th>0</th>\n",
       "      <td>50.542181</td>\n",
       "    </tr>\n",
       "    <tr>\n",
       "      <th>1</th>\n",
       "      <td>-0.457819</td>\n",
       "    </tr>\n",
       "    <tr>\n",
       "      <th>2</th>\n",
       "      <td>167.542181</td>\n",
       "    </tr>\n",
       "    <tr>\n",
       "      <th>3</th>\n",
       "      <td>-0.457819</td>\n",
       "    </tr>\n",
       "    <tr>\n",
       "      <th>4</th>\n",
       "      <td>-0.457819</td>\n",
       "    </tr>\n",
       "    <tr>\n",
       "      <th>5</th>\n",
       "      <td>332.542181</td>\n",
       "    </tr>\n",
       "    <tr>\n",
       "      <th>6</th>\n",
       "      <td>-0.457819</td>\n",
       "    </tr>\n",
       "    <tr>\n",
       "      <th>7</th>\n",
       "      <td>-0.457819</td>\n",
       "    </tr>\n",
       "    <tr>\n",
       "      <th>8</th>\n",
       "      <td>645.542181</td>\n",
       "    </tr>\n",
       "    <tr>\n",
       "      <th>9</th>\n",
       "      <td>-0.457819</td>\n",
       "    </tr>\n",
       "    <tr>\n",
       "      <th>10</th>\n",
       "      <td>513.542181</td>\n",
       "    </tr>\n",
       "    <tr>\n",
       "      <th>11</th>\n",
       "      <td>-0.457819</td>\n",
       "    </tr>\n",
       "    <tr>\n",
       "      <th>12</th>\n",
       "      <td>-0.457819</td>\n",
       "    </tr>\n",
       "    <tr>\n",
       "      <th>13</th>\n",
       "      <td>932.542181</td>\n",
       "    </tr>\n",
       "    <tr>\n",
       "      <th>14</th>\n",
       "      <td>-0.457819</td>\n",
       "    </tr>\n",
       "    <tr>\n",
       "      <th>15</th>\n",
       "      <td>-0.457819</td>\n",
       "    </tr>\n",
       "    <tr>\n",
       "      <th>16</th>\n",
       "      <td>1174.542181</td>\n",
       "    </tr>\n",
       "    <tr>\n",
       "      <th>17</th>\n",
       "      <td>-0.457819</td>\n",
       "    </tr>\n",
       "    <tr>\n",
       "      <th>18</th>\n",
       "      <td>432.542181</td>\n",
       "    </tr>\n",
       "    <tr>\n",
       "      <th>19</th>\n",
       "      <td>-0.457819</td>\n",
       "    </tr>\n",
       "    <tr>\n",
       "      <th>20</th>\n",
       "      <td>-0.457819</td>\n",
       "    </tr>\n",
       "    <tr>\n",
       "      <th>21</th>\n",
       "      <td>10500.542181</td>\n",
       "    </tr>\n",
       "    <tr>\n",
       "      <th>22</th>\n",
       "      <td>-0.457819</td>\n",
       "    </tr>\n",
       "    <tr>\n",
       "      <th>23</th>\n",
       "      <td>-0.457819</td>\n",
       "    </tr>\n",
       "    <tr>\n",
       "      <th>24</th>\n",
       "      <td>7290.542181</td>\n",
       "    </tr>\n",
       "    <tr>\n",
       "      <th>25</th>\n",
       "      <td>-0.457819</td>\n",
       "    </tr>\n",
       "    <tr>\n",
       "      <th>26</th>\n",
       "      <td>1381.542181</td>\n",
       "    </tr>\n",
       "    <tr>\n",
       "      <th>27</th>\n",
       "      <td>-0.457819</td>\n",
       "    </tr>\n",
       "    <tr>\n",
       "      <th>28</th>\n",
       "      <td>-0.457819</td>\n",
       "    </tr>\n",
       "    <tr>\n",
       "      <th>29</th>\n",
       "      <td>1066.542181</td>\n",
       "    </tr>\n",
       "    <tr>\n",
       "      <th>30</th>\n",
       "      <td>-0.457819</td>\n",
       "    </tr>\n",
       "    <tr>\n",
       "      <th>31</th>\n",
       "      <td>-0.457819</td>\n",
       "    </tr>\n",
       "    <tr>\n",
       "      <th>32</th>\n",
       "      <td>5354.542181</td>\n",
       "    </tr>\n",
       "    <tr>\n",
       "      <th>33</th>\n",
       "      <td>-0.457819</td>\n",
       "    </tr>\n",
       "    <tr>\n",
       "      <th>34</th>\n",
       "      <td>1722.542181</td>\n",
       "    </tr>\n",
       "    <tr>\n",
       "      <th>35</th>\n",
       "      <td>-0.457819</td>\n",
       "    </tr>\n",
       "    <tr>\n",
       "      <th>36</th>\n",
       "      <td>-0.457819</td>\n",
       "    </tr>\n",
       "    <tr>\n",
       "      <th>37</th>\n",
       "      <td>575.542181</td>\n",
       "    </tr>\n",
       "    <tr>\n",
       "      <th>38</th>\n",
       "      <td>-0.457819</td>\n",
       "    </tr>\n",
       "    <tr>\n",
       "      <th>39</th>\n",
       "      <td>412.542181</td>\n",
       "    </tr>\n",
       "  </tbody>\n",
       "</table>\n",
       "</div>"
      ],
      "text/plain": [
       "    histogram_bins\n",
       "0        50.542181\n",
       "1        -0.457819\n",
       "2       167.542181\n",
       "3        -0.457819\n",
       "4        -0.457819\n",
       "5       332.542181\n",
       "6        -0.457819\n",
       "7        -0.457819\n",
       "8       645.542181\n",
       "9        -0.457819\n",
       "10      513.542181\n",
       "11       -0.457819\n",
       "12       -0.457819\n",
       "13      932.542181\n",
       "14       -0.457819\n",
       "15       -0.457819\n",
       "16     1174.542181\n",
       "17       -0.457819\n",
       "18      432.542181\n",
       "19       -0.457819\n",
       "20       -0.457819\n",
       "21    10500.542181\n",
       "22       -0.457819\n",
       "23       -0.457819\n",
       "24     7290.542181\n",
       "25       -0.457819\n",
       "26     1381.542181\n",
       "27       -0.457819\n",
       "28       -0.457819\n",
       "29     1066.542181\n",
       "30       -0.457819\n",
       "31       -0.457819\n",
       "32     5354.542181\n",
       "33       -0.457819\n",
       "34     1722.542181\n",
       "35       -0.457819\n",
       "36       -0.457819\n",
       "37      575.542181\n",
       "38       -0.457819\n",
       "39      412.542181"
      ]
     },
     "execution_count": 18,
     "metadata": {},
     "output_type": "execute_result"
    }
   ],
   "source": [
    "pertub_education_histogram_1 = pd.DataFrame(df_education_num_1)\n",
    "pertub_education_histogram_1.rename(index=str, columns={0:'histogram_bins'})"
   ]
  },
  {
   "cell_type": "code",
   "execution_count": 19,
   "metadata": {},
   "outputs": [
    {
     "data": {
      "image/png": "[encoded data removed]",
      "text/plain": [
       "<Figure size 864x576 with 1 Axes>"
      ]
     },
     "metadata": {
      "needs_background": "light"
     },
     "output_type": "display_data"
    }
   ],
   "source": [
    "# Histograms \n",
    "plt.figure(figsize=(12,8))\n",
    "plt.hist(pertub_education_histogram_1, bins=40)\n",
    "plt.gca().set(title='Perturbed Education Num ', xlabel='Education Level');"
   ]
  },
  {
   "cell_type": "markdown",
   "metadata": {},
   "source": [
    "#### On constate qu'il n'y a pas de différence entre  les histogrammes des données non-pertubées et ceux des données pertubées"
   ]
  },
  {
   "cell_type": "markdown",
   "metadata": {},
   "source": [
    "### Q3 1- :  Use mechanism Laplace to compute query H2 with {0.01, 0.1, 1}"
   ]
  },
  {
   "cell_type": "code",
   "execution_count": 20,
   "metadata": {},
   "outputs": [
    {
     "data": {
      "text/plain": [
       "array([1.100e+01, 1.000e+01, 2.300e+01, 2.100e+01, 1.400e+01, 1.700e+01,\n",
       "       2.100e+01, 7.800e+01, 6.000e+00, 5.800e+01, 5.000e+00, 8.900e+01,\n",
       "       2.800e+01, 2.010e+02, 6.300e+01, 3.340e+03, 7.700e+01, 7.980e+02,\n",
       "       4.300e+01, 1.580e+02, 1.327e+03, 2.000e+01, 3.700e+02, 1.100e+01,\n",
       "       6.540e+02, 8.000e+00, 1.090e+02, 5.000e+00, 1.310e+02, 1.000e+00,\n",
       "       2.200e+01, 2.000e+00, 5.700e+01, 1.700e+01, 4.000e+00, 1.000e+00,\n",
       "       1.000e+01, 0.000e+00, 2.000e+00, 2.900e+01])"
      ]
     },
     "execution_count": 20,
     "metadata": {},
     "output_type": "execute_result"
    }
   ],
   "source": [
    "df_income_over_50k_histogram"
   ]
  },
  {
   "cell_type": "code",
   "execution_count": 21,
   "metadata": {},
   "outputs": [
    {
     "data": {
      "text/plain": [
       "3340.0"
      ]
     },
     "execution_count": 21,
     "metadata": {},
     "output_type": "execute_result"
    }
   ],
   "source": [
    "## trouvons la sensitivity de la requête H2 : ici il s'agit d'une SUM\n",
    "sensitivity_h2 = np.amax(df_income_over_50k_histogram) \n",
    "sensitivity_h2"
   ]
  },
  {
   "cell_type": "code",
   "execution_count": 22,
   "metadata": {},
   "outputs": [
    {
     "data": {
      "text/plain": [
       "array([747095.26410695, 747094.26410695, 747107.26410695, 747105.26410695,\n",
       "       747098.26410695, 747101.26410695, 747105.26410695, 747162.26410695,\n",
       "       747090.26410695, 747142.26410695, 747089.26410695, 747173.26410695,\n",
       "       747112.26410695, 747285.26410695, 747147.26410695, 750424.26410695,\n",
       "       747161.26410695, 747882.26410695, 747127.26410695, 747242.26410695,\n",
       "       748411.26410695, 747104.26410695, 747454.26410695, 747095.26410695,\n",
       "       747738.26410695, 747092.26410695, 747193.26410695, 747089.26410695,\n",
       "       747215.26410695, 747085.26410695, 747106.26410695, 747086.26410695,\n",
       "       747141.26410695, 747101.26410695, 747088.26410695, 747085.26410695,\n",
       "       747094.26410695, 747084.26410695, 747086.26410695, 747113.26410695])"
      ]
     },
     "execution_count": 22,
     "metadata": {},
     "output_type": "execute_result"
    }
   ],
   "source": [
    "epsilon = 0.01\n",
    "\n",
    "\n",
    "df_income_over_50k_001 = df_income_over_50k_histogram + np.random.laplace(loc=0, scale=sensitivity_h2 /epsilon)\n",
    "df_income_over_50k_001"
   ]
  },
  {
   "cell_type": "code",
   "execution_count": 23,
   "metadata": {},
   "outputs": [
    {
     "data": {
      "text/html": [
       "<div>\n",
       "<style scoped>\n",
       "    .dataframe tbody tr th:only-of-type {\n",
       "        vertical-align: middle;\n",
       "    }\n",
       "\n",
       "    .dataframe tbody tr th {\n",
       "        vertical-align: top;\n",
       "    }\n",
       "\n",
       "    .dataframe thead th {\n",
       "        text-align: right;\n",
       "    }\n",
       "</style>\n",
       "<table border=\"1\" class=\"dataframe\">\n",
       "  <thead>\n",
       "    <tr style=\"text-align: right;\">\n",
       "      <th></th>\n",
       "      <th>histogram_bins</th>\n",
       "    </tr>\n",
       "  </thead>\n",
       "  <tbody>\n",
       "    <tr>\n",
       "      <th>0</th>\n",
       "      <td>747095.264107</td>\n",
       "    </tr>\n",
       "    <tr>\n",
       "      <th>1</th>\n",
       "      <td>747094.264107</td>\n",
       "    </tr>\n",
       "    <tr>\n",
       "      <th>2</th>\n",
       "      <td>747107.264107</td>\n",
       "    </tr>\n",
       "    <tr>\n",
       "      <th>3</th>\n",
       "      <td>747105.264107</td>\n",
       "    </tr>\n",
       "    <tr>\n",
       "      <th>4</th>\n",
       "      <td>747098.264107</td>\n",
       "    </tr>\n",
       "    <tr>\n",
       "      <th>5</th>\n",
       "      <td>747101.264107</td>\n",
       "    </tr>\n",
       "    <tr>\n",
       "      <th>6</th>\n",
       "      <td>747105.264107</td>\n",
       "    </tr>\n",
       "    <tr>\n",
       "      <th>7</th>\n",
       "      <td>747162.264107</td>\n",
       "    </tr>\n",
       "    <tr>\n",
       "      <th>8</th>\n",
       "      <td>747090.264107</td>\n",
       "    </tr>\n",
       "    <tr>\n",
       "      <th>9</th>\n",
       "      <td>747142.264107</td>\n",
       "    </tr>\n",
       "    <tr>\n",
       "      <th>10</th>\n",
       "      <td>747089.264107</td>\n",
       "    </tr>\n",
       "    <tr>\n",
       "      <th>11</th>\n",
       "      <td>747173.264107</td>\n",
       "    </tr>\n",
       "    <tr>\n",
       "      <th>12</th>\n",
       "      <td>747112.264107</td>\n",
       "    </tr>\n",
       "    <tr>\n",
       "      <th>13</th>\n",
       "      <td>747285.264107</td>\n",
       "    </tr>\n",
       "    <tr>\n",
       "      <th>14</th>\n",
       "      <td>747147.264107</td>\n",
       "    </tr>\n",
       "    <tr>\n",
       "      <th>15</th>\n",
       "      <td>750424.264107</td>\n",
       "    </tr>\n",
       "    <tr>\n",
       "      <th>16</th>\n",
       "      <td>747161.264107</td>\n",
       "    </tr>\n",
       "    <tr>\n",
       "      <th>17</th>\n",
       "      <td>747882.264107</td>\n",
       "    </tr>\n",
       "    <tr>\n",
       "      <th>18</th>\n",
       "      <td>747127.264107</td>\n",
       "    </tr>\n",
       "    <tr>\n",
       "      <th>19</th>\n",
       "      <td>747242.264107</td>\n",
       "    </tr>\n",
       "    <tr>\n",
       "      <th>20</th>\n",
       "      <td>748411.264107</td>\n",
       "    </tr>\n",
       "    <tr>\n",
       "      <th>21</th>\n",
       "      <td>747104.264107</td>\n",
       "    </tr>\n",
       "    <tr>\n",
       "      <th>22</th>\n",
       "      <td>747454.264107</td>\n",
       "    </tr>\n",
       "    <tr>\n",
       "      <th>23</th>\n",
       "      <td>747095.264107</td>\n",
       "    </tr>\n",
       "    <tr>\n",
       "      <th>24</th>\n",
       "      <td>747738.264107</td>\n",
       "    </tr>\n",
       "    <tr>\n",
       "      <th>25</th>\n",
       "      <td>747092.264107</td>\n",
       "    </tr>\n",
       "    <tr>\n",
       "      <th>26</th>\n",
       "      <td>747193.264107</td>\n",
       "    </tr>\n",
       "    <tr>\n",
       "      <th>27</th>\n",
       "      <td>747089.264107</td>\n",
       "    </tr>\n",
       "    <tr>\n",
       "      <th>28</th>\n",
       "      <td>747215.264107</td>\n",
       "    </tr>\n",
       "    <tr>\n",
       "      <th>29</th>\n",
       "      <td>747085.264107</td>\n",
       "    </tr>\n",
       "    <tr>\n",
       "      <th>30</th>\n",
       "      <td>747106.264107</td>\n",
       "    </tr>\n",
       "    <tr>\n",
       "      <th>31</th>\n",
       "      <td>747086.264107</td>\n",
       "    </tr>\n",
       "    <tr>\n",
       "      <th>32</th>\n",
       "      <td>747141.264107</td>\n",
       "    </tr>\n",
       "    <tr>\n",
       "      <th>33</th>\n",
       "      <td>747101.264107</td>\n",
       "    </tr>\n",
       "    <tr>\n",
       "      <th>34</th>\n",
       "      <td>747088.264107</td>\n",
       "    </tr>\n",
       "    <tr>\n",
       "      <th>35</th>\n",
       "      <td>747085.264107</td>\n",
       "    </tr>\n",
       "    <tr>\n",
       "      <th>36</th>\n",
       "      <td>747094.264107</td>\n",
       "    </tr>\n",
       "    <tr>\n",
       "      <th>37</th>\n",
       "      <td>747084.264107</td>\n",
       "    </tr>\n",
       "    <tr>\n",
       "      <th>38</th>\n",
       "      <td>747086.264107</td>\n",
       "    </tr>\n",
       "    <tr>\n",
       "      <th>39</th>\n",
       "      <td>747113.264107</td>\n",
       "    </tr>\n",
       "  </tbody>\n",
       "</table>\n",
       "</div>"
      ],
      "text/plain": [
       "    histogram_bins\n",
       "0    747095.264107\n",
       "1    747094.264107\n",
       "2    747107.264107\n",
       "3    747105.264107\n",
       "4    747098.264107\n",
       "5    747101.264107\n",
       "6    747105.264107\n",
       "7    747162.264107\n",
       "8    747090.264107\n",
       "9    747142.264107\n",
       "10   747089.264107\n",
       "11   747173.264107\n",
       "12   747112.264107\n",
       "13   747285.264107\n",
       "14   747147.264107\n",
       "15   750424.264107\n",
       "16   747161.264107\n",
       "17   747882.264107\n",
       "18   747127.264107\n",
       "19   747242.264107\n",
       "20   748411.264107\n",
       "21   747104.264107\n",
       "22   747454.264107\n",
       "23   747095.264107\n",
       "24   747738.264107\n",
       "25   747092.264107\n",
       "26   747193.264107\n",
       "27   747089.264107\n",
       "28   747215.264107\n",
       "29   747085.264107\n",
       "30   747106.264107\n",
       "31   747086.264107\n",
       "32   747141.264107\n",
       "33   747101.264107\n",
       "34   747088.264107\n",
       "35   747085.264107\n",
       "36   747094.264107\n",
       "37   747084.264107\n",
       "38   747086.264107\n",
       "39   747113.264107"
      ]
     },
     "execution_count": 23,
     "metadata": {},
     "output_type": "execute_result"
    }
   ],
   "source": [
    "pertub_income_histogram_001 = pd.DataFrame(df_income_over_50k_001)\n",
    "pertub_income_histogram_001.rename(index=str, columns={0:'histogram_bins'})"
   ]
  },
  {
   "cell_type": "code",
   "execution_count": 24,
   "metadata": {},
   "outputs": [
    {
     "data": {
      "image/png": "[encoded data removed]",
      "text/plain": [
       "<Figure size 864x576 with 1 Axes>"
      ]
     },
     "metadata": {
      "needs_background": "light"
     },
     "output_type": "display_data"
    }
   ],
   "source": [
    "# Histograms \n",
    "plt.figure(figsize=(12,8))\n",
    "plt.hist(pertub_income_histogram_001, bins=40)\n",
    "plt.gca().set(title='Perturbed working Hours-per-week ', xlabel='Working Hours');"
   ]
  },
  {
   "cell_type": "code",
   "execution_count": 25,
   "metadata": {},
   "outputs": [
    {
     "data": {
      "text/plain": [
       "array([-58422.42965765, -58423.42965765, -58410.42965765, -58412.42965765,\n",
       "       -58419.42965765, -58416.42965765, -58412.42965765, -58355.42965765,\n",
       "       -58427.42965765, -58375.42965765, -58428.42965765, -58344.42965765,\n",
       "       -58405.42965765, -58232.42965765, -58370.42965765, -55093.42965765,\n",
       "       -58356.42965765, -57635.42965765, -58390.42965765, -58275.42965765,\n",
       "       -57106.42965765, -58413.42965765, -58063.42965765, -58422.42965765,\n",
       "       -57779.42965765, -58425.42965765, -58324.42965765, -58428.42965765,\n",
       "       -58302.42965765, -58432.42965765, -58411.42965765, -58431.42965765,\n",
       "       -58376.42965765, -58416.42965765, -58429.42965765, -58432.42965765,\n",
       "       -58423.42965765, -58433.42965765, -58431.42965765, -58404.42965765])"
      ]
     },
     "execution_count": 25,
     "metadata": {},
     "output_type": "execute_result"
    }
   ],
   "source": [
    "epsilon = 0.1\n",
    "df_income_over_50k_01 = df_income_over_50k_histogram + np.random.laplace(loc=0, scale=sensitivity_h2 /epsilon)\n",
    "df_income_over_50k_01"
   ]
  },
  {
   "cell_type": "code",
   "execution_count": 26,
   "metadata": {},
   "outputs": [
    {
     "data": {
      "text/html": [
       "<div>\n",
       "<style scoped>\n",
       "    .dataframe tbody tr th:only-of-type {\n",
       "        vertical-align: middle;\n",
       "    }\n",
       "\n",
       "    .dataframe tbody tr th {\n",
       "        vertical-align: top;\n",
       "    }\n",
       "\n",
       "    .dataframe thead th {\n",
       "        text-align: right;\n",
       "    }\n",
       "</style>\n",
       "<table border=\"1\" class=\"dataframe\">\n",
       "  <thead>\n",
       "    <tr style=\"text-align: right;\">\n",
       "      <th></th>\n",
       "      <th>histogram_bins</th>\n",
       "    </tr>\n",
       "  </thead>\n",
       "  <tbody>\n",
       "    <tr>\n",
       "      <th>0</th>\n",
       "      <td>-58422.429658</td>\n",
       "    </tr>\n",
       "    <tr>\n",
       "      <th>1</th>\n",
       "      <td>-58423.429658</td>\n",
       "    </tr>\n",
       "    <tr>\n",
       "      <th>2</th>\n",
       "      <td>-58410.429658</td>\n",
       "    </tr>\n",
       "    <tr>\n",
       "      <th>3</th>\n",
       "      <td>-58412.429658</td>\n",
       "    </tr>\n",
       "    <tr>\n",
       "      <th>4</th>\n",
       "      <td>-58419.429658</td>\n",
       "    </tr>\n",
       "    <tr>\n",
       "      <th>5</th>\n",
       "      <td>-58416.429658</td>\n",
       "    </tr>\n",
       "    <tr>\n",
       "      <th>6</th>\n",
       "      <td>-58412.429658</td>\n",
       "    </tr>\n",
       "    <tr>\n",
       "      <th>7</th>\n",
       "      <td>-58355.429658</td>\n",
       "    </tr>\n",
       "    <tr>\n",
       "      <th>8</th>\n",
       "      <td>-58427.429658</td>\n",
       "    </tr>\n",
       "    <tr>\n",
       "      <th>9</th>\n",
       "      <td>-58375.429658</td>\n",
       "    </tr>\n",
       "    <tr>\n",
       "      <th>10</th>\n",
       "      <td>-58428.429658</td>\n",
       "    </tr>\n",
       "    <tr>\n",
       "      <th>11</th>\n",
       "      <td>-58344.429658</td>\n",
       "    </tr>\n",
       "    <tr>\n",
       "      <th>12</th>\n",
       "      <td>-58405.429658</td>\n",
       "    </tr>\n",
       "    <tr>\n",
       "      <th>13</th>\n",
       "      <td>-58232.429658</td>\n",
       "    </tr>\n",
       "    <tr>\n",
       "      <th>14</th>\n",
       "      <td>-58370.429658</td>\n",
       "    </tr>\n",
       "    <tr>\n",
       "      <th>15</th>\n",
       "      <td>-55093.429658</td>\n",
       "    </tr>\n",
       "    <tr>\n",
       "      <th>16</th>\n",
       "      <td>-58356.429658</td>\n",
       "    </tr>\n",
       "    <tr>\n",
       "      <th>17</th>\n",
       "      <td>-57635.429658</td>\n",
       "    </tr>\n",
       "    <tr>\n",
       "      <th>18</th>\n",
       "      <td>-58390.429658</td>\n",
       "    </tr>\n",
       "    <tr>\n",
       "      <th>19</th>\n",
       "      <td>-58275.429658</td>\n",
       "    </tr>\n",
       "    <tr>\n",
       "      <th>20</th>\n",
       "      <td>-57106.429658</td>\n",
       "    </tr>\n",
       "    <tr>\n",
       "      <th>21</th>\n",
       "      <td>-58413.429658</td>\n",
       "    </tr>\n",
       "    <tr>\n",
       "      <th>22</th>\n",
       "      <td>-58063.429658</td>\n",
       "    </tr>\n",
       "    <tr>\n",
       "      <th>23</th>\n",
       "      <td>-58422.429658</td>\n",
       "    </tr>\n",
       "    <tr>\n",
       "      <th>24</th>\n",
       "      <td>-57779.429658</td>\n",
       "    </tr>\n",
       "    <tr>\n",
       "      <th>25</th>\n",
       "      <td>-58425.429658</td>\n",
       "    </tr>\n",
       "    <tr>\n",
       "      <th>26</th>\n",
       "      <td>-58324.429658</td>\n",
       "    </tr>\n",
       "    <tr>\n",
       "      <th>27</th>\n",
       "      <td>-58428.429658</td>\n",
       "    </tr>\n",
       "    <tr>\n",
       "      <th>28</th>\n",
       "      <td>-58302.429658</td>\n",
       "    </tr>\n",
       "    <tr>\n",
       "      <th>29</th>\n",
       "      <td>-58432.429658</td>\n",
       "    </tr>\n",
       "    <tr>\n",
       "      <th>30</th>\n",
       "      <td>-58411.429658</td>\n",
       "    </tr>\n",
       "    <tr>\n",
       "      <th>31</th>\n",
       "      <td>-58431.429658</td>\n",
       "    </tr>\n",
       "    <tr>\n",
       "      <th>32</th>\n",
       "      <td>-58376.429658</td>\n",
       "    </tr>\n",
       "    <tr>\n",
       "      <th>33</th>\n",
       "      <td>-58416.429658</td>\n",
       "    </tr>\n",
       "    <tr>\n",
       "      <th>34</th>\n",
       "      <td>-58429.429658</td>\n",
       "    </tr>\n",
       "    <tr>\n",
       "      <th>35</th>\n",
       "      <td>-58432.429658</td>\n",
       "    </tr>\n",
       "    <tr>\n",
       "      <th>36</th>\n",
       "      <td>-58423.429658</td>\n",
       "    </tr>\n",
       "    <tr>\n",
       "      <th>37</th>\n",
       "      <td>-58433.429658</td>\n",
       "    </tr>\n",
       "    <tr>\n",
       "      <th>38</th>\n",
       "      <td>-58431.429658</td>\n",
       "    </tr>\n",
       "    <tr>\n",
       "      <th>39</th>\n",
       "      <td>-58404.429658</td>\n",
       "    </tr>\n",
       "  </tbody>\n",
       "</table>\n",
       "</div>"
      ],
      "text/plain": [
       "    histogram_bins\n",
       "0    -58422.429658\n",
       "1    -58423.429658\n",
       "2    -58410.429658\n",
       "3    -58412.429658\n",
       "4    -58419.429658\n",
       "5    -58416.429658\n",
       "6    -58412.429658\n",
       "7    -58355.429658\n",
       "8    -58427.429658\n",
       "9    -58375.429658\n",
       "10   -58428.429658\n",
       "11   -58344.429658\n",
       "12   -58405.429658\n",
       "13   -58232.429658\n",
       "14   -58370.429658\n",
       "15   -55093.429658\n",
       "16   -58356.429658\n",
       "17   -57635.429658\n",
       "18   -58390.429658\n",
       "19   -58275.429658\n",
       "20   -57106.429658\n",
       "21   -58413.429658\n",
       "22   -58063.429658\n",
       "23   -58422.429658\n",
       "24   -57779.429658\n",
       "25   -58425.429658\n",
       "26   -58324.429658\n",
       "27   -58428.429658\n",
       "28   -58302.429658\n",
       "29   -58432.429658\n",
       "30   -58411.429658\n",
       "31   -58431.429658\n",
       "32   -58376.429658\n",
       "33   -58416.429658\n",
       "34   -58429.429658\n",
       "35   -58432.429658\n",
       "36   -58423.429658\n",
       "37   -58433.429658\n",
       "38   -58431.429658\n",
       "39   -58404.429658"
      ]
     },
     "execution_count": 26,
     "metadata": {},
     "output_type": "execute_result"
    }
   ],
   "source": [
    "pertub_income_histogram_01 = pd.DataFrame(df_income_over_50k_01)\n",
    "pertub_income_histogram_01.rename(index=str, columns={0:'histogram_bins'})"
   ]
  },
  {
   "cell_type": "code",
   "execution_count": 27,
   "metadata": {},
   "outputs": [
    {
     "data": {
      "image/png": "[encoded data removed]",
      "text/plain": [
       "<Figure size 864x576 with 1 Axes>"
      ]
     },
     "metadata": {
      "needs_background": "light"
     },
     "output_type": "display_data"
    }
   ],
   "source": [
    "# Histograms \n",
    "plt.figure(figsize=(12,8))\n",
    "plt.hist(pertub_income_histogram_01, bins=40)\n",
    "plt.gca().set(title='Perturbed working Hours-per-week ', xlabel='Working hours');"
   ]
  },
  {
   "cell_type": "code",
   "execution_count": 28,
   "metadata": {},
   "outputs": [
    {
     "data": {
      "text/plain": [
       "array([3678.08111256, 3677.08111256, 3690.08111256, 3688.08111256,\n",
       "       3681.08111256, 3684.08111256, 3688.08111256, 3745.08111256,\n",
       "       3673.08111256, 3725.08111256, 3672.08111256, 3756.08111256,\n",
       "       3695.08111256, 3868.08111256, 3730.08111256, 7007.08111256,\n",
       "       3744.08111256, 4465.08111256, 3710.08111256, 3825.08111256,\n",
       "       4994.08111256, 3687.08111256, 4037.08111256, 3678.08111256,\n",
       "       4321.08111256, 3675.08111256, 3776.08111256, 3672.08111256,\n",
       "       3798.08111256, 3668.08111256, 3689.08111256, 3669.08111256,\n",
       "       3724.08111256, 3684.08111256, 3671.08111256, 3668.08111256,\n",
       "       3677.08111256, 3667.08111256, 3669.08111256, 3696.08111256])"
      ]
     },
     "execution_count": 28,
     "metadata": {},
     "output_type": "execute_result"
    }
   ],
   "source": [
    "epsilon = 1\n",
    "\n",
    "df_income_over_50k_1 = df_income_over_50k_histogram + np.random.laplace(loc=0, scale=sensitivity_h2 /epsilon)\n",
    "df_income_over_50k_1"
   ]
  },
  {
   "cell_type": "code",
   "execution_count": 29,
   "metadata": {},
   "outputs": [
    {
     "data": {
      "text/html": [
       "<div>\n",
       "<style scoped>\n",
       "    .dataframe tbody tr th:only-of-type {\n",
       "        vertical-align: middle;\n",
       "    }\n",
       "\n",
       "    .dataframe tbody tr th {\n",
       "        vertical-align: top;\n",
       "    }\n",
       "\n",
       "    .dataframe thead th {\n",
       "        text-align: right;\n",
       "    }\n",
       "</style>\n",
       "<table border=\"1\" class=\"dataframe\">\n",
       "  <thead>\n",
       "    <tr style=\"text-align: right;\">\n",
       "      <th></th>\n",
       "      <th>histogram_bins</th>\n",
       "    </tr>\n",
       "  </thead>\n",
       "  <tbody>\n",
       "    <tr>\n",
       "      <th>0</th>\n",
       "      <td>3678.081113</td>\n",
       "    </tr>\n",
       "    <tr>\n",
       "      <th>1</th>\n",
       "      <td>3677.081113</td>\n",
       "    </tr>\n",
       "    <tr>\n",
       "      <th>2</th>\n",
       "      <td>3690.081113</td>\n",
       "    </tr>\n",
       "    <tr>\n",
       "      <th>3</th>\n",
       "      <td>3688.081113</td>\n",
       "    </tr>\n",
       "    <tr>\n",
       "      <th>4</th>\n",
       "      <td>3681.081113</td>\n",
       "    </tr>\n",
       "    <tr>\n",
       "      <th>5</th>\n",
       "      <td>3684.081113</td>\n",
       "    </tr>\n",
       "    <tr>\n",
       "      <th>6</th>\n",
       "      <td>3688.081113</td>\n",
       "    </tr>\n",
       "    <tr>\n",
       "      <th>7</th>\n",
       "      <td>3745.081113</td>\n",
       "    </tr>\n",
       "    <tr>\n",
       "      <th>8</th>\n",
       "      <td>3673.081113</td>\n",
       "    </tr>\n",
       "    <tr>\n",
       "      <th>9</th>\n",
       "      <td>3725.081113</td>\n",
       "    </tr>\n",
       "    <tr>\n",
       "      <th>10</th>\n",
       "      <td>3672.081113</td>\n",
       "    </tr>\n",
       "    <tr>\n",
       "      <th>11</th>\n",
       "      <td>3756.081113</td>\n",
       "    </tr>\n",
       "    <tr>\n",
       "      <th>12</th>\n",
       "      <td>3695.081113</td>\n",
       "    </tr>\n",
       "    <tr>\n",
       "      <th>13</th>\n",
       "      <td>3868.081113</td>\n",
       "    </tr>\n",
       "    <tr>\n",
       "      <th>14</th>\n",
       "      <td>3730.081113</td>\n",
       "    </tr>\n",
       "    <tr>\n",
       "      <th>15</th>\n",
       "      <td>7007.081113</td>\n",
       "    </tr>\n",
       "    <tr>\n",
       "      <th>16</th>\n",
       "      <td>3744.081113</td>\n",
       "    </tr>\n",
       "    <tr>\n",
       "      <th>17</th>\n",
       "      <td>4465.081113</td>\n",
       "    </tr>\n",
       "    <tr>\n",
       "      <th>18</th>\n",
       "      <td>3710.081113</td>\n",
       "    </tr>\n",
       "    <tr>\n",
       "      <th>19</th>\n",
       "      <td>3825.081113</td>\n",
       "    </tr>\n",
       "    <tr>\n",
       "      <th>20</th>\n",
       "      <td>4994.081113</td>\n",
       "    </tr>\n",
       "    <tr>\n",
       "      <th>21</th>\n",
       "      <td>3687.081113</td>\n",
       "    </tr>\n",
       "    <tr>\n",
       "      <th>22</th>\n",
       "      <td>4037.081113</td>\n",
       "    </tr>\n",
       "    <tr>\n",
       "      <th>23</th>\n",
       "      <td>3678.081113</td>\n",
       "    </tr>\n",
       "    <tr>\n",
       "      <th>24</th>\n",
       "      <td>4321.081113</td>\n",
       "    </tr>\n",
       "    <tr>\n",
       "      <th>25</th>\n",
       "      <td>3675.081113</td>\n",
       "    </tr>\n",
       "    <tr>\n",
       "      <th>26</th>\n",
       "      <td>3776.081113</td>\n",
       "    </tr>\n",
       "    <tr>\n",
       "      <th>27</th>\n",
       "      <td>3672.081113</td>\n",
       "    </tr>\n",
       "    <tr>\n",
       "      <th>28</th>\n",
       "      <td>3798.081113</td>\n",
       "    </tr>\n",
       "    <tr>\n",
       "      <th>29</th>\n",
       "      <td>3668.081113</td>\n",
       "    </tr>\n",
       "    <tr>\n",
       "      <th>30</th>\n",
       "      <td>3689.081113</td>\n",
       "    </tr>\n",
       "    <tr>\n",
       "      <th>31</th>\n",
       "      <td>3669.081113</td>\n",
       "    </tr>\n",
       "    <tr>\n",
       "      <th>32</th>\n",
       "      <td>3724.081113</td>\n",
       "    </tr>\n",
       "    <tr>\n",
       "      <th>33</th>\n",
       "      <td>3684.081113</td>\n",
       "    </tr>\n",
       "    <tr>\n",
       "      <th>34</th>\n",
       "      <td>3671.081113</td>\n",
       "    </tr>\n",
       "    <tr>\n",
       "      <th>35</th>\n",
       "      <td>3668.081113</td>\n",
       "    </tr>\n",
       "    <tr>\n",
       "      <th>36</th>\n",
       "      <td>3677.081113</td>\n",
       "    </tr>\n",
       "    <tr>\n",
       "      <th>37</th>\n",
       "      <td>3667.081113</td>\n",
       "    </tr>\n",
       "    <tr>\n",
       "      <th>38</th>\n",
       "      <td>3669.081113</td>\n",
       "    </tr>\n",
       "    <tr>\n",
       "      <th>39</th>\n",
       "      <td>3696.081113</td>\n",
       "    </tr>\n",
       "  </tbody>\n",
       "</table>\n",
       "</div>"
      ],
      "text/plain": [
       "    histogram_bins\n",
       "0      3678.081113\n",
       "1      3677.081113\n",
       "2      3690.081113\n",
       "3      3688.081113\n",
       "4      3681.081113\n",
       "5      3684.081113\n",
       "6      3688.081113\n",
       "7      3745.081113\n",
       "8      3673.081113\n",
       "9      3725.081113\n",
       "10     3672.081113\n",
       "11     3756.081113\n",
       "12     3695.081113\n",
       "13     3868.081113\n",
       "14     3730.081113\n",
       "15     7007.081113\n",
       "16     3744.081113\n",
       "17     4465.081113\n",
       "18     3710.081113\n",
       "19     3825.081113\n",
       "20     4994.081113\n",
       "21     3687.081113\n",
       "22     4037.081113\n",
       "23     3678.081113\n",
       "24     4321.081113\n",
       "25     3675.081113\n",
       "26     3776.081113\n",
       "27     3672.081113\n",
       "28     3798.081113\n",
       "29     3668.081113\n",
       "30     3689.081113\n",
       "31     3669.081113\n",
       "32     3724.081113\n",
       "33     3684.081113\n",
       "34     3671.081113\n",
       "35     3668.081113\n",
       "36     3677.081113\n",
       "37     3667.081113\n",
       "38     3669.081113\n",
       "39     3696.081113"
      ]
     },
     "execution_count": 29,
     "metadata": {},
     "output_type": "execute_result"
    }
   ],
   "source": [
    "pertub_income_histogram_1 = pd.DataFrame(df_income_over_50k_1)\n",
    "pertub_income_histogram_1.rename(index=str, columns={0:'histogram_bins'})"
   ]
  },
  {
   "cell_type": "code",
   "execution_count": 30,
   "metadata": {},
   "outputs": [
    {
     "data": {
      "image/png": "[encoded data removed]",
      "text/plain": [
       "<Figure size 864x576 with 1 Axes>"
      ]
     },
     "metadata": {
      "needs_background": "light"
     },
     "output_type": "display_data"
    }
   ],
   "source": [
    "# Histograms \n",
    "plt.figure(figsize=(12,8))\n",
    "plt.hist(pertub_income_histogram_1, bins=40)\n",
    "plt.gca().set(title='Perturbed working Hours-per-week', xlabel='Working hours');"
   ]
  },
  {
   "cell_type": "markdown",
   "metadata": {},
   "source": [
    "#### L'augmentation du bins n'a pas d'effet sur l'histogramme( voir ci-dessus)"
   ]
  },
  {
   "cell_type": "markdown",
   "metadata": {},
   "source": [
    "# 2. Basic Fourier Perturbation Algorithm"
   ]
  },
  {
   "cell_type": "markdown",
   "metadata": {},
   "source": [
    "#### Q4.Implemention of the Basic FPA algorithm"
   ]
  },
  {
   "cell_type": "code",
   "execution_count": 31,
   "metadata": {},
   "outputs": [],
   "source": [
    "#Permet d'ajouter du bruit aux coefficients de Fourier en utilisant Laplace\n",
    "def lpa(input, k, scale):\n",
    "    output = []\n",
    "    for coef in np.fft.fft(input, k):\n",
    "        output.append(coef + np.random.laplace(loc=0, scale=scale))\n",
    "    \n",
    "    return np.asarray(output)\n",
    "\n",
    "#implementation de pda\n",
    "def pda(input, length):\n",
    "    return np.pad(input, (0, length), 'constant')\n",
    "\n",
    "#Implémentation de la fonction Basic Fourier Perturbation Algorithm\n",
    "def bfpa(input, k, scale):\n",
    "    lpa_result = lpa(input, k, scale)\n",
    "    pda_result = pda(lpa_result, len(input) - k)\n",
    "    return np.fft.ifft(pda_result).real"
   ]
  },
  {
   "cell_type": "markdown",
   "metadata": {},
   "source": [
    "#### Q5. Use Basic FPA to compute query H1"
   ]
  },
  {
   "cell_type": "code",
   "execution_count": 32,
   "metadata": {},
   "outputs": [
    {
     "data": {
      "text/plain": [
       "array([-0.1882096 , -0.64417116, -0.74835201, -0.30642245,  0.69126955,\n",
       "        2.07466214,  3.58647165,  5.01851166,  6.32738051,  7.67189049,\n",
       "        9.3467843 , 11.63210626, 14.61686437, 18.07279849, 21.44094651,\n",
       "       23.95388183, 24.86434945, 23.70639014, 20.49567071, 15.7903944 ,\n",
       "       10.57898247,  6.02031556,  3.11531047,  2.4154626 ,  3.86434945,\n",
       "        6.82475332, 10.28206833, 13.155889  , 14.61686437, 14.30706776,\n",
       "       12.39826292,  9.47999086,  6.32738051,  3.63638752,  1.81907897,\n",
       "        0.9232831 ,  0.69126955,  0.72040636,  0.65425876,  0.32740337])"
      ]
     },
     "execution_count": 32,
     "metadata": {},
     "output_type": "execute_result"
    }
   ],
   "source": [
    "sensitivity = 1\n",
    "epsilon = 0.01\n",
    "coefficient_education_001 = bfpa(education_num_histogram, 5,  sensitivity/ epsilon)\n",
    "coefficient_education_001"
   ]
  },
  {
   "cell_type": "code",
   "execution_count": 33,
   "metadata": {},
   "outputs": [
    {
     "data": {
      "image/png": "[encoded data removed]",
      "text/plain": [
       "<Figure size 864x576 with 1 Axes>"
      ]
     },
     "metadata": {
      "needs_background": "light"
     },
     "output_type": "display_data"
    }
   ],
   "source": [
    "# Histograms \n",
    "plt.figure(figsize=(12,8))\n",
    "plt.hist(coefficient_education_001, bins=40)\n",
    "plt.gca().set(title='Perturbed Education Num ', xlabel='Education Level');"
   ]
  },
  {
   "cell_type": "code",
   "execution_count": 34,
   "metadata": {},
   "outputs": [
    {
     "data": {
      "text/plain": [
       "array([ 6.39369206,  5.86892509,  5.48396659,  5.24720662,  4.96706704,\n",
       "        4.37286516,  3.29435943,  1.81792917,  0.34197172, -0.50809617,\n",
       "       -0.08803021,  2.00463184,  5.71690987, 10.46398932, 15.23535387,\n",
       "       18.86329722, 20.37199362, 19.29082007, 15.82224392, 10.80121831,\n",
       "        5.45366891,  1.03113947, -1.55811632, -2.00010747, -0.62800638,\n",
       "        1.73416871,  4.07647569,  5.54707984,  5.71690987,  4.67959334,\n",
       "        2.96344841,  1.30000419,  0.34197172,  0.43580504,  1.52696676,\n",
       "        3.22148612,  4.96706704,  6.27403544,  6.88657736,  6.84049962])"
      ]
     },
     "execution_count": 34,
     "metadata": {},
     "output_type": "execute_result"
    }
   ],
   "source": [
    "#Epsilon = 0.1\n",
    "sensitivity = 1\n",
    "epsilon = 0.1\n",
    "\n",
    "df_education_num_01 = bfpa(education_num_histogram, 5,  sensitivity/ epsilon)\n",
    "df_education_num_01"
   ]
  },
  {
   "cell_type": "code",
   "execution_count": 35,
   "metadata": {},
   "outputs": [
    {
     "data": {
      "image/png": "[encoded data removed]",
      "text/plain": [
       "<Figure size 864x576 with 1 Axes>"
      ]
     },
     "metadata": {
      "needs_background": "light"
     },
     "output_type": "display_data"
    }
   ],
   "source": [
    "# Histograms \n",
    "plt.figure(figsize=(12,8))\n",
    "plt.hist(df_education_num_01, bins=40)\n",
    "plt.gca().set(title='Perturbed Education Num ', xlabel='Education Level');"
   ]
  },
  {
   "cell_type": "code",
   "execution_count": 36,
   "metadata": {},
   "outputs": [
    {
     "data": {
      "text/plain": [
       "array([ 6.43009714e+00,  5.96566387e+00,  5.73308640e+00,  5.66653002e+00,\n",
       "        5.48494912e+00,  4.85015992e+00,  3.57581015e+00,  1.79346992e+00,\n",
       "       -5.84087282e-03, -1.08940839e+00, -7.30421079e-01,  1.50031012e+00,\n",
       "        5.50980884e+00,  1.06202299e+01,  1.57082990e+01,  1.95143392e+01,\n",
       "        2.10238826e+01,  1.97933687e+01,  1.61056771e+01,  1.08972393e+01,\n",
       "        5.47666476e+00,  1.12716043e+00, -1.27468313e+00, -1.49755882e+00,\n",
       "        2.38826446e-02,  2.38521071e+00,  4.54942079e+00,  5.70332039e+00,\n",
       "        5.50980884e+00,  4.17527162e+00,  2.32105754e+00,  7.18691973e-01,\n",
       "       -5.84087282e-03,  4.11345784e-01,  1.80841747e+00,  3.69878088e+00,\n",
       "        5.48494912e+00,  6.69335884e+00,  7.13569717e+00,  6.93723840e+00])"
      ]
     },
     "execution_count": 36,
     "metadata": {},
     "output_type": "execute_result"
    }
   ],
   "source": [
    "#Epsilon = 1\n",
    "sensitivity = 1\n",
    "epsilon = 1\n",
    "\n",
    "df_education_num_1 = bfpa(education_num_histogram, 5,  sensitivity/ epsilon)\n",
    "df_education_num_1"
   ]
  },
  {
   "cell_type": "code",
   "execution_count": 37,
   "metadata": {},
   "outputs": [
    {
     "data": {
      "image/png": "[encoded data removed]",
      "text/plain": [
       "<Figure size 864x576 with 1 Axes>"
      ]
     },
     "metadata": {
      "needs_background": "light"
     },
     "output_type": "display_data"
    }
   ],
   "source": [
    "# Histograms \n",
    "plt.figure(figsize=(12,8))\n",
    "plt.hist(df_education_num_1, bins=40)\n",
    "plt.gca().set(title='Perturbed Education Num ', xlabel='Education Level');"
   ]
  },
  {
   "cell_type": "markdown",
   "metadata": {},
   "source": [
    "#### On constate qu'en utilisant la transformée de fourier l'histogramme obtenu est différent de celui des données non pertubées. Plus epsilon plus on se rapproche de l'histogramme des données non perturbées (données de départ)"
   ]
  },
  {
   "cell_type": "markdown",
   "metadata": {},
   "source": [
    "#### Q6. Use Basic FPA to compute query H2"
   ]
  },
  {
   "cell_type": "code",
   "execution_count": 38,
   "metadata": {},
   "outputs": [
    {
     "data": {
      "text/plain": [
       "array([-13705.84020999, -11866.51340618,  -6763.65488408,    478.01985644,\n",
       "         8344.95824111,  15349.9342656 ,  20407.05991638,  23051.12337965,\n",
       "        23444.19383042,  22188.4454657 ,  20029.82567466,  17569.10148733,\n",
       "        15084.61223709,  12521.03523037,   9630.86488799,   6196.34824064,\n",
       "         2231.48828661,  -1923.8069778 ,  -5658.40280082,  -8272.32536766,\n",
       "        -9213.36693234,  -8272.38981603,  -5658.53423359,  -1924.00440078,\n",
       "         2231.23828661,   6196.07813971,   9630.62599445,  12520.88855787,\n",
       "        15084.61223709,  17569.27781517,  20030.16977014,  22188.90773481,\n",
       "        23444.69383042,  23051.57080263,  20407.38003984,  15350.08949007,\n",
       "         8344.95824111,    477.91652894,  -6763.78631686, -11866.60093027])"
      ]
     },
     "execution_count": 38,
     "metadata": {},
     "output_type": "execute_result"
    }
   ],
   "source": [
    "epsilon = 0.01\n",
    "\n",
    "df_income_over_50k_001 = bfpa(df_income_over_50k_histogram, 5,  sensitivity_h2/ epsilon)\n",
    "df_income_over_50k_001"
   ]
  },
  {
   "cell_type": "code",
   "execution_count": 39,
   "metadata": {},
   "outputs": [
    {
     "data": {
      "image/png": "[encoded data removed]",
      "text/plain": [
       "<Figure size 864x576 with 1 Axes>"
      ]
     },
     "metadata": {
      "needs_background": "light"
     },
     "output_type": "display_data"
    }
   ],
   "source": [
    "# Histograms \n",
    "plt.figure(figsize=(12,8))\n",
    "plt.hist(df_income_over_50k_001, bins=40)\n",
    "plt.gca().set(title='Perturbed working Hours-per-week', xlabel='Working hours');"
   ]
  },
  {
   "cell_type": "code",
   "execution_count": 40,
   "metadata": {},
   "outputs": [
    {
     "data": {
      "text/plain": [
       "array([ 236.60194774,  159.90930967,  -37.85192527, -271.41358547,\n",
       "       -434.23982516, -438.19760104, -246.8733194 ,  109.48320546,\n",
       "        542.62337593,  935.19859695, 1179.28110901, 1210.68026875,\n",
       "       1027.15067413,  684.82738983,  275.35531698, -106.88353888,\n",
       "       -394.87484398, -565.53588361, -637.64339959, -653.5560124 ,\n",
       "       -653.4726863 , -653.62046077, -637.77483237, -565.73330659,\n",
       "       -395.12484398, -107.15363981,  275.11642344,  684.68071733,\n",
       "       1027.15067413, 1210.85659659, 1179.62520449,  935.66086607,\n",
       "        543.12337593,  109.93062844, -246.55319594, -438.04237657,\n",
       "       -434.23982516, -271.51691297,  -37.98335805,  159.82178558])"
      ]
     },
     "execution_count": 40,
     "metadata": {},
     "output_type": "execute_result"
    }
   ],
   "source": [
    "epsilon = 0.1\n",
    "\n",
    "df_income_over_50k_01 = bfpa(df_income_over_50k_histogram, 5,  sensitivity_h2/ epsilon)\n",
    "df_income_over_50k_01"
   ]
  },
  {
   "cell_type": "code",
   "execution_count": 41,
   "metadata": {},
   "outputs": [
    {
     "data": {
      "image/png": "[encoded data removed]",
      "text/plain": [
       "<Figure size 864x576 with 1 Axes>"
      ]
     },
     "metadata": {
      "needs_background": "light"
     },
     "output_type": "display_data"
    }
   ],
   "source": [
    "# Histograms \n",
    "plt.figure(figsize=(12,8))\n",
    "plt.hist(df_income_over_50k_01, bins=40)\n",
    "plt.gca().set(title='Perturbed working Hours-per-week', xlabel='Working hours');"
   ]
  },
  {
   "cell_type": "code",
   "execution_count": 42,
   "metadata": {},
   "outputs": [
    {
     "data": {
      "text/plain": [
       "array([-561.96597076, -535.9033585 , -462.5872258 , -355.47657668,\n",
       "       -234.29679694, -121.43944628,  -37.75404927,    1.5242696 ,\n",
       "        -10.08858893,  -68.83090072, -161.28293018, -267.06467908,\n",
       "       -363.18561684, -429.14910523, -451.64959592, -427.70953225,\n",
       "       -365.41654369, -281.98403619, -199.53366477, -139.60498071,\n",
       "       -117.76140845, -139.66942908, -199.66509755, -282.18145917,\n",
       "       -365.66654369, -427.97963318, -451.88848945, -429.29577773,\n",
       "       -363.18561684, -266.88835124, -160.9388347 ,  -68.3686316 ,\n",
       "         -9.58858893,    1.97169258,  -37.43392581, -121.28422181,\n",
       "       -234.29679694, -355.57990418, -462.71865858, -535.99088259])"
      ]
     },
     "execution_count": 42,
     "metadata": {},
     "output_type": "execute_result"
    }
   ],
   "source": [
    "epsilon = 1\n",
    "\n",
    "df_income_over_50k_1 = bfpa(df_income_over_50k_histogram, 5,  sensitivity_h2/ epsilon)\n",
    "df_income_over_50k_1"
   ]
  },
  {
   "cell_type": "code",
   "execution_count": 43,
   "metadata": {},
   "outputs": [
    {
     "data": {
      "image/png": "[encoded data removed]",
      "text/plain": [
       "<Figure size 864x576 with 1 Axes>"
      ]
     },
     "metadata": {
      "needs_background": "light"
     },
     "output_type": "display_data"
    }
   ],
   "source": [
    "# Histograms \n",
    "plt.figure(figsize=(12,8))\n",
    "plt.hist(df_income_over_50k_1, bins=40)\n",
    "plt.gca().set(title='Perturbed working Hours-per-week', xlabel='Working hours');"
   ]
  },
  {
   "cell_type": "markdown",
   "metadata": {},
   "source": [
    "## 3. Experimental Evaluation\n",
    "#### Q7. Compare the quality of the two algorithms on query H1 :\n",
    "##### Using Lapace"
   ]
  },
  {
   "cell_type": "code",
   "execution_count": 44,
   "metadata": {},
   "outputs": [],
   "source": [
    "def laplace_for_h1(sensitivity):\n",
    "    return education_num_histogram + np.random.laplace(loc=0, scale=sensitivity/epsilon) "
   ]
  },
  {
   "cell_type": "code",
   "execution_count": 45,
   "metadata": {},
   "outputs": [],
   "source": [
    "from scipy.stats import wasserstein_distance\n",
    "\n",
    "wass_distance_001 = [] # Wasserstein distance for epsilon = 0.01\n",
    "wass_distance_01 = []  # Wasserstein distance for epsilon = 0.1\n",
    "wass_distance_1 = []  # Wasserstein distance for epsilon = 1\n",
    "for i in range(20):\n",
    "    wass_distance_001.append(wasserstein_distance(education_num_histogram, laplace_for_h1(0.01)))\n",
    "    \n",
    "for i in range(20):\n",
    "    wass_distance_01.append(wasserstein_distance(education_num_histogram, laplace_for_h1(0.1)))\n",
    "    \n",
    "for i in range(20):\n",
    "    wass_distance_1.append(wasserstein_distance(education_num_histogram, laplace_for_h1(1)))"
   ]
  },
  {
   "cell_type": "code",
   "execution_count": 46,
   "metadata": {},
   "outputs": [
    {
     "name": "stdout",
     "output_type": "stream",
     "text": [
      "epsilon = 0.01 : >> min: 0.00021928170429044814 max: 0.0222805562233028 average: 0.006832796071125665\n",
      "epsilon = 0.1 : >> min: 0.009628053656983092 max: 0.2412145799145908 average: 0.08810194202283969\n",
      "epsilon = 1 : >> min: 0.16869748015778954 max: 2.9094216397777806 average: 0.9026400330539028\n"
     ]
    }
   ],
   "source": [
    "#min\n",
    "min_e001 = np.amin(wass_distance_001)\n",
    "min_e01 = np.amin(wass_distance_01)\n",
    "min_e1 = np.amin(wass_distance_1)\n",
    "#max\n",
    "max_e001 = np.amax(wass_distance_001)\n",
    "max_e01 = np.amax(wass_distance_01)\n",
    "max_e1 = np.amax(wass_distance_1)\n",
    "\n",
    "#average\n",
    "average_e001 = np.average(wass_distance_001)\n",
    "average_e01 = np.average(wass_distance_01)\n",
    "average_e1 = np.average(wass_distance_1)\n",
    "\n",
    "print(\"epsilon = 0.01 : >>\", \"min:\", min_e001, \"max:\", max_e001, \"average:\", average_e001)\n",
    "print(\"epsilon = 0.1 : >>\", \"min:\", min_e01, \"max:\",max_e01, \"average:\", average_e01)\n",
    "print(\"epsilon = 1 : >>\", \"min:\", min_e1, \"max:\", max_e1, \"average:\", average_e1)"
   ]
  },
  {
   "cell_type": "code",
   "execution_count": 47,
   "metadata": {},
   "outputs": [
    {
     "data": {
      "text/plain": [
       "<matplotlib.collections.PathCollection at 0x150c81b5e80>"
      ]
     },
     "execution_count": 47,
     "metadata": {},
     "output_type": "execute_result"
    },
    {
     "data": {
      "image/png": "[encoded data removed]",
      "text/plain": [
       "<Figure size 432x288 with 1 Axes>"
      ]
     },
     "metadata": {
      "needs_background": "light"
     },
     "output_type": "display_data"
    }
   ],
   "source": [
    "plt.scatter([0.01, 0.01, 0.01], [min_e001, max_e001, average_e001], c=\"red\")\n",
    "plt.scatter([0.1, 0.1, 0.1], [min_e01, max_e01, average_e01])\n",
    "plt.scatter([1, 1, 1], [min_e1, max_e1, average_e1])"
   ]
  },
  {
   "cell_type": "markdown",
   "metadata": {},
   "source": [
    "##### Using BFPA"
   ]
  },
  {
   "cell_type": "code",
   "execution_count": 48,
   "metadata": {},
   "outputs": [],
   "source": [
    "def bfpa_for_h1(sensitvity):\n",
    "    return  bfpa(education_num_histogram, 5,  sensitivity_h2/ epsilon)"
   ]
  },
  {
   "cell_type": "code",
   "execution_count": 49,
   "metadata": {},
   "outputs": [],
   "source": [
    "wass_distance_001 = [] # Wasserstein distance for epsilon = 0.01\n",
    "wass_distance_01 = []  # Wasserstein distance for epsilon = 0.1\n",
    "wass_distance_1 = []  # Wasserstein distance for epsilon = 1\n",
    "for i in range(20):\n",
    "    wass_distance_001.append(wasserstein_distance(education_num_histogram, bfpa_for_h1(0.01)))\n",
    "    \n",
    "for i in range(20):\n",
    "    wass_distance_01.append(wasserstein_distance(education_num_histogram, bfpa_for_h1(0.1)))\n",
    "    \n",
    "for i in range(20):\n",
    "    wass_distance_1.append(wasserstein_distance(education_num_histogram, bfpa_for_h1(1)))"
   ]
  },
  {
   "cell_type": "code",
   "execution_count": 50,
   "metadata": {},
   "outputs": [
    {
     "name": "stdout",
     "output_type": "stream",
     "text": [
      "epsilon = 0.01 : >> min: 756.7431609779674 max: 915.8385562781634 average: 822.8516111862555\n",
      "epsilon = 0.1 : >> min: 740.1652061855548 max: 909.6191146394095 average: 828.7639053990833\n",
      "epsilon = 1 : >> min: 757.9075594915578 max: 933.1162468195673 average: 842.7385712002473\n"
     ]
    }
   ],
   "source": [
    "#min\n",
    "min_e001 = np.amin(wass_distance_001)\n",
    "min_e01 = np.amin(wass_distance_01)\n",
    "min_e1 = np.amin(wass_distance_1)\n",
    "#max\n",
    "max_e001 = np.amax(wass_distance_001)\n",
    "max_e01 = np.amax(wass_distance_01)\n",
    "max_e1 = np.amax(wass_distance_1)\n",
    "\n",
    "#average\n",
    "average_e001 = np.average(wass_distance_001)\n",
    "average_e01 = np.average(wass_distance_01)\n",
    "average_e1 = np.average(wass_distance_1)\n",
    "\n",
    "print(\"epsilon = 0.01 : >>\", \"min:\", min_e001, \"max:\", max_e001, \"average:\", average_e001)\n",
    "print(\"epsilon = 0.1 : >>\", \"min:\", min_e01, \"max:\",max_e01, \"average:\", average_e01)\n",
    "print(\"epsilon = 1 : >>\", \"min:\", min_e1, \"max:\", max_e1, \"average:\", average_e1)"
   ]
  },
  {
   "cell_type": "code",
   "execution_count": 51,
   "metadata": {},
   "outputs": [
    {
     "data": {
      "text/plain": [
       "<matplotlib.collections.PathCollection at 0x150c81d4b80>"
      ]
     },
     "execution_count": 51,
     "metadata": {},
     "output_type": "execute_result"
    },
    {
     "data": {
      "image/png": "[encoded data removed]",
      "text/plain": [
       "<Figure size 432x288 with 1 Axes>"
      ]
     },
     "metadata": {
      "needs_background": "light"
     },
     "output_type": "display_data"
    }
   ],
   "source": [
    "plt.scatter([0.01, 0.01, 0.01], [min_e001, max_e001, average_e001], c=\"red\")\n",
    "plt.scatter([0.1, 0.1, 0.1], [min_e01, max_e01, average_e01])\n",
    "plt.scatter([1, 1, 1], [min_e1, max_e1, average_e1])"
   ]
  },
  {
   "cell_type": "code",
   "execution_count": null,
   "metadata": {},
   "outputs": [],
   "source": []
  }
 ],
 "metadata": {
  "kernelspec": {
   "display_name": "Python 3",
   "language": "python",
   "name": "python3"
  },
  "language_info": {
   "codemirror_mode": {
    "name": "ipython",
    "version": 3
   },
   "file_extension": ".py",
   "mimetype": "text/x-python",
   "name": "python",
   "nbconvert_exporter": "python",
   "pygments_lexer": "ipython3",
   "version": "3.8.5"
  }
 },
 "nbformat": 4,
 "nbformat_minor": 4
}
