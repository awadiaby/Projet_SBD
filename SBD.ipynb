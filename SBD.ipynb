{
 "cells": [
  {
   "cell_type": "markdown",
   "metadata": {},
   "source": [
    "## Authors : Amadou DIA & Awa DIABY                                      \n",
    "## Created : April 2021          \n",
    "<h2><p style=\"text-align: center;\">M1 - MIAGE - SBD Project – Differential privacy</p></h2>"
   ]
  },
  {
   "cell_type": "code",
   "execution_count": null,
   "metadata": {},
   "outputs": [],
   "source": [
    "import pandas as pd\n",
    "import numpy as np\n",
    "import matplotlib.pyplot as plt\n",
    "import cmath\n",
    "from collections.abc import Sequence\n",
    "from scipy.stats import wasserstein_distance"
   ]
  },
  {
   "cell_type": "markdown",
   "metadata": {},
   "source": [
    "### Chargement des données d'étude"
   ]
  },
  {
   "cell_type": "code",
   "execution_count": 2,
   "metadata": {
    "scrolled": false
   },
   "outputs": [
    {
     "data": {
      "text/html": [
       "<div>\n",
       "<style scoped>\n",
       "    .dataframe tbody tr th:only-of-type {\n",
       "        vertical-align: middle;\n",
       "    }\n",
       "\n",
       "    .dataframe tbody tr th {\n",
       "        vertical-align: top;\n",
       "    }\n",
       "\n",
       "    .dataframe thead th {\n",
       "        text-align: right;\n",
       "    }\n",
       "</style>\n",
       "<table border=\"1\" class=\"dataframe\">\n",
       "  <thead>\n",
       "    <tr style=\"text-align: right;\">\n",
       "      <th></th>\n",
       "      <th>Age</th>\n",
       "      <th>Workclass</th>\n",
       "      <th>Fnlwgt</th>\n",
       "      <th>Education</th>\n",
       "      <th>Education-num</th>\n",
       "      <th>Marital-status</th>\n",
       "      <th>Occupation</th>\n",
       "      <th>Relationship</th>\n",
       "      <th>Race</th>\n",
       "      <th>Sex</th>\n",
       "      <th>Capital-gain</th>\n",
       "      <th>Capital-loss</th>\n",
       "      <th>Hours-per-week</th>\n",
       "      <th>Native-country</th>\n",
       "      <th>Income</th>\n",
       "    </tr>\n",
       "  </thead>\n",
       "  <tbody>\n",
       "    <tr>\n",
       "      <th>0</th>\n",
       "      <td>39</td>\n",
       "      <td>State-gov</td>\n",
       "      <td>77516</td>\n",
       "      <td>Bachelors</td>\n",
       "      <td>13</td>\n",
       "      <td>Never-married</td>\n",
       "      <td>Adm-clerical</td>\n",
       "      <td>Not-in-family</td>\n",
       "      <td>White</td>\n",
       "      <td>Male</td>\n",
       "      <td>2174</td>\n",
       "      <td>0</td>\n",
       "      <td>40</td>\n",
       "      <td>United-States</td>\n",
       "      <td>&lt;=50K</td>\n",
       "    </tr>\n",
       "    <tr>\n",
       "      <th>1</th>\n",
       "      <td>50</td>\n",
       "      <td>Self-emp-not-inc</td>\n",
       "      <td>83311</td>\n",
       "      <td>Bachelors</td>\n",
       "      <td>13</td>\n",
       "      <td>Married-civ-spouse</td>\n",
       "      <td>Exec-managerial</td>\n",
       "      <td>Husband</td>\n",
       "      <td>White</td>\n",
       "      <td>Male</td>\n",
       "      <td>0</td>\n",
       "      <td>0</td>\n",
       "      <td>13</td>\n",
       "      <td>United-States</td>\n",
       "      <td>&lt;=50K</td>\n",
       "    </tr>\n",
       "    <tr>\n",
       "      <th>2</th>\n",
       "      <td>38</td>\n",
       "      <td>Private</td>\n",
       "      <td>215646</td>\n",
       "      <td>HS-grad</td>\n",
       "      <td>9</td>\n",
       "      <td>Divorced</td>\n",
       "      <td>Handlers-cleaners</td>\n",
       "      <td>Not-in-family</td>\n",
       "      <td>White</td>\n",
       "      <td>Male</td>\n",
       "      <td>0</td>\n",
       "      <td>0</td>\n",
       "      <td>40</td>\n",
       "      <td>United-States</td>\n",
       "      <td>&lt;=50K</td>\n",
       "    </tr>\n",
       "    <tr>\n",
       "      <th>3</th>\n",
       "      <td>53</td>\n",
       "      <td>Private</td>\n",
       "      <td>234721</td>\n",
       "      <td>11th</td>\n",
       "      <td>7</td>\n",
       "      <td>Married-civ-spouse</td>\n",
       "      <td>Handlers-cleaners</td>\n",
       "      <td>Husband</td>\n",
       "      <td>Black</td>\n",
       "      <td>Male</td>\n",
       "      <td>0</td>\n",
       "      <td>0</td>\n",
       "      <td>40</td>\n",
       "      <td>United-States</td>\n",
       "      <td>&lt;=50K</td>\n",
       "    </tr>\n",
       "    <tr>\n",
       "      <th>4</th>\n",
       "      <td>28</td>\n",
       "      <td>Private</td>\n",
       "      <td>338409</td>\n",
       "      <td>Bachelors</td>\n",
       "      <td>13</td>\n",
       "      <td>Married-civ-spouse</td>\n",
       "      <td>Prof-specialty</td>\n",
       "      <td>Wife</td>\n",
       "      <td>Black</td>\n",
       "      <td>Female</td>\n",
       "      <td>0</td>\n",
       "      <td>0</td>\n",
       "      <td>40</td>\n",
       "      <td>Cuba</td>\n",
       "      <td>&lt;=50K</td>\n",
       "    </tr>\n",
       "  </tbody>\n",
       "</table>\n",
       "</div>"
      ],
      "text/plain": [
       "   Age          Workclass   Fnlwgt   Education   Education-num  \\\n",
       "0   39          State-gov    77516   Bachelors              13   \n",
       "1   50   Self-emp-not-inc    83311   Bachelors              13   \n",
       "2   38            Private   215646     HS-grad               9   \n",
       "3   53            Private   234721        11th               7   \n",
       "4   28            Private   338409   Bachelors              13   \n",
       "\n",
       "        Marital-status          Occupation    Relationship    Race      Sex  \\\n",
       "0        Never-married        Adm-clerical   Not-in-family   White     Male   \n",
       "1   Married-civ-spouse     Exec-managerial         Husband   White     Male   \n",
       "2             Divorced   Handlers-cleaners   Not-in-family   White     Male   \n",
       "3   Married-civ-spouse   Handlers-cleaners         Husband   Black     Male   \n",
       "4   Married-civ-spouse      Prof-specialty            Wife   Black   Female   \n",
       "\n",
       "    Capital-gain   Capital-loss  Hours-per-week  Native-country  Income  \n",
       "0           2174              0              40   United-States   <=50K  \n",
       "1              0              0              13   United-States   <=50K  \n",
       "2              0              0              40   United-States   <=50K  \n",
       "3              0              0              40   United-States   <=50K  \n",
       "4              0              0              40            Cuba   <=50K  "
      ]
     },
     "execution_count": 2,
     "metadata": {},
     "output_type": "execute_result"
    }
   ],
   "source": [
    "# Load the data:\n",
    "data= pd.read_csv('adult.data')\n",
    "data.head()"
   ]
  },
  {
   "cell_type": "markdown",
   "metadata": {},
   "source": [
    "### H1 Histogram of Education level"
   ]
  },
  {
   "cell_type": "code",
   "execution_count": 3,
   "metadata": {
    "scrolled": true
   },
   "outputs": [
    {
     "data": {
      "text/html": [
       "<div>\n",
       "<style scoped>\n",
       "    .dataframe tbody tr th:only-of-type {\n",
       "        vertical-align: middle;\n",
       "    }\n",
       "\n",
       "    .dataframe tbody tr th {\n",
       "        vertical-align: top;\n",
       "    }\n",
       "\n",
       "    .dataframe thead th {\n",
       "        text-align: right;\n",
       "    }\n",
       "</style>\n",
       "<table border=\"1\" class=\"dataframe\">\n",
       "  <thead>\n",
       "    <tr style=\"text-align: right;\">\n",
       "      <th></th>\n",
       "      <th>Education</th>\n",
       "      <th>Education-num</th>\n",
       "    </tr>\n",
       "  </thead>\n",
       "  <tbody>\n",
       "    <tr>\n",
       "      <th>0</th>\n",
       "      <td>Bachelors</td>\n",
       "      <td>13</td>\n",
       "    </tr>\n",
       "    <tr>\n",
       "      <th>1</th>\n",
       "      <td>Bachelors</td>\n",
       "      <td>13</td>\n",
       "    </tr>\n",
       "    <tr>\n",
       "      <th>2</th>\n",
       "      <td>HS-grad</td>\n",
       "      <td>9</td>\n",
       "    </tr>\n",
       "    <tr>\n",
       "      <th>3</th>\n",
       "      <td>11th</td>\n",
       "      <td>7</td>\n",
       "    </tr>\n",
       "    <tr>\n",
       "      <th>4</th>\n",
       "      <td>Bachelors</td>\n",
       "      <td>13</td>\n",
       "    </tr>\n",
       "    <tr>\n",
       "      <th>...</th>\n",
       "      <td>...</td>\n",
       "      <td>...</td>\n",
       "    </tr>\n",
       "    <tr>\n",
       "      <th>32556</th>\n",
       "      <td>Assoc-acdm</td>\n",
       "      <td>12</td>\n",
       "    </tr>\n",
       "    <tr>\n",
       "      <th>32557</th>\n",
       "      <td>HS-grad</td>\n",
       "      <td>9</td>\n",
       "    </tr>\n",
       "    <tr>\n",
       "      <th>32558</th>\n",
       "      <td>HS-grad</td>\n",
       "      <td>9</td>\n",
       "    </tr>\n",
       "    <tr>\n",
       "      <th>32559</th>\n",
       "      <td>HS-grad</td>\n",
       "      <td>9</td>\n",
       "    </tr>\n",
       "    <tr>\n",
       "      <th>32560</th>\n",
       "      <td>HS-grad</td>\n",
       "      <td>9</td>\n",
       "    </tr>\n",
       "  </tbody>\n",
       "</table>\n",
       "<p>32561 rows × 2 columns</p>\n",
       "</div>"
      ],
      "text/plain": [
       "         Education   Education-num\n",
       "0        Bachelors              13\n",
       "1        Bachelors              13\n",
       "2          HS-grad               9\n",
       "3             11th               7\n",
       "4        Bachelors              13\n",
       "...            ...             ...\n",
       "32556   Assoc-acdm              12\n",
       "32557      HS-grad               9\n",
       "32558      HS-grad               9\n",
       "32559      HS-grad               9\n",
       "32560      HS-grad               9\n",
       "\n",
       "[32561 rows x 2 columns]"
      ]
     },
     "execution_count": 3,
     "metadata": {},
     "output_type": "execute_result"
    }
   ],
   "source": [
    "# Load the Education donner\n",
    "df_education = data[['Education',' Education-num']]\n",
    "df_education"
   ]
  },
  {
   "cell_type": "code",
   "execution_count": 62,
   "metadata": {},
   "outputs": [
    {
     "data": {
      "text/plain": [
       "0        13\n",
       "1        13\n",
       "2         9\n",
       "3         7\n",
       "4        13\n",
       "         ..\n",
       "32556    12\n",
       "32557     9\n",
       "32558     9\n",
       "32559     9\n",
       "32560     9\n",
       "Name:  Education-num, Length: 32561, dtype: int64"
      ]
     },
     "execution_count": 62,
     "metadata": {},
     "output_type": "execute_result"
    }
   ],
   "source": [
    "df_education_num = df_education[' Education-num']\n",
    "df_education_num"
   ]
  },
  {
   "cell_type": "code",
   "execution_count": 63,
   "metadata": {},
   "outputs": [
    {
     "data": {
      "image/png": "[encoded data removed]",
      "text/plain": [
       "<Figure size 864x576 with 1 Axes>"
      ]
     },
     "metadata": {
      "needs_background": "light"
     },
     "output_type": "display_data"
    }
   ],
   "source": [
    "plt.figure(figsize=(12,8))\n",
    "(education_num_histogram, bins, patches) = plt.hist(df_education_num, bins=40)\n",
    "plt.gca().set(title='Histogramme du niveau d\\'éducation', xlabel='Education');"
   ]
  },
  {
   "cell_type": "markdown",
   "metadata": {},
   "source": [
    "### H2 Histogram of working hours per week for people with income over 50K"
   ]
  },
  {
   "cell_type": "code",
   "execution_count": 64,
   "metadata": {},
   "outputs": [
    {
     "data": {
      "text/html": [
       "<div>\n",
       "<style scoped>\n",
       "    .dataframe tbody tr th:only-of-type {\n",
       "        vertical-align: middle;\n",
       "    }\n",
       "\n",
       "    .dataframe tbody tr th {\n",
       "        vertical-align: top;\n",
       "    }\n",
       "\n",
       "    .dataframe thead th {\n",
       "        text-align: right;\n",
       "    }\n",
       "</style>\n",
       "<table border=\"1\" class=\"dataframe\">\n",
       "  <thead>\n",
       "    <tr style=\"text-align: right;\">\n",
       "      <th></th>\n",
       "      <th>Hours-per-week</th>\n",
       "      <th>Income</th>\n",
       "    </tr>\n",
       "  </thead>\n",
       "  <tbody>\n",
       "    <tr>\n",
       "      <th>0</th>\n",
       "      <td>40</td>\n",
       "      <td>&lt;=50K</td>\n",
       "    </tr>\n",
       "    <tr>\n",
       "      <th>1</th>\n",
       "      <td>13</td>\n",
       "      <td>&lt;=50K</td>\n",
       "    </tr>\n",
       "    <tr>\n",
       "      <th>2</th>\n",
       "      <td>40</td>\n",
       "      <td>&lt;=50K</td>\n",
       "    </tr>\n",
       "    <tr>\n",
       "      <th>3</th>\n",
       "      <td>40</td>\n",
       "      <td>&lt;=50K</td>\n",
       "    </tr>\n",
       "    <tr>\n",
       "      <th>4</th>\n",
       "      <td>40</td>\n",
       "      <td>&lt;=50K</td>\n",
       "    </tr>\n",
       "    <tr>\n",
       "      <th>...</th>\n",
       "      <td>...</td>\n",
       "      <td>...</td>\n",
       "    </tr>\n",
       "    <tr>\n",
       "      <th>32556</th>\n",
       "      <td>38</td>\n",
       "      <td>&lt;=50K</td>\n",
       "    </tr>\n",
       "    <tr>\n",
       "      <th>32557</th>\n",
       "      <td>40</td>\n",
       "      <td>&gt;50K</td>\n",
       "    </tr>\n",
       "    <tr>\n",
       "      <th>32558</th>\n",
       "      <td>40</td>\n",
       "      <td>&lt;=50K</td>\n",
       "    </tr>\n",
       "    <tr>\n",
       "      <th>32559</th>\n",
       "      <td>20</td>\n",
       "      <td>&lt;=50K</td>\n",
       "    </tr>\n",
       "    <tr>\n",
       "      <th>32560</th>\n",
       "      <td>40</td>\n",
       "      <td>&gt;50K</td>\n",
       "    </tr>\n",
       "  </tbody>\n",
       "</table>\n",
       "<p>32561 rows × 2 columns</p>\n",
       "</div>"
      ],
      "text/plain": [
       "       Hours-per-week  Income\n",
       "0                  40   <=50K\n",
       "1                  13   <=50K\n",
       "2                  40   <=50K\n",
       "3                  40   <=50K\n",
       "4                  40   <=50K\n",
       "...               ...     ...\n",
       "32556              38   <=50K\n",
       "32557              40    >50K\n",
       "32558              40   <=50K\n",
       "32559              20   <=50K\n",
       "32560              40    >50K\n",
       "\n",
       "[32561 rows x 2 columns]"
      ]
     },
     "execution_count": 64,
     "metadata": {},
     "output_type": "execute_result"
    }
   ],
   "source": [
    "df_hours_per_week = data[['Hours-per-week','Income']] \n",
    "df_hours_per_week"
   ]
  },
  {
   "cell_type": "markdown",
   "metadata": {},
   "source": [
    "#### Dans l'entrée suivante, on récupère les horaires par semaine pour les personnes ayant un revenu est supérieur ou égal à 50K"
   ]
  },
  {
   "cell_type": "code",
   "execution_count": 65,
   "metadata": {},
   "outputs": [
    {
     "data": {
      "text/html": [
       "<div>\n",
       "<style scoped>\n",
       "    .dataframe tbody tr th:only-of-type {\n",
       "        vertical-align: middle;\n",
       "    }\n",
       "\n",
       "    .dataframe tbody tr th {\n",
       "        vertical-align: top;\n",
       "    }\n",
       "\n",
       "    .dataframe thead th {\n",
       "        text-align: right;\n",
       "    }\n",
       "</style>\n",
       "<table border=\"1\" class=\"dataframe\">\n",
       "  <thead>\n",
       "    <tr style=\"text-align: right;\">\n",
       "      <th></th>\n",
       "      <th>Hours-per-week</th>\n",
       "      <th>Income</th>\n",
       "    </tr>\n",
       "  </thead>\n",
       "  <tbody>\n",
       "    <tr>\n",
       "      <th>7</th>\n",
       "      <td>45</td>\n",
       "      <td>&gt;50K</td>\n",
       "    </tr>\n",
       "    <tr>\n",
       "      <th>8</th>\n",
       "      <td>50</td>\n",
       "      <td>&gt;50K</td>\n",
       "    </tr>\n",
       "    <tr>\n",
       "      <th>9</th>\n",
       "      <td>40</td>\n",
       "      <td>&gt;50K</td>\n",
       "    </tr>\n",
       "    <tr>\n",
       "      <th>10</th>\n",
       "      <td>80</td>\n",
       "      <td>&gt;50K</td>\n",
       "    </tr>\n",
       "    <tr>\n",
       "      <th>11</th>\n",
       "      <td>40</td>\n",
       "      <td>&gt;50K</td>\n",
       "    </tr>\n",
       "    <tr>\n",
       "      <th>...</th>\n",
       "      <td>...</td>\n",
       "      <td>...</td>\n",
       "    </tr>\n",
       "    <tr>\n",
       "      <th>32539</th>\n",
       "      <td>10</td>\n",
       "      <td>&gt;50K</td>\n",
       "    </tr>\n",
       "    <tr>\n",
       "      <th>32545</th>\n",
       "      <td>20</td>\n",
       "      <td>&gt;50K</td>\n",
       "    </tr>\n",
       "    <tr>\n",
       "      <th>32554</th>\n",
       "      <td>40</td>\n",
       "      <td>&gt;50K</td>\n",
       "    </tr>\n",
       "    <tr>\n",
       "      <th>32557</th>\n",
       "      <td>40</td>\n",
       "      <td>&gt;50K</td>\n",
       "    </tr>\n",
       "    <tr>\n",
       "      <th>32560</th>\n",
       "      <td>40</td>\n",
       "      <td>&gt;50K</td>\n",
       "    </tr>\n",
       "  </tbody>\n",
       "</table>\n",
       "<p>7841 rows × 2 columns</p>\n",
       "</div>"
      ],
      "text/plain": [
       "       Hours-per-week Income\n",
       "7                  45   >50K\n",
       "8                  50   >50K\n",
       "9                  40   >50K\n",
       "10                 80   >50K\n",
       "11                 40   >50K\n",
       "...               ...    ...\n",
       "32539              10   >50K\n",
       "32545              20   >50K\n",
       "32554              40   >50K\n",
       "32557              40   >50K\n",
       "32560              40   >50K\n",
       "\n",
       "[7841 rows x 2 columns]"
      ]
     },
     "execution_count": 65,
     "metadata": {},
     "output_type": "execute_result"
    }
   ],
   "source": [
    "df_income_over_50k = pd.DataFrame(df_hours_per_week)\n",
    "df_income_over_50k = df_income_over_50k[df_income_over_50k['Income'] == ' >50K']\n",
    "df_income_over_50k"
   ]
  },
  {
   "cell_type": "code",
   "execution_count": 66,
   "metadata": {},
   "outputs": [
    {
     "data": {
      "text/plain": [
       "7        45\n",
       "8        50\n",
       "9        40\n",
       "10       80\n",
       "11       40\n",
       "         ..\n",
       "32539    10\n",
       "32545    20\n",
       "32554    40\n",
       "32557    40\n",
       "32560    40\n",
       "Name: Hours-per-week, Length: 7841, dtype: int64"
      ]
     },
     "execution_count": 66,
     "metadata": {},
     "output_type": "execute_result"
    }
   ],
   "source": [
    "df_income_over_50k = df_income_over_50k['Hours-per-week']\n",
    "df_income_over_50k"
   ]
  },
  {
   "cell_type": "code",
   "execution_count": 67,
   "metadata": {
    "scrolled": false
   },
   "outputs": [
    {
     "data": {
      "image/png": "[encoded data removed]",
      "text/plain": [
       "<Figure size 864x576 with 1 Axes>"
      ]
     },
     "metadata": {
      "needs_background": "light"
     },
     "output_type": "display_data"
    }
   ],
   "source": [
    "plt.figure(figsize=(12,8))\n",
    "(df_income_over_50k_histogram, bins, patches) = plt.hist(df_income_over_50k, bins=40)\n",
    "plt.gca().set(title='Histogramme horaires / semaine pour les personnes avec revenu >= 50K', xlabel='Working Hours-per-week');"
   ]
  },
  {
   "cell_type": "markdown",
   "metadata": {},
   "source": [
    "### Mecanisme de Laplace pour les histogrammes"
   ]
  },
  {
   "cell_type": "markdown",
   "metadata": {},
   "source": [
    "### Q1 \n",
    "La sensivity est 1 car il s'agit d'une requête du nombre d'individu dans l'histogramme"
   ]
  },
  {
   "cell_type": "markdown",
   "metadata": {},
   "source": [
    "### Q2 : Use mechanism Laplace to compute query H1 with {0.01, 0.1, 1}"
   ]
  },
  {
   "cell_type": "code",
   "execution_count": 72,
   "metadata": {},
   "outputs": [
    {
     "data": {
      "text/plain": [
       "array([   51.,     0.,   168.,     0.,     0.,   333.,     0.,     0.,\n",
       "         646.,     0.,   514.,     0.,     0.,   933.,     0.,     0.,\n",
       "        1175.,     0.,   433.,     0.,     0., 10501.,     0.,     0.,\n",
       "        7291.,     0.,  1382.,     0.,     0.,  1067.,     0.,     0.,\n",
       "        5355.,     0.,  1723.,     0.,     0.,   576.,     0.,   413.])"
      ]
     },
     "execution_count": 72,
     "metadata": {},
     "output_type": "execute_result"
    }
   ],
   "source": [
    "education_num_histogram #bins de l'histogramme"
   ]
  },
  {
   "cell_type": "code",
   "execution_count": 79,
   "metadata": {},
   "outputs": [
    {
     "data": {
      "text/plain": [
       "array([  107.51855546,    56.51855546,   224.51855546,    56.51855546,\n",
       "          56.51855546,   389.51855546,    56.51855546,    56.51855546,\n",
       "         702.51855546,    56.51855546,   570.51855546,    56.51855546,\n",
       "          56.51855546,   989.51855546,    56.51855546,    56.51855546,\n",
       "        1231.51855546,    56.51855546,   489.51855546,    56.51855546,\n",
       "          56.51855546, 10557.51855546,    56.51855546,    56.51855546,\n",
       "        7347.51855546,    56.51855546,  1438.51855546,    56.51855546,\n",
       "          56.51855546,  1123.51855546,    56.51855546,    56.51855546,\n",
       "        5411.51855546,    56.51855546,  1779.51855546,    56.51855546,\n",
       "          56.51855546,   632.51855546,    56.51855546,   469.51855546])"
      ]
     },
     "execution_count": 79,
     "metadata": {},
     "output_type": "execute_result"
    }
   ],
   "source": [
    "## Ajout du bruit à l'histogramme de H1 avec epsilon = 0.01\n",
    "sensitivity = 1\n",
    "epsilon = 0.01\n",
    "df_education_num_001 = education_num_histogram + np.random.laplace(loc=0, scale=sensitivity/epsilon)\n",
    "df_education_num_001"
   ]
  },
  {
   "cell_type": "code",
   "execution_count": 119,
   "metadata": {},
   "outputs": [
    {
     "data": {
      "text/html": [
       "<div>\n",
       "<style scoped>\n",
       "    .dataframe tbody tr th:only-of-type {\n",
       "        vertical-align: middle;\n",
       "    }\n",
       "\n",
       "    .dataframe tbody tr th {\n",
       "        vertical-align: top;\n",
       "    }\n",
       "\n",
       "    .dataframe thead th {\n",
       "        text-align: right;\n",
       "    }\n",
       "</style>\n",
       "<table border=\"1\" class=\"dataframe\">\n",
       "  <thead>\n",
       "    <tr style=\"text-align: right;\">\n",
       "      <th></th>\n",
       "      <th>histogram_bins</th>\n",
       "    </tr>\n",
       "  </thead>\n",
       "  <tbody>\n",
       "    <tr>\n",
       "      <th>0</th>\n",
       "      <td>107.518555</td>\n",
       "    </tr>\n",
       "    <tr>\n",
       "      <th>1</th>\n",
       "      <td>56.518555</td>\n",
       "    </tr>\n",
       "    <tr>\n",
       "      <th>2</th>\n",
       "      <td>224.518555</td>\n",
       "    </tr>\n",
       "    <tr>\n",
       "      <th>3</th>\n",
       "      <td>56.518555</td>\n",
       "    </tr>\n",
       "    <tr>\n",
       "      <th>4</th>\n",
       "      <td>56.518555</td>\n",
       "    </tr>\n",
       "    <tr>\n",
       "      <th>5</th>\n",
       "      <td>389.518555</td>\n",
       "    </tr>\n",
       "    <tr>\n",
       "      <th>6</th>\n",
       "      <td>56.518555</td>\n",
       "    </tr>\n",
       "    <tr>\n",
       "      <th>7</th>\n",
       "      <td>56.518555</td>\n",
       "    </tr>\n",
       "    <tr>\n",
       "      <th>8</th>\n",
       "      <td>702.518555</td>\n",
       "    </tr>\n",
       "    <tr>\n",
       "      <th>9</th>\n",
       "      <td>56.518555</td>\n",
       "    </tr>\n",
       "  </tbody>\n",
       "</table>\n",
       "</div>"
      ],
      "text/plain": [
       "   histogram_bins\n",
       "0      107.518555\n",
       "1       56.518555\n",
       "2      224.518555\n",
       "3       56.518555\n",
       "4       56.518555\n",
       "5      389.518555\n",
       "6       56.518555\n",
       "7       56.518555\n",
       "8      702.518555\n",
       "9       56.518555"
      ]
     },
     "execution_count": 119,
     "metadata": {},
     "output_type": "execute_result"
    }
   ],
   "source": [
    "pertub_education_histogram = pd.DataFrame(df_education_num_001)\n",
    "pertub_education_histogram.rename(index=str, columns={0:'histogram_bins'}).head(10)"
   ]
  },
  {
   "cell_type": "code",
   "execution_count": 125,
   "metadata": {},
   "outputs": [
    {
     "data": {
      "image/png": "[encoded data removed]",
      "text/plain": [
       "<Figure size 864x576 with 1 Axes>"
      ]
     },
     "metadata": {
      "needs_background": "light"
     },
     "output_type": "display_data"
    }
   ],
   "source": [
    "# Affichage de l'histogramme de H1 perturbé avec epsilon 0.01\n",
    "plt.figure(figsize=(12,8))\n",
    "plt.hist(pd.DataFrame(df_education_num_001), bins=40)\n",
    "plt.gca().set(title='Histogramme perturbé du niveau d\\'éducation; e=0.01', xlabel='Education Level');"
   ]
  },
  {
   "cell_type": "code",
   "execution_count": 81,
   "metadata": {},
   "outputs": [
    {
     "data": {
      "text/plain": [
       "array([   62.52179923,    11.52179923,   179.52179923,    11.52179923,\n",
       "          11.52179923,   344.52179923,    11.52179923,    11.52179923,\n",
       "         657.52179923,    11.52179923,   525.52179923,    11.52179923,\n",
       "          11.52179923,   944.52179923,    11.52179923,    11.52179923,\n",
       "        1186.52179923,    11.52179923,   444.52179923,    11.52179923,\n",
       "          11.52179923, 10512.52179923,    11.52179923,    11.52179923,\n",
       "        7302.52179923,    11.52179923,  1393.52179923,    11.52179923,\n",
       "          11.52179923,  1078.52179923,    11.52179923,    11.52179923,\n",
       "        5366.52179923,    11.52179923,  1734.52179923,    11.52179923,\n",
       "          11.52179923,   587.52179923,    11.52179923,   424.52179923])"
      ]
     },
     "execution_count": 81,
     "metadata": {},
     "output_type": "execute_result"
    }
   ],
   "source": [
    "## Ajout du bruit à l'histogramme de H1 avec epsilon = 0.1\n",
    "sensitivity = 1\n",
    "epsilon = 0.1\n",
    "\n",
    "df_education_num_01 = education_num_histogram + np.random.laplace(loc=0, scale=sensitivity/epsilon)\n",
    "df_education_num_01"
   ]
  },
  {
   "cell_type": "code",
   "execution_count": 118,
   "metadata": {},
   "outputs": [
    {
     "data": {
      "text/html": [
       "<div>\n",
       "<style scoped>\n",
       "    .dataframe tbody tr th:only-of-type {\n",
       "        vertical-align: middle;\n",
       "    }\n",
       "\n",
       "    .dataframe tbody tr th {\n",
       "        vertical-align: top;\n",
       "    }\n",
       "\n",
       "    .dataframe thead th {\n",
       "        text-align: right;\n",
       "    }\n",
       "</style>\n",
       "<table border=\"1\" class=\"dataframe\">\n",
       "  <thead>\n",
       "    <tr style=\"text-align: right;\">\n",
       "      <th></th>\n",
       "      <th>histogram_bins</th>\n",
       "    </tr>\n",
       "  </thead>\n",
       "  <tbody>\n",
       "    <tr>\n",
       "      <th>0</th>\n",
       "      <td>62.521799</td>\n",
       "    </tr>\n",
       "    <tr>\n",
       "      <th>1</th>\n",
       "      <td>11.521799</td>\n",
       "    </tr>\n",
       "    <tr>\n",
       "      <th>2</th>\n",
       "      <td>179.521799</td>\n",
       "    </tr>\n",
       "    <tr>\n",
       "      <th>3</th>\n",
       "      <td>11.521799</td>\n",
       "    </tr>\n",
       "    <tr>\n",
       "      <th>4</th>\n",
       "      <td>11.521799</td>\n",
       "    </tr>\n",
       "    <tr>\n",
       "      <th>5</th>\n",
       "      <td>344.521799</td>\n",
       "    </tr>\n",
       "    <tr>\n",
       "      <th>6</th>\n",
       "      <td>11.521799</td>\n",
       "    </tr>\n",
       "    <tr>\n",
       "      <th>7</th>\n",
       "      <td>11.521799</td>\n",
       "    </tr>\n",
       "    <tr>\n",
       "      <th>8</th>\n",
       "      <td>657.521799</td>\n",
       "    </tr>\n",
       "    <tr>\n",
       "      <th>9</th>\n",
       "      <td>11.521799</td>\n",
       "    </tr>\n",
       "  </tbody>\n",
       "</table>\n",
       "</div>"
      ],
      "text/plain": [
       "   histogram_bins\n",
       "0       62.521799\n",
       "1       11.521799\n",
       "2      179.521799\n",
       "3       11.521799\n",
       "4       11.521799\n",
       "5      344.521799\n",
       "6       11.521799\n",
       "7       11.521799\n",
       "8      657.521799\n",
       "9       11.521799"
      ]
     },
     "execution_count": 118,
     "metadata": {},
     "output_type": "execute_result"
    }
   ],
   "source": [
    "pertub_education_histogram_01 = pd.DataFrame(df_education_num_01)\n",
    "pertub_education_histogram_01.rename(index=str, columns={0:'histogram_bins'}).head(10)"
   ]
  },
  {
   "cell_type": "code",
   "execution_count": 126,
   "metadata": {},
   "outputs": [
    {
     "data": {
      "image/png": "[encoded data removed]",
      "text/plain": [
       "<Figure size 864x576 with 1 Axes>"
      ]
     },
     "metadata": {
      "needs_background": "light"
     },
     "output_type": "display_data"
    }
   ],
   "source": [
    "# Affichage de l'histogramme de H1 perturbé avec epsilon 0.1\n",
    "plt.figure(figsize=(12,8))\n",
    "plt.hist(pertub_education_histogram_01, bins=40)\n",
    "plt.gca().set(title='Histogramme perturbé du niveau d\\'éducation; e=0.1', xlabel='Education Level');"
   ]
  },
  {
   "cell_type": "code",
   "execution_count": 122,
   "metadata": {},
   "outputs": [
    {
     "data": {
      "text/plain": [
       "array([ 5.06085602e+01, -3.91439778e-01,  1.67608560e+02, -3.91439778e-01,\n",
       "       -3.91439778e-01,  3.32608560e+02, -3.91439778e-01, -3.91439778e-01,\n",
       "        6.45608560e+02, -3.91439778e-01,  5.13608560e+02, -3.91439778e-01,\n",
       "       -3.91439778e-01,  9.32608560e+02, -3.91439778e-01, -3.91439778e-01,\n",
       "        1.17460856e+03, -3.91439778e-01,  4.32608560e+02, -3.91439778e-01,\n",
       "       -3.91439778e-01,  1.05006086e+04, -3.91439778e-01, -3.91439778e-01,\n",
       "        7.29060856e+03, -3.91439778e-01,  1.38160856e+03, -3.91439778e-01,\n",
       "       -3.91439778e-01,  1.06660856e+03, -3.91439778e-01, -3.91439778e-01,\n",
       "        5.35460856e+03, -3.91439778e-01,  1.72260856e+03, -3.91439778e-01,\n",
       "       -3.91439778e-01,  5.75608560e+02, -3.91439778e-01,  4.12608560e+02])"
      ]
     },
     "execution_count": 122,
     "metadata": {},
     "output_type": "execute_result"
    }
   ],
   "source": [
    "## Ajout du bruit à l'histogramme de H1 avec epsilon = 1\n",
    "sensitivity =1\n",
    "epsilon = 1\n",
    "\n",
    "df_education_num_1 = education_num_histogram + np.random.laplace(loc=0, scale=sensitivity/epsilon)\n",
    "df_education_num_1"
   ]
  },
  {
   "cell_type": "code",
   "execution_count": 107,
   "metadata": {},
   "outputs": [
    {
     "data": {
      "text/html": [
       "<div>\n",
       "<style scoped>\n",
       "    .dataframe tbody tr th:only-of-type {\n",
       "        vertical-align: middle;\n",
       "    }\n",
       "\n",
       "    .dataframe tbody tr th {\n",
       "        vertical-align: top;\n",
       "    }\n",
       "\n",
       "    .dataframe thead th {\n",
       "        text-align: right;\n",
       "    }\n",
       "</style>\n",
       "<table border=\"1\" class=\"dataframe\">\n",
       "  <thead>\n",
       "    <tr style=\"text-align: right;\">\n",
       "      <th></th>\n",
       "      <th>histogram_bins</th>\n",
       "    </tr>\n",
       "  </thead>\n",
       "  <tbody>\n",
       "    <tr>\n",
       "      <th>0</th>\n",
       "      <td>50.608477</td>\n",
       "    </tr>\n",
       "    <tr>\n",
       "      <th>1</th>\n",
       "      <td>-0.391523</td>\n",
       "    </tr>\n",
       "    <tr>\n",
       "      <th>2</th>\n",
       "      <td>167.608477</td>\n",
       "    </tr>\n",
       "    <tr>\n",
       "      <th>3</th>\n",
       "      <td>-0.391523</td>\n",
       "    </tr>\n",
       "    <tr>\n",
       "      <th>4</th>\n",
       "      <td>-0.391523</td>\n",
       "    </tr>\n",
       "    <tr>\n",
       "      <th>5</th>\n",
       "      <td>332.608477</td>\n",
       "    </tr>\n",
       "    <tr>\n",
       "      <th>6</th>\n",
       "      <td>-0.391523</td>\n",
       "    </tr>\n",
       "    <tr>\n",
       "      <th>7</th>\n",
       "      <td>-0.391523</td>\n",
       "    </tr>\n",
       "    <tr>\n",
       "      <th>8</th>\n",
       "      <td>645.608477</td>\n",
       "    </tr>\n",
       "    <tr>\n",
       "      <th>9</th>\n",
       "      <td>-0.391523</td>\n",
       "    </tr>\n",
       "  </tbody>\n",
       "</table>\n",
       "</div>"
      ],
      "text/plain": [
       "   histogram_bins\n",
       "0       50.608477\n",
       "1       -0.391523\n",
       "2      167.608477\n",
       "3       -0.391523\n",
       "4       -0.391523\n",
       "5      332.608477\n",
       "6       -0.391523\n",
       "7       -0.391523\n",
       "8      645.608477\n",
       "9       -0.391523"
      ]
     },
     "execution_count": 107,
     "metadata": {},
     "output_type": "execute_result"
    }
   ],
   "source": [
    "pertub_education_histogram_1 = pd.DataFrame(df_education_num_1)\n",
    "pertub_education_histogram_1.rename(index=str, columns={0:'histogram_bins'}).head(10)"
   ]
  },
  {
   "cell_type": "code",
   "execution_count": 127,
   "metadata": {},
   "outputs": [
    {
     "data": {
      "image/png": "[encoded data removed]",
      "text/plain": [
       "<Figure size 864x576 with 1 Axes>"
      ]
     },
     "metadata": {
      "needs_background": "light"
     },
     "output_type": "display_data"
    }
   ],
   "source": [
    "# Affichage de l'histogramme de H1 perturbé avec epsilon 1\n",
    "plt.figure(figsize=(12,8))\n",
    "plt.hist(pertub_education_histogram_1, bins=40)\n",
    "plt.gca().set(title='Histogramme perturbé du niveau d\\'éducation; e=1', xlabel='Education Level');"
   ]
  },
  {
   "cell_type": "markdown",
   "metadata": {},
   "source": [
    "#### En régardant les histogrammes non perturbés et perturbés de H1, on constate qu'il y a une différence entre  les histogrammes des données non-pertubées et ceux des données pertubées"
   ]
  },
  {
   "cell_type": "markdown",
   "metadata": {},
   "source": [
    "### Q3 1- :  Utilisation du mécanisme de Laplce pour la reqûte H2 avec epsilon = {0.01, 0.1, 1}"
   ]
  },
  {
   "cell_type": "code",
   "execution_count": 128,
   "metadata": {},
   "outputs": [
    {
     "data": {
      "text/plain": [
       "array([1.100e+01, 1.000e+01, 2.300e+01, 2.100e+01, 1.400e+01, 1.700e+01,\n",
       "       2.100e+01, 7.800e+01, 6.000e+00, 5.800e+01, 5.000e+00, 8.900e+01,\n",
       "       2.800e+01, 2.010e+02, 6.300e+01, 3.340e+03, 7.700e+01, 7.980e+02,\n",
       "       4.300e+01, 1.580e+02, 1.327e+03, 2.000e+01, 3.700e+02, 1.100e+01,\n",
       "       6.540e+02, 8.000e+00, 1.090e+02, 5.000e+00, 1.310e+02, 1.000e+00,\n",
       "       2.200e+01, 2.000e+00, 5.700e+01, 1.700e+01, 4.000e+00, 1.000e+00,\n",
       "       1.000e+01, 0.000e+00, 2.000e+00, 2.900e+01])"
      ]
     },
     "execution_count": 128,
     "metadata": {},
     "output_type": "execute_result"
    }
   ],
   "source": [
    "df_income_over_50k_histogram #bins de l'histogramme de H2"
   ]
  },
  {
   "cell_type": "code",
   "execution_count": 129,
   "metadata": {},
   "outputs": [],
   "source": [
    "## La sensitibilité de l'histogramme de requête H2 : ici il s'agit d'une SUM\n",
    "sensitivity_h2 = 1"
   ]
  },
  {
   "cell_type": "code",
   "execution_count": 130,
   "metadata": {},
   "outputs": [
    {
     "data": {
      "text/plain": [
       "array([-1.93867173e+01, -2.03867173e+01, -7.38671733e+00, -9.38671733e+00,\n",
       "       -1.63867173e+01, -1.33867173e+01, -9.38671733e+00,  4.76132827e+01,\n",
       "       -2.43867173e+01,  2.76132827e+01, -2.53867173e+01,  5.86132827e+01,\n",
       "       -2.38671733e+00,  1.70613283e+02,  3.26132827e+01,  3.30961328e+03,\n",
       "        4.66132827e+01,  7.67613283e+02,  1.26132827e+01,  1.27613283e+02,\n",
       "        1.29661328e+03, -1.03867173e+01,  3.39613283e+02, -1.93867173e+01,\n",
       "        6.23613283e+02, -2.23867173e+01,  7.86132827e+01, -2.53867173e+01,\n",
       "        1.00613283e+02, -2.93867173e+01, -8.38671733e+00, -2.83867173e+01,\n",
       "        2.66132827e+01, -1.33867173e+01, -2.63867173e+01, -2.93867173e+01,\n",
       "       -2.03867173e+01, -3.03867173e+01, -2.83867173e+01, -1.38671733e+00])"
      ]
     },
     "execution_count": 130,
     "metadata": {},
     "output_type": "execute_result"
    }
   ],
   "source": [
    "## Ajout du bruit à l'histogramme de H2 avec epsilon = 0.01\n",
    "\n",
    "epsilon = 0.01\n",
    "\n",
    "df_income_over_50k_001 = df_income_over_50k_histogram + np.random.laplace(loc=0, scale=sensitivity_h2 /epsilon)\n",
    "df_income_over_50k_001"
   ]
  },
  {
   "cell_type": "code",
   "execution_count": 131,
   "metadata": {},
   "outputs": [
    {
     "data": {
      "text/html": [
       "<div>\n",
       "<style scoped>\n",
       "    .dataframe tbody tr th:only-of-type {\n",
       "        vertical-align: middle;\n",
       "    }\n",
       "\n",
       "    .dataframe tbody tr th {\n",
       "        vertical-align: top;\n",
       "    }\n",
       "\n",
       "    .dataframe thead th {\n",
       "        text-align: right;\n",
       "    }\n",
       "</style>\n",
       "<table border=\"1\" class=\"dataframe\">\n",
       "  <thead>\n",
       "    <tr style=\"text-align: right;\">\n",
       "      <th></th>\n",
       "      <th>histogram_bins</th>\n",
       "    </tr>\n",
       "  </thead>\n",
       "  <tbody>\n",
       "    <tr>\n",
       "      <th>0</th>\n",
       "      <td>-19.386717</td>\n",
       "    </tr>\n",
       "    <tr>\n",
       "      <th>1</th>\n",
       "      <td>-20.386717</td>\n",
       "    </tr>\n",
       "    <tr>\n",
       "      <th>2</th>\n",
       "      <td>-7.386717</td>\n",
       "    </tr>\n",
       "    <tr>\n",
       "      <th>3</th>\n",
       "      <td>-9.386717</td>\n",
       "    </tr>\n",
       "    <tr>\n",
       "      <th>4</th>\n",
       "      <td>-16.386717</td>\n",
       "    </tr>\n",
       "    <tr>\n",
       "      <th>5</th>\n",
       "      <td>-13.386717</td>\n",
       "    </tr>\n",
       "    <tr>\n",
       "      <th>6</th>\n",
       "      <td>-9.386717</td>\n",
       "    </tr>\n",
       "    <tr>\n",
       "      <th>7</th>\n",
       "      <td>47.613283</td>\n",
       "    </tr>\n",
       "    <tr>\n",
       "      <th>8</th>\n",
       "      <td>-24.386717</td>\n",
       "    </tr>\n",
       "    <tr>\n",
       "      <th>9</th>\n",
       "      <td>27.613283</td>\n",
       "    </tr>\n",
       "  </tbody>\n",
       "</table>\n",
       "</div>"
      ],
      "text/plain": [
       "   histogram_bins\n",
       "0      -19.386717\n",
       "1      -20.386717\n",
       "2       -7.386717\n",
       "3       -9.386717\n",
       "4      -16.386717\n",
       "5      -13.386717\n",
       "6       -9.386717\n",
       "7       47.613283\n",
       "8      -24.386717\n",
       "9       27.613283"
      ]
     },
     "execution_count": 131,
     "metadata": {},
     "output_type": "execute_result"
    }
   ],
   "source": [
    "pertub_income_histogram_001 = pd.DataFrame(df_income_over_50k_001)\n",
    "pertub_income_histogram_001.rename(index=str, columns={0:'histogram_bins'}).head(10)"
   ]
  },
  {
   "cell_type": "code",
   "execution_count": 132,
   "metadata": {},
   "outputs": [
    {
     "data": {
      "image/png": "[encoded data removed]",
      "text/plain": [
       "<Figure size 864x576 with 1 Axes>"
      ]
     },
     "metadata": {
      "needs_background": "light"
     },
     "output_type": "display_data"
    }
   ],
   "source": [
    "# # Affichage de l'histogramme de H2 perturbé avec epsilon 0.01\n",
    "plt.figure(figsize=(12,8))\n",
    "plt.hist(pertub_income_histogram_001, bins=40)\n",
    "plt.gca().set(title='Histogramme perturbé des horaires / semaine pour les personnes avec revenu >= 50K; e=0.01', xlabel='Working Hours');"
   ]
  },
  {
   "cell_type": "code",
   "execution_count": 133,
   "metadata": {},
   "outputs": [
    {
     "data": {
      "text/plain": [
       "array([  17.11566693,   16.11566693,   29.11566693,   27.11566693,\n",
       "         20.11566693,   23.11566693,   27.11566693,   84.11566693,\n",
       "         12.11566693,   64.11566693,   11.11566693,   95.11566693,\n",
       "         34.11566693,  207.11566693,   69.11566693, 3346.11566693,\n",
       "         83.11566693,  804.11566693,   49.11566693,  164.11566693,\n",
       "       1333.11566693,   26.11566693,  376.11566693,   17.11566693,\n",
       "        660.11566693,   14.11566693,  115.11566693,   11.11566693,\n",
       "        137.11566693,    7.11566693,   28.11566693,    8.11566693,\n",
       "         63.11566693,   23.11566693,   10.11566693,    7.11566693,\n",
       "         16.11566693,    6.11566693,    8.11566693,   35.11566693])"
      ]
     },
     "execution_count": 133,
     "metadata": {},
     "output_type": "execute_result"
    }
   ],
   "source": [
    "## Ajout du bruit à l'histogramme de H2 avec epsilon = 0.1\n",
    "\n",
    "epsilon = 0.1\n",
    "df_income_over_50k_01 = df_income_over_50k_histogram + np.random.laplace(loc=0, scale=sensitivity_h2 /epsilon)\n",
    "df_income_over_50k_01"
   ]
  },
  {
   "cell_type": "code",
   "execution_count": 134,
   "metadata": {},
   "outputs": [
    {
     "data": {
      "text/html": [
       "<div>\n",
       "<style scoped>\n",
       "    .dataframe tbody tr th:only-of-type {\n",
       "        vertical-align: middle;\n",
       "    }\n",
       "\n",
       "    .dataframe tbody tr th {\n",
       "        vertical-align: top;\n",
       "    }\n",
       "\n",
       "    .dataframe thead th {\n",
       "        text-align: right;\n",
       "    }\n",
       "</style>\n",
       "<table border=\"1\" class=\"dataframe\">\n",
       "  <thead>\n",
       "    <tr style=\"text-align: right;\">\n",
       "      <th></th>\n",
       "      <th>histogram_bins</th>\n",
       "    </tr>\n",
       "  </thead>\n",
       "  <tbody>\n",
       "    <tr>\n",
       "      <th>0</th>\n",
       "      <td>17.115667</td>\n",
       "    </tr>\n",
       "    <tr>\n",
       "      <th>1</th>\n",
       "      <td>16.115667</td>\n",
       "    </tr>\n",
       "    <tr>\n",
       "      <th>2</th>\n",
       "      <td>29.115667</td>\n",
       "    </tr>\n",
       "    <tr>\n",
       "      <th>3</th>\n",
       "      <td>27.115667</td>\n",
       "    </tr>\n",
       "    <tr>\n",
       "      <th>4</th>\n",
       "      <td>20.115667</td>\n",
       "    </tr>\n",
       "    <tr>\n",
       "      <th>5</th>\n",
       "      <td>23.115667</td>\n",
       "    </tr>\n",
       "    <tr>\n",
       "      <th>6</th>\n",
       "      <td>27.115667</td>\n",
       "    </tr>\n",
       "    <tr>\n",
       "      <th>7</th>\n",
       "      <td>84.115667</td>\n",
       "    </tr>\n",
       "    <tr>\n",
       "      <th>8</th>\n",
       "      <td>12.115667</td>\n",
       "    </tr>\n",
       "    <tr>\n",
       "      <th>9</th>\n",
       "      <td>64.115667</td>\n",
       "    </tr>\n",
       "  </tbody>\n",
       "</table>\n",
       "</div>"
      ],
      "text/plain": [
       "   histogram_bins\n",
       "0       17.115667\n",
       "1       16.115667\n",
       "2       29.115667\n",
       "3       27.115667\n",
       "4       20.115667\n",
       "5       23.115667\n",
       "6       27.115667\n",
       "7       84.115667\n",
       "8       12.115667\n",
       "9       64.115667"
      ]
     },
     "execution_count": 134,
     "metadata": {},
     "output_type": "execute_result"
    }
   ],
   "source": [
    "pertub_income_histogram_01 = pd.DataFrame(df_income_over_50k_01)\n",
    "pertub_income_histogram_01.rename(index=str, columns={0:'histogram_bins'}).head(10)"
   ]
  },
  {
   "cell_type": "code",
   "execution_count": 135,
   "metadata": {},
   "outputs": [
    {
     "data": {
      "image/png": "[encoded data removed]",
      "text/plain": [
       "<Figure size 864x576 with 1 Axes>"
      ]
     },
     "metadata": {
      "needs_background": "light"
     },
     "output_type": "display_data"
    }
   ],
   "source": [
    "# # Affichage de l'histogramme de H2 perturbé avec epsilon 0.1\n",
    " \n",
    "plt.figure(figsize=(12,8))\n",
    "plt.hist(pertub_income_histogram_01, bins=40)\n",
    "plt.gca().set(title='Histogramme perturbé des horaires / semaine pour les personnes avec revenu >= 50K; e=0.1', xlabel='Working hours');"
   ]
  },
  {
   "cell_type": "code",
   "execution_count": 117,
   "metadata": {},
   "outputs": [
    {
     "data": {
      "text/plain": [
       "array([ 1.07217189e+01,  9.72171887e+00,  2.27217189e+01,  2.07217189e+01,\n",
       "        1.37217189e+01,  1.67217189e+01,  2.07217189e+01,  7.77217189e+01,\n",
       "        5.72171887e+00,  5.77217189e+01,  4.72171887e+00,  8.87217189e+01,\n",
       "        2.77217189e+01,  2.00721719e+02,  6.27217189e+01,  3.33972172e+03,\n",
       "        7.67217189e+01,  7.97721719e+02,  4.27217189e+01,  1.57721719e+02,\n",
       "        1.32672172e+03,  1.97217189e+01,  3.69721719e+02,  1.07217189e+01,\n",
       "        6.53721719e+02,  7.72171887e+00,  1.08721719e+02,  4.72171887e+00,\n",
       "        1.30721719e+02,  7.21718873e-01,  2.17217189e+01,  1.72171887e+00,\n",
       "        5.67217189e+01,  1.67217189e+01,  3.72171887e+00,  7.21718873e-01,\n",
       "        9.72171887e+00, -2.78281127e-01,  1.72171887e+00,  2.87217189e+01])"
      ]
     },
     "execution_count": 117,
     "metadata": {},
     "output_type": "execute_result"
    }
   ],
   "source": [
    "## Ajout du bruit à l'histogramme de H2 avec epsilon = 1\n",
    "epsilon = 1\n",
    "\n",
    "df_income_over_50k_1 = df_income_over_50k_histogram + np.random.laplace(loc=0, scale=sensitivity_h2 /epsilon)\n",
    "df_income_over_50k_1"
   ]
  },
  {
   "cell_type": "code",
   "execution_count": 136,
   "metadata": {},
   "outputs": [
    {
     "data": {
      "text/html": [
       "<div>\n",
       "<style scoped>\n",
       "    .dataframe tbody tr th:only-of-type {\n",
       "        vertical-align: middle;\n",
       "    }\n",
       "\n",
       "    .dataframe tbody tr th {\n",
       "        vertical-align: top;\n",
       "    }\n",
       "\n",
       "    .dataframe thead th {\n",
       "        text-align: right;\n",
       "    }\n",
       "</style>\n",
       "<table border=\"1\" class=\"dataframe\">\n",
       "  <thead>\n",
       "    <tr style=\"text-align: right;\">\n",
       "      <th></th>\n",
       "      <th>histogram_bins</th>\n",
       "    </tr>\n",
       "  </thead>\n",
       "  <tbody>\n",
       "    <tr>\n",
       "      <th>0</th>\n",
       "      <td>10.721719</td>\n",
       "    </tr>\n",
       "    <tr>\n",
       "      <th>1</th>\n",
       "      <td>9.721719</td>\n",
       "    </tr>\n",
       "    <tr>\n",
       "      <th>2</th>\n",
       "      <td>22.721719</td>\n",
       "    </tr>\n",
       "    <tr>\n",
       "      <th>3</th>\n",
       "      <td>20.721719</td>\n",
       "    </tr>\n",
       "    <tr>\n",
       "      <th>4</th>\n",
       "      <td>13.721719</td>\n",
       "    </tr>\n",
       "    <tr>\n",
       "      <th>5</th>\n",
       "      <td>16.721719</td>\n",
       "    </tr>\n",
       "    <tr>\n",
       "      <th>6</th>\n",
       "      <td>20.721719</td>\n",
       "    </tr>\n",
       "    <tr>\n",
       "      <th>7</th>\n",
       "      <td>77.721719</td>\n",
       "    </tr>\n",
       "    <tr>\n",
       "      <th>8</th>\n",
       "      <td>5.721719</td>\n",
       "    </tr>\n",
       "    <tr>\n",
       "      <th>9</th>\n",
       "      <td>57.721719</td>\n",
       "    </tr>\n",
       "  </tbody>\n",
       "</table>\n",
       "</div>"
      ],
      "text/plain": [
       "   histogram_bins\n",
       "0       10.721719\n",
       "1        9.721719\n",
       "2       22.721719\n",
       "3       20.721719\n",
       "4       13.721719\n",
       "5       16.721719\n",
       "6       20.721719\n",
       "7       77.721719\n",
       "8        5.721719\n",
       "9       57.721719"
      ]
     },
     "execution_count": 136,
     "metadata": {},
     "output_type": "execute_result"
    }
   ],
   "source": [
    "pertub_income_histogram_1 = pd.DataFrame(df_income_over_50k_1)\n",
    "pertub_income_histogram_1.rename(index=str, columns={0:'histogram_bins'}).head(10)"
   ]
  },
  {
   "cell_type": "code",
   "execution_count": 137,
   "metadata": {},
   "outputs": [
    {
     "data": {
      "image/png": "[encoded data removed]",
      "text/plain": [
       "<Figure size 864x576 with 1 Axes>"
      ]
     },
     "metadata": {
      "needs_background": "light"
     },
     "output_type": "display_data"
    }
   ],
   "source": [
    "# Histograms \n",
    "plt.figure(figsize=(12,8))\n",
    "plt.hist(pertub_income_histogram_1, bins=40)\n",
    "plt.gca().set(title='Histogramme perturbé des horaires / semaine pour les personnes avec revenu >= 50K; e=1', xlabel='Working hours');"
   ]
  },
  {
   "cell_type": "markdown",
   "metadata": {},
   "source": [
    "#### L'augmentation du bins n'a pas d'effet sur l'histogramme( voir ci-dessus)"
   ]
  },
  {
   "cell_type": "markdown",
   "metadata": {},
   "source": [
    "# 2. Basic Fourier Perturbation Algorithm"
   ]
  },
  {
   "cell_type": "markdown",
   "metadata": {},
   "source": [
    "#### Q4.Implemention of the Basic FPA algorithm"
   ]
  },
  {
   "cell_type": "code",
   "execution_count": 31,
   "metadata": {},
   "outputs": [],
   "source": [
    "#Permet d'ajouter du bruit aux coefficients de Fourier en utilisant Laplace\n",
    "def lpa(input, k, scale):\n",
    "    output = []\n",
    "    for coef in np.fft.fft(input, k):\n",
    "        output.append(coef + np.random.laplace(loc=0, scale=scale))\n",
    "    \n",
    "    return np.asarray(output)\n",
    "\n",
    "#implementation de pda\n",
    "def pda(input, length):\n",
    "    return np.pad(input, (0, length), 'constant')\n",
    "\n",
    "#Implémentation de la fonction Basic Fourier Perturbation Algorithm\n",
    "def bfpa(input, k, scale):\n",
    "    lpa_result = lpa(input, k, scale)\n",
    "    pda_result = pda(lpa_result, len(input) - k)\n",
    "    return np.fft.ifft(pda_result).real"
   ]
  },
  {
   "cell_type": "markdown",
   "metadata": {},
   "source": [
    "#### Q5. Use Basic FPA to compute query H1"
   ]
  },
  {
   "cell_type": "code",
   "execution_count": 32,
   "metadata": {},
   "outputs": [
    {
     "data": {
      "text/plain": [
       "array([18.52531144, 17.26215315, 14.93417351, 12.25828063,  9.90649067,\n",
       "        8.28318454,  7.43495238,  7.11910422,  6.99082397,  6.82063562,\n",
       "        6.64256487,  6.76352776,  7.62392908,  9.56428558, 12.59656914,\n",
       "       16.28353626, 19.79153225, 22.1158473 , 22.40803485, 20.28903391,\n",
       "       16.02918439, 10.51895507,  5.0276746 ,  0.82491976, -1.20846775,\n",
       "       -0.84559226,  1.43769096,  4.64737609,  7.62392908,  9.43848926,\n",
       "        9.69404349,  8.62873599,  6.99082397,  5.73698009,  5.66755971,\n",
       "        7.1318055 ,  9.90649067, 13.28510945, 16.33678428, 18.23372768])"
      ]
     },
     "execution_count": 32,
     "metadata": {},
     "output_type": "execute_result"
    }
   ],
   "source": [
    "sensitivity = 1\n",
    "epsilon = 0.01\n",
    "coefficient_education_001 = bfpa(education_num_histogram, 5,  sensitivity/ epsilon)\n",
    "coefficient_education_001"
   ]
  },
  {
   "cell_type": "code",
   "execution_count": 33,
   "metadata": {},
   "outputs": [
    {
     "data": {
      "image/png": "[encoded data removed]",
      "text/plain": [
       "<Figure size 864x576 with 1 Axes>"
      ]
     },
     "metadata": {
      "needs_background": "light"
     },
     "output_type": "display_data"
    }
   ],
   "source": [
    "# Histograms \n",
    "plt.figure(figsize=(12,8))\n",
    "plt.hist(coefficient_education_001, bins=40)\n",
    "plt.gca().set(title='Perturbed Education Num ', xlabel='Education Level');"
   ]
  },
  {
   "cell_type": "code",
   "execution_count": 34,
   "metadata": {},
   "outputs": [
    {
     "data": {
      "text/plain": [
       "array([ 7.64797858e+00,  7.04618358e+00,  6.44687118e+00,  5.90335563e+00,\n",
       "        5.28330956e+00,  4.37221870e+00,  3.03823526e+00,  1.38146095e+00,\n",
       "       -2.07774858e-01, -1.12308651e+00, -7.36340443e-01,  1.35266667e+00,\n",
       "        5.10577548e+00,  9.96399491e+00,  1.49404779e+01,  1.88740359e+01,\n",
       "        2.07676254e+01,  2.01003384e+01,  1.70047067e+01,  1.22437323e+01,\n",
       "        6.98950958e+00,  2.47365345e+00, -3.75653582e-01, -1.19058912e+00,\n",
       "       -2.32374597e-01,  1.74490736e+00,  3.78159968e+00,  5.04708542e+00,\n",
       "        5.10577548e+00,  4.02762816e+00,  2.31513817e+00,  6.85013862e-01,\n",
       "       -2.07774858e-01, -6.63183031e-04,  1.27084259e+00,  3.22083966e+00,\n",
       "        5.28330956e+00,  6.93018445e+00,  7.84948195e+00,  8.01775811e+00])"
      ]
     },
     "execution_count": 34,
     "metadata": {},
     "output_type": "execute_result"
    }
   ],
   "source": [
    "#Epsilon = 0.1\n",
    "sensitivity = 1\n",
    "epsilon = 0.1\n",
    "\n",
    "df_education_num_01 = bfpa(education_num_histogram, 5,  sensitivity/ epsilon)\n",
    "df_education_num_01"
   ]
  },
  {
   "cell_type": "code",
   "execution_count": 35,
   "metadata": {},
   "outputs": [
    {
     "data": {
      "image/png": "[encoded data removed]",
      "text/plain": [
       "<Figure size 864x576 with 1 Axes>"
      ]
     },
     "metadata": {
      "needs_background": "light"
     },
     "output_type": "display_data"
    }
   ],
   "source": [
    "# Histograms \n",
    "plt.figure(figsize=(12,8))\n",
    "plt.hist(df_education_num_01, bins=40)\n",
    "plt.gca().set(title='Perturbed Education Num ', xlabel='Education Level');"
   ]
  },
  {
   "cell_type": "code",
   "execution_count": 36,
   "metadata": {},
   "outputs": [
    {
     "data": {
      "text/plain": [
       "array([ 6.36329447e+00,  5.90648742e+00,  5.69436924e+00,  5.65463381e+00,\n",
       "        5.49780424e+00,  4.87799475e+00,  3.60426697e+00,  1.80802995e+00,\n",
       "       -1.55876784e-02, -1.12698930e+00, -7.91971869e-01,  1.42431742e+00,\n",
       "        5.43136577e+00,  1.05502983e+01,  1.56541732e+01,  1.94785784e+01,\n",
       "        2.10048804e+01,  1.97870262e+01,  1.61073133e+01,  1.09029243e+01,\n",
       "        5.48353997e+00,  1.13284543e+00, -1.27304691e+00, -1.50390134e+00,\n",
       "        4.88044321e-03,  2.34944986e+00,  4.49529501e+00,  5.63338880e+00,\n",
       "        5.43136577e+00,  4.09927891e+00,  2.25950675e+00,  6.81111072e-01,\n",
       "       -1.55876784e-02,  4.25905819e-01,  1.83687429e+00,  3.72661571e+00,\n",
       "        5.49780424e+00,  6.68146262e+00,  7.09698001e+00,  6.87806195e+00])"
      ]
     },
     "execution_count": 36,
     "metadata": {},
     "output_type": "execute_result"
    }
   ],
   "source": [
    "#Epsilon = 1\n",
    "sensitivity = 1\n",
    "epsilon = 1\n",
    "\n",
    "df_education_num_1 = bfpa(education_num_histogram, 5,  sensitivity/ epsilon)\n",
    "df_education_num_1"
   ]
  },
  {
   "cell_type": "code",
   "execution_count": 37,
   "metadata": {},
   "outputs": [
    {
     "data": {
      "image/png": "[encoded data removed]",
      "text/plain": [
       "<Figure size 864x576 with 1 Axes>"
      ]
     },
     "metadata": {
      "needs_background": "light"
     },
     "output_type": "display_data"
    }
   ],
   "source": [
    "# Histograms \n",
    "plt.figure(figsize=(12,8))\n",
    "plt.hist(df_education_num_1, bins=40)\n",
    "plt.gca().set(title='Perturbed Education Num ', xlabel='Education Level');"
   ]
  },
  {
   "cell_type": "markdown",
   "metadata": {},
   "source": [
    "#### On constate qu'en utilisant la transformée de fourier l'histogramme obtenu est différent de celui des données non pertubées. Plus epsilon plus on se rapproche de l'histogramme des données non perturbées (données de départ)"
   ]
  },
  {
   "cell_type": "markdown",
   "metadata": {},
   "source": [
    "#### Q6. Use Basic FPA to compute query H2"
   ]
  },
  {
   "cell_type": "code",
   "execution_count": 38,
   "metadata": {},
   "outputs": [
    {
     "data": {
      "text/plain": [
       "array([-11003.98869704, -13754.96344338, -20738.25225184, -28632.17547918,\n",
       "       -33342.75002429, -31595.39176158, -22241.91633173,  -6793.27742075,\n",
       "        11021.48680395,  26506.51928175,  35597.62920533,  36221.24796204,\n",
       "        28923.93350597,  16561.19399283,   3187.82485382,  -7414.31271133,\n",
       "       -13011.51493588, -13527.93798924, -10789.16166641,  -7538.67822698,\n",
       "        -6146.16192425,  -7538.74267535, -10789.29309919, -13528.13541222,\n",
       "       -13011.76493588,  -7414.58281227,   3187.58596029,  16561.04732033,\n",
       "        28923.93350597,  36221.42428988,  35597.97330081,  26506.98155087,\n",
       "        11021.98680395,  -6792.82999777, -22241.59620827, -31595.23653711,\n",
       "       -33342.75002429, -28632.27880668, -20738.38368462, -13755.05096747])"
      ]
     },
     "execution_count": 38,
     "metadata": {},
     "output_type": "execute_result"
    }
   ],
   "source": [
    "epsilon = 0.01\n",
    "\n",
    "df_income_over_50k_001 = bfpa(df_income_over_50k_histogram, 5,  sensitivity_h2/ epsilon)\n",
    "df_income_over_50k_001"
   ]
  },
  {
   "cell_type": "code",
   "execution_count": 39,
   "metadata": {},
   "outputs": [
    {
     "data": {
      "image/png": "[encoded data removed]",
      "text/plain": [
       "<Figure size 864x576 with 1 Axes>"
      ]
     },
     "metadata": {
      "needs_background": "light"
     },
     "output_type": "display_data"
    }
   ],
   "source": [
    "# Histograms \n",
    "plt.figure(figsize=(12,8))\n",
    "plt.hist(df_income_over_50k_001, bins=40)\n",
    "plt.gca().set(title='Perturbed working Hours-per-week', xlabel='Working hours');"
   ]
  },
  {
   "cell_type": "code",
   "execution_count": 40,
   "metadata": {},
   "outputs": [
    {
     "data": {
      "text/plain": [
       "array([  283.95886192,   255.79642634,   171.23932873,    34.57713899,\n",
       "        -135.81009001,  -298.91445042,  -391.51970395,  -342.02199761,\n",
       "         -96.03053316,   354.26367001,   948.82473113,  1557.80330019,\n",
       "        2004.52678337,  2110.41836409,  1750.04297974,   899.01849294,\n",
       "        -342.23036321, -1759.54684455, -3070.9814964 , -3996.20583564,\n",
       "       -4329.74631755, -3996.27028401, -3071.11292918, -1759.74426753,\n",
       "        -342.48036321,   898.74839201,  1749.80408621,  2110.27169159,\n",
       "        2004.52678337,  1557.97962803,   949.16882661,   354.72593913,\n",
       "         -95.53053316,  -341.57457463,  -391.19958049,  -298.75922595,\n",
       "        -135.81009001,    34.47381149,   171.10789595,   255.70890225])"
      ]
     },
     "execution_count": 40,
     "metadata": {},
     "output_type": "execute_result"
    }
   ],
   "source": [
    "epsilon = 0.1\n",
    "\n",
    "df_income_over_50k_01 = bfpa(df_income_over_50k_histogram, 5,  sensitivity_h2/ epsilon)\n",
    "df_income_over_50k_01"
   ]
  },
  {
   "cell_type": "code",
   "execution_count": 41,
   "metadata": {},
   "outputs": [
    {
     "data": {
      "image/png": "[encoded data removed]",
      "text/plain": [
       "<Figure size 864x576 with 1 Axes>"
      ]
     },
     "metadata": {
      "needs_background": "light"
     },
     "output_type": "display_data"
    }
   ],
   "source": [
    "# Histograms \n",
    "plt.figure(figsize=(12,8))\n",
    "plt.hist(df_income_over_50k_01, bins=40)\n",
    "plt.gca().set(title='Perturbed working Hours-per-week', xlabel='Working hours');"
   ]
  },
  {
   "cell_type": "code",
   "execution_count": 42,
   "metadata": {},
   "outputs": [
    {
     "data": {
      "text/plain": [
       "array([ 130.16120446,  119.33069866,   88.13650964,   40.80464826,\n",
       "        -15.6577711 ,  -71.91594752, -117.44946885, -142.45476583,\n",
       "       -140.21987406, -109.34017765,  -54.98370361,   11.45332466,\n",
       "         74.53610787,  118.46671399,  131.32411539,  108.63266254,\n",
       "         55.0974158 ,  -16.17945183,  -86.94239456, -138.65100342,\n",
       "       -157.5903856 , -138.71545179,  -87.07382734,  -16.3768748 ,\n",
       "         54.8474158 ,  108.36256161,  131.08522186,  118.32004149,\n",
       "         74.53610787,   11.6296525 ,  -54.63960813, -108.87790853,\n",
       "       -139.71987406, -142.00734285, -117.12934539,  -71.76072305,\n",
       "        -15.6577711 ,   40.70132076,   88.00507686,  119.24317457])"
      ]
     },
     "execution_count": 42,
     "metadata": {},
     "output_type": "execute_result"
    }
   ],
   "source": [
    "epsilon = 1\n",
    "\n",
    "df_income_over_50k_1 = bfpa(df_income_over_50k_histogram, 5,  sensitivity_h2/ epsilon)\n",
    "df_income_over_50k_1"
   ]
  },
  {
   "cell_type": "code",
   "execution_count": 43,
   "metadata": {},
   "outputs": [
    {
     "data": {
      "image/png": "[encoded data removed]",
      "text/plain": [
       "<Figure size 864x576 with 1 Axes>"
      ]
     },
     "metadata": {
      "needs_background": "light"
     },
     "output_type": "display_data"
    }
   ],
   "source": [
    "# Histograms \n",
    "plt.figure(figsize=(12,8))\n",
    "plt.hist(df_income_over_50k_1, bins=40)\n",
    "plt.gca().set(title='Perturbed working Hours-per-week', xlabel='Working hours');"
   ]
  },
  {
   "cell_type": "markdown",
   "metadata": {},
   "source": [
    "## 3. Experimental Evaluation\n",
    "#### Q7. Compare the quality of the two algorithms on query H1 :\n",
    "##### Using Lapace"
   ]
  },
  {
   "cell_type": "code",
   "execution_count": 44,
   "metadata": {},
   "outputs": [],
   "source": [
    "def laplace_for_h1(data, sensitivity):\n",
    "    return data + np.random.laplace(loc=0, scale=sensitivity/epsilon) "
   ]
  },
  {
   "cell_type": "code",
   "execution_count": 45,
   "metadata": {},
   "outputs": [],
   "source": [
    "wass_distance_001 = [] # Wasserstein distance for epsilon = 0.01\n",
    "wass_distance_01 = []  # Wasserstein distance for epsilon = 0.1\n",
    "wass_distance_1 = []  # Wasserstein distance for epsilon = 1\n",
    "for i in range(20):\n",
    "    wass_distance_001.append(wasserstein_distance(education_num_histogram, laplace_for_h1(education_num_histogram, 0.01)))\n",
    "    wass_distance_01.append(wasserstein_distance(education_num_histogram, laplace_for_h1(education_num_histogram, 0.1)))\n",
    "    wass_distance_1.append(wasserstein_distance(education_num_histogram, laplace_for_h1(education_num_histogram, 1)))"
   ]
  },
  {
   "cell_type": "code",
   "execution_count": 46,
   "metadata": {},
   "outputs": [
    {
     "name": "stdout",
     "output_type": "stream",
     "text": [
      "epsilon = 0.01 : >> min: 0.00020526763916424852 max: 0.038728942982691895 average: 0.009807342727913787\n",
      "epsilon = 0.1 : >> min: 0.0011763937229744914 max: 0.36381722279697704 average: 0.10007784038969128\n",
      "epsilon = 1 : >> min: 0.0013094700345247065 max: 2.722484240044687 average: 0.758973011932867\n"
     ]
    }
   ],
   "source": [
    "#min\n",
    "min_e001 = np.amin(wass_distance_001)\n",
    "min_e01 = np.amin(wass_distance_01)\n",
    "min_e1 = np.amin(wass_distance_1)\n",
    "#max\n",
    "max_e001 = np.amax(wass_distance_001)\n",
    "max_e01 = np.amax(wass_distance_01)\n",
    "max_e1 = np.amax(wass_distance_1)\n",
    "\n",
    "#average\n",
    "average_e001 = np.average(wass_distance_001)\n",
    "average_e01 = np.average(wass_distance_01)\n",
    "average_e1 = np.average(wass_distance_1)\n",
    "\n",
    "print(\"epsilon = 0.01 : >>\", \"min:\", min_e001, \"max:\", max_e001, \"average:\", average_e001)\n",
    "print(\"epsilon = 0.1 : >>\", \"min:\", min_e01, \"max:\",max_e01, \"average:\", average_e01)\n",
    "print(\"epsilon = 1 : >>\", \"min:\", min_e1, \"max:\", max_e1, \"average:\", average_e1)"
   ]
  },
  {
   "cell_type": "code",
   "execution_count": 47,
   "metadata": {},
   "outputs": [
    {
     "data": {
      "text/plain": [
       "<matplotlib.collections.PathCollection at 0x284ee951b80>"
      ]
     },
     "execution_count": 47,
     "metadata": {},
     "output_type": "execute_result"
    },
    {
     "data": {
      "image/png": "[encoded data removed]",
      "text/plain": [
       "<Figure size 432x288 with 1 Axes>"
      ]
     },
     "metadata": {
      "needs_background": "light"
     },
     "output_type": "display_data"
    }
   ],
   "source": [
    "plt.scatter([0.01, 0.01, 0.01], [min_e001, max_e001, average_e001], c=\"red\")\n",
    "plt.scatter([0.1, 0.1, 0.1], [min_e01, max_e01, average_e01])\n",
    "plt.scatter([1, 1, 1], [min_e1, max_e1, average_e1])"
   ]
  },
  {
   "cell_type": "markdown",
   "metadata": {},
   "source": [
    "##### Using BFPA"
   ]
  },
  {
   "cell_type": "code",
   "execution_count": 48,
   "metadata": {},
   "outputs": [],
   "source": [
    "def bfpa_for_h1(data, sensitivity):\n",
    "    return  bfpa(data, 5,  sensitivity_h2/ epsilon)"
   ]
  },
  {
   "cell_type": "code",
   "execution_count": 49,
   "metadata": {},
   "outputs": [],
   "source": [
    "wass_distance_001 = [] # Wasserstein distance for epsilon = 0.01\n",
    "wass_distance_01 = []  # Wasserstein distance for epsilon = 0.1\n",
    "wass_distance_1 = []  # Wasserstein distance for epsilon = 1\n",
    "for i in range(20):\n",
    "    wass_distance_001.append(wasserstein_distance(education_num_histogram, bfpa_for_h1(education_num_histogram, 0.01)))\n",
    "    wass_distance_01.append(wasserstein_distance(education_num_histogram, bfpa_for_h1(education_num_histogram, 0.1)))\n",
    "    wass_distance_1.append(wasserstein_distance(education_num_histogram, bfpa_for_h1(education_num_histogram, 1)))"
   ]
  },
  {
   "cell_type": "code",
   "execution_count": 50,
   "metadata": {},
   "outputs": [
    {
     "name": "stdout",
     "output_type": "stream",
     "text": [
      "epsilon = 0.01 : >> min: 756.1017992123982 max: 1102.1733875159932 average: 851.1163671596463\n",
      "epsilon = 0.1 : >> min: 755.4507377310327 max: 1053.4038268638997 average: 853.1855188113102\n",
      "epsilon = 1 : >> min: 769.3302515410671 max: 925.7690875328339 average: 837.2374821639651\n"
     ]
    }
   ],
   "source": [
    "#min\n",
    "min_e001 = np.amin(wass_distance_001)\n",
    "min_e01 = np.amin(wass_distance_01)\n",
    "min_e1 = np.amin(wass_distance_1)\n",
    "#max\n",
    "max_e001 = np.amax(wass_distance_001)\n",
    "max_e01 = np.amax(wass_distance_01)\n",
    "max_e1 = np.amax(wass_distance_1)\n",
    "\n",
    "#average\n",
    "average_e001 = np.average(wass_distance_001)\n",
    "average_e01 = np.average(wass_distance_01)\n",
    "average_e1 = np.average(wass_distance_1)\n",
    "\n",
    "print(\"epsilon = 0.01 : >>\", \"min:\", min_e001, \"max:\", max_e001, \"average:\", average_e001)\n",
    "print(\"epsilon = 0.1 : >>\", \"min:\", min_e01, \"max:\",max_e01, \"average:\", average_e01)\n",
    "print(\"epsilon = 1 : >>\", \"min:\", min_e1, \"max:\", max_e1, \"average:\", average_e1)"
   ]
  },
  {
   "cell_type": "code",
   "execution_count": 51,
   "metadata": {},
   "outputs": [
    {
     "data": {
      "text/plain": [
       "<matplotlib.collections.PathCollection at 0x284ee429310>"
      ]
     },
     "execution_count": 51,
     "metadata": {},
     "output_type": "execute_result"
    },
    {
     "data": {
      "image/png": "[encoded data removed]",
      "text/plain": [
       "<Figure size 432x288 with 1 Axes>"
      ]
     },
     "metadata": {
      "needs_background": "light"
     },
     "output_type": "display_data"
    }
   ],
   "source": [
    "plt.scatter([0.01, 0.01, 0.01], [min_e001, max_e001, average_e001], c=\"red\")\n",
    "plt.scatter([0.1, 0.1, 0.1], [min_e01, max_e01, average_e01])\n",
    "plt.scatter([1, 1, 1], [min_e1, max_e1, average_e1])"
   ]
  },
  {
   "cell_type": "raw",
   "metadata": {},
   "source": [
    "En observant les deux graphes, on observe qu'avec basic fourier les distances sont beaucoup plus importantes (nuages des points espacés) alors qu'avec Laplace.\n",
    "Avec Laplace, quand epsilon = 1, la distance est importante tandis qu'on a le contraire avec Fourier. \n",
    "En augmentant epsilon, la distance augmente avec Laplace et on a l'effet inverse avec Fourier."
   ]
  },
  {
   "cell_type": "markdown",
   "metadata": {},
   "source": [
    "#### Q8 Compare the quality of the two algorithms on query H2 :"
   ]
  },
  {
   "cell_type": "code",
   "execution_count": 52,
   "metadata": {},
   "outputs": [],
   "source": [
    "bins = np.array([2, 4, 6, 8])"
   ]
  },
  {
   "cell_type": "markdown",
   "metadata": {},
   "source": [
    "##### En utilisant Laplace"
   ]
  },
  {
   "cell_type": "code",
   "execution_count": 53,
   "metadata": {},
   "outputs": [],
   "source": [
    "#Calcul des distances\n",
    "wass_distance_001 = []\n",
    "wass_distance_01 = [] \n",
    "wass_distance_1 = [] \n",
    "\n",
    "for i in range(20):\n",
    "    wass_distance_001.append(wasserstein_distance(bins, laplace_for_h1(bins, 0.01)))\n",
    "    wass_distance_01.append(wasserstein_distance(bins, laplace_for_h1(bins, 0.1)))\n",
    "    wass_distance_1.append(wasserstein_distance(bins, laplace_for_h1(bins, 1)))"
   ]
  },
  {
   "cell_type": "code",
   "execution_count": 54,
   "metadata": {},
   "outputs": [
    {
     "name": "stdout",
     "output_type": "stream",
     "text": [
      "epsilon = 0.01 : >> min: 0.00019660321905590195 max: 0.023244552949430064 average: 0.007871258576712512\n",
      "epsilon = 0.1 : >> min: 0.007625377460130922 max: 0.2721192477960701 average: 0.07699205100315687\n",
      "epsilon = 1 : >> min: 0.07420415661744051 max: 2.871332744107775 average: 0.8284286101092894\n"
     ]
    }
   ],
   "source": [
    "#min\n",
    "min_e001 = np.amin(wass_distance_001)\n",
    "min_e01 = np.amin(wass_distance_01)\n",
    "min_e1 = np.amin(wass_distance_1)\n",
    "#max\n",
    "max_e001 = np.amax(wass_distance_001)\n",
    "max_e01 = np.amax(wass_distance_01)\n",
    "max_e1 = np.amax(wass_distance_1)\n",
    "\n",
    "#average\n",
    "average_e001 = np.average(wass_distance_001)\n",
    "average_e01 = np.average(wass_distance_01)\n",
    "average_e1 = np.average(wass_distance_1)\n",
    "\n",
    "print(\"epsilon = 0.01 : >>\", \"min:\", min_e001, \"max:\", max_e001, \"average:\", average_e001)\n",
    "print(\"epsilon = 0.1 : >>\", \"min:\", min_e01, \"max:\",max_e01, \"average:\", average_e01)\n",
    "print(\"epsilon = 1 : >>\", \"min:\", min_e1, \"max:\", max_e1, \"average:\", average_e1)"
   ]
  },
  {
   "cell_type": "code",
   "execution_count": 55,
   "metadata": {},
   "outputs": [
    {
     "data": {
      "text/plain": [
       "<matplotlib.collections.PathCollection at 0x284ee09c1c0>"
      ]
     },
     "execution_count": 55,
     "metadata": {},
     "output_type": "execute_result"
    },
    {
     "data": {
      "image/png": "[encoded data removed]",
      "text/plain": [
       "<Figure size 432x288 with 1 Axes>"
      ]
     },
     "metadata": {
      "needs_background": "light"
     },
     "output_type": "display_data"
    }
   ],
   "source": [
    "#Affichage des distances dans un graphe\n",
    "plt.scatter([0.01, 0.01, 0.01], [min_e001, max_e001, average_e001], c=\"red\")\n",
    "plt.scatter([0.1, 0.1, 0.1], [min_e01, max_e01, average_e01])\n",
    "plt.scatter([1, 1, 1], [min_e1, max_e1, average_e1])"
   ]
  },
  {
   "cell_type": "raw",
   "metadata": {},
   "source": [
    "On observe que la courbe garde la même allure qu'avec les données de la requête H1."
   ]
  },
  {
   "cell_type": "markdown",
   "metadata": {},
   "source": [
    "#### † Vary the value of k for the Basic FPA algorithm. >> See implementation of bfpa"
   ]
  },
  {
   "cell_type": "code",
   "execution_count": null,
   "metadata": {},
   "outputs": [],
   "source": []
  }
 ],
 "metadata": {
  "kernelspec": {
   "display_name": "Python 3",
   "language": "python",
   "name": "python3"
  },
  "language_info": {
   "codemirror_mode": {
    "name": "ipython",
    "version": 3
   },
   "file_extension": ".py",
   "mimetype": "text/x-python",
   "name": "python",
   "nbconvert_exporter": "python",
   "pygments_lexer": "ipython3",
   "version": "3.8.5"
  }
 },
 "nbformat": 4,
 "nbformat_minor": 4
}
